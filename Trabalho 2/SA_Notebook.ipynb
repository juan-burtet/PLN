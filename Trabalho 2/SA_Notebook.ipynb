{
 "cells": [
  {
   "cell_type": "markdown",
   "metadata": {},
   "source": [
    "# **Análise de Sentimentos de _Reviews_ de produtos na plataforma Steam**"
   ]
  },
  {
   "cell_type": "markdown",
   "metadata": {},
   "source": [
    "## **Importando bibliotecas**"
   ]
  },
  {
   "cell_type": "code",
   "execution_count": 1,
   "metadata": {},
   "outputs": [],
   "source": [
    "import pandas as pd\n",
    "import nltk\n",
    "import matplotlib.pyplot as plt\n",
    "import numpy as np \n",
    "import re\n",
    "import string\n",
    "import unidecode"
   ]
  },
  {
   "cell_type": "code",
   "execution_count": 2,
   "metadata": {},
   "outputs": [
    {
     "name": "stderr",
     "output_type": "stream",
     "text": [
      "[nltk_data] Downloading package stopwords to\n",
      "[nltk_data]     /home/felipegruend/nltk_data...\n",
      "[nltk_data]   Package stopwords is already up-to-date!\n"
     ]
    },
    {
     "data": {
      "text/plain": [
       "True"
      ]
     },
     "execution_count": 2,
     "metadata": {},
     "output_type": "execute_result"
    }
   ],
   "source": [
    "nltk.download('stopwords')"
   ]
  },
  {
   "cell_type": "markdown",
   "metadata": {},
   "source": [
    "## **Carregando _dataset_** "
   ]
  },
  {
   "cell_type": "code",
   "execution_count": 3,
   "metadata": {},
   "outputs": [],
   "source": [
    "data = pd.read_csv('dataset/steam_reviews.tsv', sep='\\t')[['review', 'voted_up']]"
   ]
  },
  {
   "cell_type": "code",
   "execution_count": 4,
   "metadata": {},
   "outputs": [
    {
     "data": {
      "text/html": [
       "<div>\n",
       "<style scoped>\n",
       "    .dataframe tbody tr th:only-of-type {\n",
       "        vertical-align: middle;\n",
       "    }\n",
       "\n",
       "    .dataframe tbody tr th {\n",
       "        vertical-align: top;\n",
       "    }\n",
       "\n",
       "    .dataframe thead th {\n",
       "        text-align: right;\n",
       "    }\n",
       "</style>\n",
       "<table border=\"1\" class=\"dataframe\">\n",
       "  <thead>\n",
       "    <tr style=\"text-align: right;\">\n",
       "      <th></th>\n",
       "      <th>review</th>\n",
       "      <th>voted_up</th>\n",
       "    </tr>\n",
       "  </thead>\n",
       "  <tbody>\n",
       "    <tr>\n",
       "      <td>count</td>\n",
       "      <td>507051</td>\n",
       "      <td>507052</td>\n",
       "    </tr>\n",
       "    <tr>\n",
       "      <td>unique</td>\n",
       "      <td>506693</td>\n",
       "      <td>2</td>\n",
       "    </tr>\n",
       "    <tr>\n",
       "      <td>top</td>\n",
       "      <td>Err:507</td>\n",
       "      <td>True</td>\n",
       "    </tr>\n",
       "    <tr>\n",
       "      <td>freq</td>\n",
       "      <td>226</td>\n",
       "      <td>460579</td>\n",
       "    </tr>\n",
       "  </tbody>\n",
       "</table>\n",
       "</div>"
      ],
      "text/plain": [
       "         review voted_up\n",
       "count    507051   507052\n",
       "unique   506693        2\n",
       "top     Err:507     True\n",
       "freq        226   460579"
      ]
     },
     "execution_count": 4,
     "metadata": {},
     "output_type": "execute_result"
    }
   ],
   "source": [
    "data.describe()"
   ]
  },
  {
   "cell_type": "code",
   "execution_count": 5,
   "metadata": {},
   "outputs": [
    {
     "data": {
      "text/plain": [
       "review      object\n",
       "voted_up      bool\n",
       "dtype: object"
      ]
     },
     "execution_count": 5,
     "metadata": {},
     "output_type": "execute_result"
    }
   ],
   "source": [
    "data.dtypes"
   ]
  },
  {
   "cell_type": "code",
   "execution_count": 6,
   "metadata": {},
   "outputs": [
    {
     "data": {
      "text/html": [
       "<div>\n",
       "<style scoped>\n",
       "    .dataframe tbody tr th:only-of-type {\n",
       "        vertical-align: middle;\n",
       "    }\n",
       "\n",
       "    .dataframe tbody tr th {\n",
       "        vertical-align: top;\n",
       "    }\n",
       "\n",
       "    .dataframe thead th {\n",
       "        text-align: right;\n",
       "    }\n",
       "</style>\n",
       "<table border=\"1\" class=\"dataframe\">\n",
       "  <thead>\n",
       "    <tr style=\"text-align: right;\">\n",
       "      <th></th>\n",
       "      <th>review</th>\n",
       "      <th>voted_up</th>\n",
       "    </tr>\n",
       "  </thead>\n",
       "  <tbody>\n",
       "    <tr>\n",
       "      <td>0</td>\n",
       "      <td>Corrupted é um jogo de RPG bem simplificado, o...</td>\n",
       "      <td>True</td>\n",
       "    </tr>\n",
       "    <tr>\n",
       "      <td>1</td>\n",
       "      <td>Meu PC tem uma placa de vídeo equivalente a GT...</td>\n",
       "      <td>False</td>\n",
       "    </tr>\n",
       "    <tr>\n",
       "      <td>2</td>\n",
       "      <td>Muito Bom! O meu diz que é recomendado  specs:...</td>\n",
       "      <td>True</td>\n",
       "    </tr>\n",
       "    <tr>\n",
       "      <td>3</td>\n",
       "      <td>Funciona</td>\n",
       "      <td>True</td>\n",
       "    </tr>\n",
       "    <tr>\n",
       "      <td>4</td>\n",
       "      <td>Muito bom o Steam VR, Very good.</td>\n",
       "      <td>True</td>\n",
       "    </tr>\n",
       "    <tr>\n",
       "      <td>...</td>\n",
       "      <td>...</td>\n",
       "      <td>...</td>\n",
       "    </tr>\n",
       "    <tr>\n",
       "      <td>507047</td>\n",
       "      <td>Vamos lá, devido a falta de reviews em pt-br v...</td>\n",
       "      <td>True</td>\n",
       "    </tr>\n",
       "    <tr>\n",
       "      <td>507048</td>\n",
       "      <td>Joguei a versão v.0.85.1.1.753323 O jogo até o...</td>\n",
       "      <td>True</td>\n",
       "    </tr>\n",
       "    <tr>\n",
       "      <td>507049</td>\n",
       "      <td>Consegui o que eu queria, então foda-se :D</td>\n",
       "      <td>True</td>\n",
       "    </tr>\n",
       "    <tr>\n",
       "      <td>507050</td>\n",
       "      <td>Mao meno, jogo muito monotomo, para celular ir...</td>\n",
       "      <td>False</td>\n",
       "    </tr>\n",
       "    <tr>\n",
       "      <td>507051</td>\n",
       "      <td>taê diversão gastando pouquissimo.</td>\n",
       "      <td>True</td>\n",
       "    </tr>\n",
       "  </tbody>\n",
       "</table>\n",
       "<p>507052 rows × 2 columns</p>\n",
       "</div>"
      ],
      "text/plain": [
       "                                                   review  voted_up\n",
       "0       Corrupted é um jogo de RPG bem simplificado, o...      True\n",
       "1       Meu PC tem uma placa de vídeo equivalente a GT...     False\n",
       "2       Muito Bom! O meu diz que é recomendado  specs:...      True\n",
       "3                                                Funciona      True\n",
       "4                        Muito bom o Steam VR, Very good.      True\n",
       "...                                                   ...       ...\n",
       "507047  Vamos lá, devido a falta de reviews em pt-br v...      True\n",
       "507048  Joguei a versão v.0.85.1.1.753323 O jogo até o...      True\n",
       "507049         Consegui o que eu queria, então foda-se :D      True\n",
       "507050  Mao meno, jogo muito monotomo, para celular ir...     False\n",
       "507051                 taê diversão gastando pouquissimo.      True\n",
       "\n",
       "[507052 rows x 2 columns]"
      ]
     },
     "execution_count": 6,
     "metadata": {},
     "output_type": "execute_result"
    }
   ],
   "source": [
    "data"
   ]
  },
  {
   "cell_type": "markdown",
   "metadata": {},
   "source": [
    "### **Separando Exemplos**"
   ]
  },
  {
   "cell_type": "markdown",
   "metadata": {},
   "source": [
    "#### Selecionando apenas Exemplos Positivos"
   ]
  },
  {
   "cell_type": "code",
   "execution_count": 7,
   "metadata": {},
   "outputs": [
    {
     "data": {
      "text/html": [
       "<div>\n",
       "<style scoped>\n",
       "    .dataframe tbody tr th:only-of-type {\n",
       "        vertical-align: middle;\n",
       "    }\n",
       "\n",
       "    .dataframe tbody tr th {\n",
       "        vertical-align: top;\n",
       "    }\n",
       "\n",
       "    .dataframe thead th {\n",
       "        text-align: right;\n",
       "    }\n",
       "</style>\n",
       "<table border=\"1\" class=\"dataframe\">\n",
       "  <thead>\n",
       "    <tr style=\"text-align: right;\">\n",
       "      <th></th>\n",
       "      <th>review</th>\n",
       "      <th>voted_up</th>\n",
       "    </tr>\n",
       "  </thead>\n",
       "  <tbody>\n",
       "    <tr>\n",
       "      <td>7731</td>\n",
       "      <td>Jogo muito bom, jogabilidade exelente, enredo ...</td>\n",
       "      <td>True</td>\n",
       "    </tr>\n",
       "    <tr>\n",
       "      <td>392402</td>\n",
       "      <td>um otimo game mas para mim falta brasileiros n...</td>\n",
       "      <td>True</td>\n",
       "    </tr>\n",
       "    <tr>\n",
       "      <td>203058</td>\n",
       "      <td>É um RPG antigo ,,muito bom,,</td>\n",
       "      <td>True</td>\n",
       "    </tr>\n",
       "    <tr>\n",
       "      <td>333981</td>\n",
       "      <td>quem ja jogou e zerou o primeiro, concerterza ...</td>\n",
       "      <td>True</td>\n",
       "    </tr>\n",
       "    <tr>\n",
       "      <td>337751</td>\n",
       "      <td>T0P!</td>\n",
       "      <td>True</td>\n",
       "    </tr>\n",
       "    <tr>\n",
       "      <td>...</td>\n",
       "      <td>...</td>\n",
       "      <td>...</td>\n",
       "    </tr>\n",
       "    <tr>\n",
       "      <td>69996</td>\n",
       "      <td>Jogo mto bom , é mto legal de jogar com amigos...</td>\n",
       "      <td>True</td>\n",
       "    </tr>\n",
       "    <tr>\n",
       "      <td>387345</td>\n",
       "      <td>WHATS</td>\n",
       "      <td>True</td>\n",
       "    </tr>\n",
       "    <tr>\n",
       "      <td>62081</td>\n",
       "      <td>Jogo muito bom. Esperando pelo próximo capítulo!</td>\n",
       "      <td>True</td>\n",
       "    </tr>\n",
       "    <tr>\n",
       "      <td>73822</td>\n",
       "      <td>Melhor jogo  coop</td>\n",
       "      <td>True</td>\n",
       "    </tr>\n",
       "    <tr>\n",
       "      <td>301999</td>\n",
       "      <td>Jogo divertido caso você jogue bastante com os...</td>\n",
       "      <td>True</td>\n",
       "    </tr>\n",
       "  </tbody>\n",
       "</table>\n",
       "<p>46000 rows × 2 columns</p>\n",
       "</div>"
      ],
      "text/plain": [
       "                                                   review  voted_up\n",
       "7731    Jogo muito bom, jogabilidade exelente, enredo ...      True\n",
       "392402  um otimo game mas para mim falta brasileiros n...      True\n",
       "203058                      É um RPG antigo ,,muito bom,,      True\n",
       "333981  quem ja jogou e zerou o primeiro, concerterza ...      True\n",
       "337751                                               T0P!      True\n",
       "...                                                   ...       ...\n",
       "69996   Jogo mto bom , é mto legal de jogar com amigos...      True\n",
       "387345                                              WHATS      True\n",
       "62081    Jogo muito bom. Esperando pelo próximo capítulo!      True\n",
       "73822                                   Melhor jogo  coop      True\n",
       "301999  Jogo divertido caso você jogue bastante com os...      True\n",
       "\n",
       "[46000 rows x 2 columns]"
      ]
     },
     "execution_count": 7,
     "metadata": {},
     "output_type": "execute_result"
    }
   ],
   "source": [
    "positive = data[data['voted_up'] == True].sample(46000)\n",
    "positive"
   ]
  },
  {
   "cell_type": "markdown",
   "metadata": {},
   "source": [
    "#### Selecionando apenas Exemplos Negativos"
   ]
  },
  {
   "cell_type": "code",
   "execution_count": 8,
   "metadata": {},
   "outputs": [
    {
     "data": {
      "text/html": [
       "<div>\n",
       "<style scoped>\n",
       "    .dataframe tbody tr th:only-of-type {\n",
       "        vertical-align: middle;\n",
       "    }\n",
       "\n",
       "    .dataframe tbody tr th {\n",
       "        vertical-align: top;\n",
       "    }\n",
       "\n",
       "    .dataframe thead th {\n",
       "        text-align: right;\n",
       "    }\n",
       "</style>\n",
       "<table border=\"1\" class=\"dataframe\">\n",
       "  <thead>\n",
       "    <tr style=\"text-align: right;\">\n",
       "      <th></th>\n",
       "      <th>review</th>\n",
       "      <th>voted_up</th>\n",
       "    </tr>\n",
       "  </thead>\n",
       "  <tbody>\n",
       "    <tr>\n",
       "      <td>325589</td>\n",
       "      <td>nao recomendo, nao gosto e nao quero</td>\n",
       "      <td>False</td>\n",
       "    </tr>\n",
       "    <tr>\n",
       "      <td>251535</td>\n",
       "      <td>O Jogo é muito bom , mas muuito bom que não qu...</td>\n",
       "      <td>False</td>\n",
       "    </tr>\n",
       "    <tr>\n",
       "      <td>293320</td>\n",
       "      <td>A falta de servidores brasileiros dificultam, ...</td>\n",
       "      <td>False</td>\n",
       "    </tr>\n",
       "    <tr>\n",
       "      <td>125035</td>\n",
       "      <td>Na minha opnião ele parece mais um jogo de cel...</td>\n",
       "      <td>False</td>\n",
       "    </tr>\n",
       "    <tr>\n",
       "      <td>334750</td>\n",
       "      <td>O jogo tinha potencial, porém virou um MoneyMa...</td>\n",
       "      <td>False</td>\n",
       "    </tr>\n",
       "    <tr>\n",
       "      <td>...</td>\n",
       "      <td>...</td>\n",
       "      <td>...</td>\n",
       "    </tr>\n",
       "    <tr>\n",
       "      <td>501949</td>\n",
       "      <td>tem muita queda de fps</td>\n",
       "      <td>False</td>\n",
       "    </tr>\n",
       "    <tr>\n",
       "      <td>360307</td>\n",
       "      <td>uma bosta :D</td>\n",
       "      <td>False</td>\n",
       "    </tr>\n",
       "    <tr>\n",
       "      <td>31295</td>\n",
       "      <td>O jogo é bom e tem uma ótima premissa, mas as ...</td>\n",
       "      <td>False</td>\n",
       "    </tr>\n",
       "    <tr>\n",
       "      <td>261237</td>\n",
       "      <td>Sem grafico e chato enjoante,reembolso salva E...</td>\n",
       "      <td>False</td>\n",
       "    </tr>\n",
       "    <tr>\n",
       "      <td>51551</td>\n",
       "      <td>Um jogo desses tão simples, não abre num PC co...</td>\n",
       "      <td>False</td>\n",
       "    </tr>\n",
       "  </tbody>\n",
       "</table>\n",
       "<p>46000 rows × 2 columns</p>\n",
       "</div>"
      ],
      "text/plain": [
       "                                                   review  voted_up\n",
       "325589               nao recomendo, nao gosto e nao quero     False\n",
       "251535  O Jogo é muito bom , mas muuito bom que não qu...     False\n",
       "293320  A falta de servidores brasileiros dificultam, ...     False\n",
       "125035  Na minha opnião ele parece mais um jogo de cel...     False\n",
       "334750  O jogo tinha potencial, porém virou um MoneyMa...     False\n",
       "...                                                   ...       ...\n",
       "501949                             tem muita queda de fps     False\n",
       "360307                                      uma bosta :D      False\n",
       "31295   O jogo é bom e tem uma ótima premissa, mas as ...     False\n",
       "261237  Sem grafico e chato enjoante,reembolso salva E...     False\n",
       "51551   Um jogo desses tão simples, não abre num PC co...     False\n",
       "\n",
       "[46000 rows x 2 columns]"
      ]
     },
     "execution_count": 8,
     "metadata": {},
     "output_type": "execute_result"
    }
   ],
   "source": [
    "negative = data[data['voted_up'] == False].sample(46000)\n",
    "negative"
   ]
  },
  {
   "cell_type": "markdown",
   "metadata": {},
   "source": [
    "#### Concatenando os dados e misturando-os"
   ]
  },
  {
   "cell_type": "code",
   "execution_count": 9,
   "metadata": {},
   "outputs": [],
   "source": [
    "frames = [positive, negative]\n",
    "data = pd.concat(frames)"
   ]
  },
  {
   "cell_type": "code",
   "execution_count": 10,
   "metadata": {},
   "outputs": [],
   "source": [
    "data = data.sample(frac=1).reset_index(drop=True)"
   ]
  },
  {
   "cell_type": "code",
   "execution_count": 11,
   "metadata": {},
   "outputs": [
    {
     "data": {
      "text/html": [
       "<div>\n",
       "<style scoped>\n",
       "    .dataframe tbody tr th:only-of-type {\n",
       "        vertical-align: middle;\n",
       "    }\n",
       "\n",
       "    .dataframe tbody tr th {\n",
       "        vertical-align: top;\n",
       "    }\n",
       "\n",
       "    .dataframe thead th {\n",
       "        text-align: right;\n",
       "    }\n",
       "</style>\n",
       "<table border=\"1\" class=\"dataframe\">\n",
       "  <thead>\n",
       "    <tr style=\"text-align: right;\">\n",
       "      <th></th>\n",
       "      <th>review</th>\n",
       "      <th>voted_up</th>\n",
       "    </tr>\n",
       "  </thead>\n",
       "  <tbody>\n",
       "    <tr>\n",
       "      <td>0</td>\n",
       "      <td>A jogabilidade é muito travada de modo a torna...</td>\n",
       "      <td>False</td>\n",
       "    </tr>\n",
       "    <tr>\n",
       "      <td>1</td>\n",
       "      <td>O lol dos mechs xD... muito divertido, pena qu...</td>\n",
       "      <td>True</td>\n",
       "    </tr>\n",
       "    <tr>\n",
       "      <td>2</td>\n",
       "      <td>Não comprem, nem da pra jogar online.</td>\n",
       "      <td>False</td>\n",
       "    </tr>\n",
       "    <tr>\n",
       "      <td>3</td>\n",
       "      <td>Um dos melhores jogos de Dragon Ball, valeu a ...</td>\n",
       "      <td>True</td>\n",
       "    </tr>\n",
       "    <tr>\n",
       "      <td>4</td>\n",
       "      <td>O jogo tem uma ótima trilha sonora, e boa hist...</td>\n",
       "      <td>True</td>\n",
       "    </tr>\n",
       "    <tr>\n",
       "      <td>...</td>\n",
       "      <td>...</td>\n",
       "      <td>...</td>\n",
       "    </tr>\n",
       "    <tr>\n",
       "      <td>91995</td>\n",
       "      <td>Tem um potencial imenso, mas... No lançamento ...</td>\n",
       "      <td>False</td>\n",
       "    </tr>\n",
       "    <tr>\n",
       "      <td>91996</td>\n",
       "      <td>eu me arrependo de ter jogando fora</td>\n",
       "      <td>True</td>\n",
       "    </tr>\n",
       "    <tr>\n",
       "      <td>91997</td>\n",
       "      <td>Achei que seria aquele tipo de passe que qualq...</td>\n",
       "      <td>False</td>\n",
       "    </tr>\n",
       "    <tr>\n",
       "      <td>91998</td>\n",
       "      <td>One of the best games of all time.</td>\n",
       "      <td>True</td>\n",
       "    </tr>\n",
       "    <tr>\n",
       "      <td>91999</td>\n",
       "      <td>E UM OTIMO JOGO, MAS EXISTE ALTOS E BAIXOS - E...</td>\n",
       "      <td>False</td>\n",
       "    </tr>\n",
       "  </tbody>\n",
       "</table>\n",
       "<p>92000 rows × 2 columns</p>\n",
       "</div>"
      ],
      "text/plain": [
       "                                                  review  voted_up\n",
       "0      A jogabilidade é muito travada de modo a torna...     False\n",
       "1      O lol dos mechs xD... muito divertido, pena qu...      True\n",
       "2                  Não comprem, nem da pra jogar online.     False\n",
       "3      Um dos melhores jogos de Dragon Ball, valeu a ...      True\n",
       "4      O jogo tem uma ótima trilha sonora, e boa hist...      True\n",
       "...                                                  ...       ...\n",
       "91995  Tem um potencial imenso, mas... No lançamento ...     False\n",
       "91996               eu me arrependo de ter jogando fora       True\n",
       "91997  Achei que seria aquele tipo de passe que qualq...     False\n",
       "91998                 One of the best games of all time.      True\n",
       "91999  E UM OTIMO JOGO, MAS EXISTE ALTOS E BAIXOS - E...     False\n",
       "\n",
       "[92000 rows x 2 columns]"
      ]
     },
     "execution_count": 11,
     "metadata": {},
     "output_type": "execute_result"
    }
   ],
   "source": [
    "data"
   ]
  },
  {
   "cell_type": "markdown",
   "metadata": {},
   "source": [
    "## **Processando os Dados**"
   ]
  },
  {
   "cell_type": "code",
   "execution_count": 12,
   "metadata": {},
   "outputs": [],
   "source": [
    "def process_data(df):\n",
    "    \n",
    "    # To lowercase\n",
    "    df['review'] = df['review'].str.lower()\n",
    "    \n",
    "    # Removing punctuations\n",
    "    df['review'] = df['review'].str.replace('[^\\w\\s]','')\n",
    "    \n",
    "    # Removing all single characters\n",
    "    df['review'] = df['review'].str.replace('\\s+[a-zA-Z]\\s+',' ')\n",
    "    \n",
    "    # Removing all single characters from the start\n",
    "    df['review'] = df['review'].str.replace('\\^[a-zA-Z]\\s+',' ')\n",
    "    \n",
    "    # Substituting multiple spaces with single space\n",
    "    df['review'] = df['review'].str.replace('\\s+',' ')\n",
    "    \n",
    "    # Removing accents\n",
    "    remove_accent = lambda x: unidecode.unidecode(x)\n",
    "    df['review'] = df['review'].apply(remove_accent)\n",
    "    \n",
    "    return df"
   ]
  },
  {
   "cell_type": "code",
   "execution_count": 13,
   "metadata": {},
   "outputs": [
    {
     "data": {
      "text/html": [
       "<div>\n",
       "<style scoped>\n",
       "    .dataframe tbody tr th:only-of-type {\n",
       "        vertical-align: middle;\n",
       "    }\n",
       "\n",
       "    .dataframe tbody tr th {\n",
       "        vertical-align: top;\n",
       "    }\n",
       "\n",
       "    .dataframe thead th {\n",
       "        text-align: right;\n",
       "    }\n",
       "</style>\n",
       "<table border=\"1\" class=\"dataframe\">\n",
       "  <thead>\n",
       "    <tr style=\"text-align: right;\">\n",
       "      <th></th>\n",
       "      <th>review</th>\n",
       "      <th>voted_up</th>\n",
       "    </tr>\n",
       "  </thead>\n",
       "  <tbody>\n",
       "    <tr>\n",
       "      <td>0</td>\n",
       "      <td>a jogabilidade e muito travada de modo tornar ...</td>\n",
       "      <td>False</td>\n",
       "    </tr>\n",
       "    <tr>\n",
       "      <td>1</td>\n",
       "      <td>o lol dos mechs xd muito divertido pena que po...</td>\n",
       "      <td>True</td>\n",
       "    </tr>\n",
       "    <tr>\n",
       "      <td>2</td>\n",
       "      <td>nao comprem nem da pra jogar online</td>\n",
       "      <td>False</td>\n",
       "    </tr>\n",
       "    <tr>\n",
       "      <td>3</td>\n",
       "      <td>um dos melhores jogos de dragon ball valeu pen...</td>\n",
       "      <td>True</td>\n",
       "    </tr>\n",
       "    <tr>\n",
       "      <td>4</td>\n",
       "      <td>o jogo tem uma otima trilha sonora boa histori...</td>\n",
       "      <td>True</td>\n",
       "    </tr>\n",
       "    <tr>\n",
       "      <td>...</td>\n",
       "      <td>...</td>\n",
       "      <td>...</td>\n",
       "    </tr>\n",
       "    <tr>\n",
       "      <td>91995</td>\n",
       "      <td>tem um potencial imenso mas no lancamento do c...</td>\n",
       "      <td>False</td>\n",
       "    </tr>\n",
       "    <tr>\n",
       "      <td>91996</td>\n",
       "      <td>eu me arrependo de ter jogando fora</td>\n",
       "      <td>True</td>\n",
       "    </tr>\n",
       "    <tr>\n",
       "      <td>91997</td>\n",
       "      <td>achei que seria aquele tipo de passe que qualq...</td>\n",
       "      <td>False</td>\n",
       "    </tr>\n",
       "    <tr>\n",
       "      <td>91998</td>\n",
       "      <td>one of the best games of all time</td>\n",
       "      <td>True</td>\n",
       "    </tr>\n",
       "    <tr>\n",
       "      <td>91999</td>\n",
       "      <td>e um otimo jogo mas existe altos baixos exmuit...</td>\n",
       "      <td>False</td>\n",
       "    </tr>\n",
       "  </tbody>\n",
       "</table>\n",
       "<p>92000 rows × 2 columns</p>\n",
       "</div>"
      ],
      "text/plain": [
       "                                                  review  voted_up\n",
       "0      a jogabilidade e muito travada de modo tornar ...     False\n",
       "1      o lol dos mechs xd muito divertido pena que po...      True\n",
       "2                    nao comprem nem da pra jogar online     False\n",
       "3      um dos melhores jogos de dragon ball valeu pen...      True\n",
       "4      o jogo tem uma otima trilha sonora boa histori...      True\n",
       "...                                                  ...       ...\n",
       "91995  tem um potencial imenso mas no lancamento do c...     False\n",
       "91996               eu me arrependo de ter jogando fora       True\n",
       "91997  achei que seria aquele tipo de passe que qualq...     False\n",
       "91998                  one of the best games of all time      True\n",
       "91999  e um otimo jogo mas existe altos baixos exmuit...     False\n",
       "\n",
       "[92000 rows x 2 columns]"
      ]
     },
     "execution_count": 13,
     "metadata": {},
     "output_type": "execute_result"
    }
   ],
   "source": [
    "data = process_data(data)\n",
    "data"
   ]
  }
 ],
 "metadata": {
  "kernelspec": {
   "display_name": "Python 3",
   "language": "python",
   "name": "python3"
  },
  "language_info": {
   "codemirror_mode": {
    "name": "ipython",
    "version": 3
   },
   "file_extension": ".py",
   "mimetype": "text/x-python",
   "name": "python",
   "nbconvert_exporter": "python",
   "pygments_lexer": "ipython3",
   "version": "3.7.4"
  }
 },
 "nbformat": 4,
 "nbformat_minor": 4
}
