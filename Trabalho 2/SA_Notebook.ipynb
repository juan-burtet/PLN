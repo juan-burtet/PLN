{
 "cells": [
  {
   "cell_type": "markdown",
   "metadata": {},
   "source": [
    "# **Análise de Sentimentos de _Reviews_ de produtos na plataforma Steam**"
   ]
  },
  {
   "cell_type": "markdown",
   "metadata": {},
   "source": [
    "## **Importando bibliotecas**"
   ]
  },
  {
   "cell_type": "code",
   "execution_count": 1,
   "metadata": {},
   "outputs": [],
   "source": [
    "import pandas as pd\n",
    "import nltk\n",
    "import matplotlib.pyplot as plt\n",
    "import numpy as np \n",
    "import re\n",
    "import string\n",
    "import unidecode"
   ]
  },
  {
   "cell_type": "code",
   "execution_count": 2,
   "metadata": {},
   "outputs": [
    {
     "name": "stderr",
     "output_type": "stream",
     "text": [
      "[nltk_data] Downloading package stopwords to /home/juan-\n",
      "[nltk_data]     burtet/nltk_data...\n",
      "[nltk_data]   Package stopwords is already up-to-date!\n"
     ]
    },
    {
     "data": {
      "text/plain": [
       "True"
      ]
     },
     "execution_count": 2,
     "metadata": {},
     "output_type": "execute_result"
    }
   ],
   "source": [
    "nltk.download('stopwords')"
   ]
  },
  {
   "cell_type": "markdown",
   "metadata": {},
   "source": [
    "## **Carregando _dataset_** "
   ]
  },
  {
   "cell_type": "code",
   "execution_count": 3,
   "metadata": {},
   "outputs": [],
   "source": [
    "data = pd.read_csv('dataset/steam_reviews.tsv', sep='\\t')[['review', 'voted_up']]"
   ]
  },
  {
   "cell_type": "code",
   "execution_count": 4,
   "metadata": {},
   "outputs": [
    {
     "data": {
      "text/html": [
       "<div>\n",
       "<style scoped>\n",
       "    .dataframe tbody tr th:only-of-type {\n",
       "        vertical-align: middle;\n",
       "    }\n",
       "\n",
       "    .dataframe tbody tr th {\n",
       "        vertical-align: top;\n",
       "    }\n",
       "\n",
       "    .dataframe thead th {\n",
       "        text-align: right;\n",
       "    }\n",
       "</style>\n",
       "<table border=\"1\" class=\"dataframe\">\n",
       "  <thead>\n",
       "    <tr style=\"text-align: right;\">\n",
       "      <th></th>\n",
       "      <th>review</th>\n",
       "      <th>voted_up</th>\n",
       "    </tr>\n",
       "  </thead>\n",
       "  <tbody>\n",
       "    <tr>\n",
       "      <td>count</td>\n",
       "      <td>507051</td>\n",
       "      <td>507052</td>\n",
       "    </tr>\n",
       "    <tr>\n",
       "      <td>unique</td>\n",
       "      <td>506693</td>\n",
       "      <td>2</td>\n",
       "    </tr>\n",
       "    <tr>\n",
       "      <td>top</td>\n",
       "      <td>Err:507</td>\n",
       "      <td>True</td>\n",
       "    </tr>\n",
       "    <tr>\n",
       "      <td>freq</td>\n",
       "      <td>226</td>\n",
       "      <td>460579</td>\n",
       "    </tr>\n",
       "  </tbody>\n",
       "</table>\n",
       "</div>"
      ],
      "text/plain": [
       "         review voted_up\n",
       "count    507051   507052\n",
       "unique   506693        2\n",
       "top     Err:507     True\n",
       "freq        226   460579"
      ]
     },
     "execution_count": 4,
     "metadata": {},
     "output_type": "execute_result"
    }
   ],
   "source": [
    "data.describe()"
   ]
  },
  {
   "cell_type": "code",
   "execution_count": 5,
   "metadata": {},
   "outputs": [
    {
     "data": {
      "text/plain": [
       "review      object\n",
       "voted_up      bool\n",
       "dtype: object"
      ]
     },
     "execution_count": 5,
     "metadata": {},
     "output_type": "execute_result"
    }
   ],
   "source": [
    "data.dtypes"
   ]
  },
  {
   "cell_type": "code",
   "execution_count": 6,
   "metadata": {},
   "outputs": [
    {
     "data": {
      "text/html": [
       "<div>\n",
       "<style scoped>\n",
       "    .dataframe tbody tr th:only-of-type {\n",
       "        vertical-align: middle;\n",
       "    }\n",
       "\n",
       "    .dataframe tbody tr th {\n",
       "        vertical-align: top;\n",
       "    }\n",
       "\n",
       "    .dataframe thead th {\n",
       "        text-align: right;\n",
       "    }\n",
       "</style>\n",
       "<table border=\"1\" class=\"dataframe\">\n",
       "  <thead>\n",
       "    <tr style=\"text-align: right;\">\n",
       "      <th></th>\n",
       "      <th>review</th>\n",
       "      <th>voted_up</th>\n",
       "    </tr>\n",
       "  </thead>\n",
       "  <tbody>\n",
       "    <tr>\n",
       "      <td>0</td>\n",
       "      <td>Corrupted é um jogo de RPG bem simplificado, o...</td>\n",
       "      <td>True</td>\n",
       "    </tr>\n",
       "    <tr>\n",
       "      <td>1</td>\n",
       "      <td>Meu PC tem uma placa de vídeo equivalente a GT...</td>\n",
       "      <td>False</td>\n",
       "    </tr>\n",
       "    <tr>\n",
       "      <td>2</td>\n",
       "      <td>Muito Bom! O meu diz que é recomendado  specs:...</td>\n",
       "      <td>True</td>\n",
       "    </tr>\n",
       "    <tr>\n",
       "      <td>3</td>\n",
       "      <td>Funciona</td>\n",
       "      <td>True</td>\n",
       "    </tr>\n",
       "    <tr>\n",
       "      <td>4</td>\n",
       "      <td>Muito bom o Steam VR, Very good.</td>\n",
       "      <td>True</td>\n",
       "    </tr>\n",
       "  </tbody>\n",
       "</table>\n",
       "</div>"
      ],
      "text/plain": [
       "                                              review  voted_up\n",
       "0  Corrupted é um jogo de RPG bem simplificado, o...      True\n",
       "1  Meu PC tem uma placa de vídeo equivalente a GT...     False\n",
       "2  Muito Bom! O meu diz que é recomendado  specs:...      True\n",
       "3                                           Funciona      True\n",
       "4                   Muito bom o Steam VR, Very good.      True"
      ]
     },
     "execution_count": 6,
     "metadata": {},
     "output_type": "execute_result"
    }
   ],
   "source": [
    "data.head(5)"
   ]
  },
  {
   "cell_type": "markdown",
   "metadata": {},
   "source": [
    "### **Separando Exemplos**"
   ]
  },
  {
   "cell_type": "markdown",
   "metadata": {},
   "source": [
    "#### Selecionando apenas Exemplos Positivos"
   ]
  },
  {
   "cell_type": "code",
   "execution_count": 7,
   "metadata": {},
   "outputs": [
    {
     "data": {
      "text/html": [
       "<div>\n",
       "<style scoped>\n",
       "    .dataframe tbody tr th:only-of-type {\n",
       "        vertical-align: middle;\n",
       "    }\n",
       "\n",
       "    .dataframe tbody tr th {\n",
       "        vertical-align: top;\n",
       "    }\n",
       "\n",
       "    .dataframe thead th {\n",
       "        text-align: right;\n",
       "    }\n",
       "</style>\n",
       "<table border=\"1\" class=\"dataframe\">\n",
       "  <thead>\n",
       "    <tr style=\"text-align: right;\">\n",
       "      <th></th>\n",
       "      <th>review</th>\n",
       "      <th>voted_up</th>\n",
       "    </tr>\n",
       "  </thead>\n",
       "  <tbody>\n",
       "    <tr>\n",
       "      <td>259074</td>\n",
       "      <td>Sou um jogador muito ruim, demorei cerca de 10...</td>\n",
       "      <td>True</td>\n",
       "    </tr>\n",
       "    <tr>\n",
       "      <td>343190</td>\n",
       "      <td>me senti mal jogando, faz tempo que um jogo nã...</td>\n",
       "      <td>True</td>\n",
       "    </tr>\n",
       "    <tr>\n",
       "      <td>291218</td>\n",
       "      <td>Um clássico do jeitinho que eu esperava, uma n...</td>\n",
       "      <td>True</td>\n",
       "    </tr>\n",
       "    <tr>\n",
       "      <td>317220</td>\n",
       "      <td>Um bom jogo pra quem está querendo passar o te...</td>\n",
       "      <td>True</td>\n",
       "    </tr>\n",
       "    <tr>\n",
       "      <td>317647</td>\n",
       "      <td>UM OTIMO GAME MAS DIFICIL PRA PORRA</td>\n",
       "      <td>True</td>\n",
       "    </tr>\n",
       "  </tbody>\n",
       "</table>\n",
       "</div>"
      ],
      "text/plain": [
       "                                                   review  voted_up\n",
       "259074  Sou um jogador muito ruim, demorei cerca de 10...      True\n",
       "343190  me senti mal jogando, faz tempo que um jogo nã...      True\n",
       "291218  Um clássico do jeitinho que eu esperava, uma n...      True\n",
       "317220  Um bom jogo pra quem está querendo passar o te...      True\n",
       "317647                UM OTIMO GAME MAS DIFICIL PRA PORRA      True"
      ]
     },
     "execution_count": 7,
     "metadata": {},
     "output_type": "execute_result"
    }
   ],
   "source": [
    "positive = data[data['voted_up'] == True].sample(46000)\n",
    "positive.head(5)"
   ]
  },
  {
   "cell_type": "markdown",
   "metadata": {},
   "source": [
    "#### Selecionando apenas Exemplos Negativos"
   ]
  },
  {
   "cell_type": "code",
   "execution_count": 8,
   "metadata": {},
   "outputs": [
    {
     "data": {
      "text/html": [
       "<div>\n",
       "<style scoped>\n",
       "    .dataframe tbody tr th:only-of-type {\n",
       "        vertical-align: middle;\n",
       "    }\n",
       "\n",
       "    .dataframe tbody tr th {\n",
       "        vertical-align: top;\n",
       "    }\n",
       "\n",
       "    .dataframe thead th {\n",
       "        text-align: right;\n",
       "    }\n",
       "</style>\n",
       "<table border=\"1\" class=\"dataframe\">\n",
       "  <thead>\n",
       "    <tr style=\"text-align: right;\">\n",
       "      <th></th>\n",
       "      <th>review</th>\n",
       "      <th>voted_up</th>\n",
       "    </tr>\n",
       "  </thead>\n",
       "  <tbody>\n",
       "    <tr>\n",
       "      <td>274978</td>\n",
       "      <td>graphics look like sh[i][/i]it and everyones a...</td>\n",
       "      <td>False</td>\n",
       "    </tr>\n",
       "    <tr>\n",
       "      <td>482251</td>\n",
       "      <td>Antigamente o jogo era melhor...</td>\n",
       "      <td>False</td>\n",
       "    </tr>\n",
       "    <tr>\n",
       "      <td>113647</td>\n",
       "      <td>esperava mais de um jogo de 28 reais... mecani...</td>\n",
       "      <td>False</td>\n",
       "    </tr>\n",
       "    <tr>\n",
       "      <td>367157</td>\n",
       "      <td>Viciante no começo, mas depois perde a graça.</td>\n",
       "      <td>False</td>\n",
       "    </tr>\n",
       "    <tr>\n",
       "      <td>187913</td>\n",
       "      <td>Humble na moral, se for pra dar bosta de graça...</td>\n",
       "      <td>False</td>\n",
       "    </tr>\n",
       "  </tbody>\n",
       "</table>\n",
       "</div>"
      ],
      "text/plain": [
       "                                                   review  voted_up\n",
       "274978  graphics look like sh[i][/i]it and everyones a...     False\n",
       "482251                   Antigamente o jogo era melhor...     False\n",
       "113647  esperava mais de um jogo de 28 reais... mecani...     False\n",
       "367157      Viciante no começo, mas depois perde a graça.     False\n",
       "187913  Humble na moral, se for pra dar bosta de graça...     False"
      ]
     },
     "execution_count": 8,
     "metadata": {},
     "output_type": "execute_result"
    }
   ],
   "source": [
    "negative = data[data['voted_up'] == False].sample(46000)\n",
    "negative.head(5)"
   ]
  },
  {
   "cell_type": "markdown",
   "metadata": {},
   "source": [
    "#### Concatenando os dados e misturando-os"
   ]
  },
  {
   "cell_type": "code",
   "execution_count": 9,
   "metadata": {},
   "outputs": [
    {
     "data": {
      "text/html": [
       "<div>\n",
       "<style scoped>\n",
       "    .dataframe tbody tr th:only-of-type {\n",
       "        vertical-align: middle;\n",
       "    }\n",
       "\n",
       "    .dataframe tbody tr th {\n",
       "        vertical-align: top;\n",
       "    }\n",
       "\n",
       "    .dataframe thead th {\n",
       "        text-align: right;\n",
       "    }\n",
       "</style>\n",
       "<table border=\"1\" class=\"dataframe\">\n",
       "  <thead>\n",
       "    <tr style=\"text-align: right;\">\n",
       "      <th></th>\n",
       "      <th>review</th>\n",
       "      <th>voted_up</th>\n",
       "    </tr>\n",
       "  </thead>\n",
       "  <tbody>\n",
       "    <tr>\n",
       "      <td>0</td>\n",
       "      <td>Apenas sensacional. Você no começo não dá nada...</td>\n",
       "      <td>True</td>\n",
       "    </tr>\n",
       "    <tr>\n",
       "      <td>1</td>\n",
       "      <td>Muito bom, recomendo a todos os fãs q gostam d...</td>\n",
       "      <td>True</td>\n",
       "    </tr>\n",
       "    <tr>\n",
       "      <td>2</td>\n",
       "      <td>Um dos melhores RPG que jah joguei.. realmente...</td>\n",
       "      <td>True</td>\n",
       "    </tr>\n",
       "    <tr>\n",
       "      <td>3</td>\n",
       "      <td>Super recomendado.  Jogo com uma jogabilidade ...</td>\n",
       "      <td>True</td>\n",
       "    </tr>\n",
       "    <tr>\n",
       "      <td>4</td>\n",
       "      <td>O jogo roda em slowmotion e mesmo procurando s...</td>\n",
       "      <td>False</td>\n",
       "    </tr>\n",
       "    <tr>\n",
       "      <td>5</td>\n",
       "      <td>Eu recomendaria esse jogo,pois é um jogo criad...</td>\n",
       "      <td>True</td>\n",
       "    </tr>\n",
       "    <tr>\n",
       "      <td>6</td>\n",
       "      <td>Gosto muito de action RPG`s, e me esforcei bas...</td>\n",
       "      <td>False</td>\n",
       "    </tr>\n",
       "    <tr>\n",
       "      <td>7</td>\n",
       "      <td>I'm a MLG PRO PLAYER QUICKSCOPER 720º NO SCOPE...</td>\n",
       "      <td>False</td>\n",
       "    </tr>\n",
       "    <tr>\n",
       "      <td>8</td>\n",
       "      <td>Nada melhorou nos gráficos, o jogo apenas foi ...</td>\n",
       "      <td>False</td>\n",
       "    </tr>\n",
       "    <tr>\n",
       "      <td>9</td>\n",
       "      <td>Não joguem este game pois vai levar ban aleato...</td>\n",
       "      <td>False</td>\n",
       "    </tr>\n",
       "  </tbody>\n",
       "</table>\n",
       "</div>"
      ],
      "text/plain": [
       "                                              review  voted_up\n",
       "0  Apenas sensacional. Você no começo não dá nada...      True\n",
       "1  Muito bom, recomendo a todos os fãs q gostam d...      True\n",
       "2  Um dos melhores RPG que jah joguei.. realmente...      True\n",
       "3  Super recomendado.  Jogo com uma jogabilidade ...      True\n",
       "4  O jogo roda em slowmotion e mesmo procurando s...     False\n",
       "5  Eu recomendaria esse jogo,pois é um jogo criad...      True\n",
       "6  Gosto muito de action RPG`s, e me esforcei bas...     False\n",
       "7  I'm a MLG PRO PLAYER QUICKSCOPER 720º NO SCOPE...     False\n",
       "8  Nada melhorou nos gráficos, o jogo apenas foi ...     False\n",
       "9  Não joguem este game pois vai levar ban aleato...     False"
      ]
     },
     "execution_count": 9,
     "metadata": {},
     "output_type": "execute_result"
    }
   ],
   "source": [
    "frames = [positive, negative]\n",
    "data = pd.concat(frames)\n",
    "data = data.sample(frac=1).reset_index(drop=True)\n",
    "data.head(10)"
   ]
  },
  {
   "cell_type": "markdown",
   "metadata": {},
   "source": [
    "## **Processando os Dados**"
   ]
  },
  {
   "cell_type": "code",
   "execution_count": 10,
   "metadata": {},
   "outputs": [],
   "source": [
    "from nltk.corpus import stopwords\n",
    "\n",
    "stop_words = set(stopwords.words('portuguese')).union(stopwords.words('english')).union([\"pra\"]).union([\"são\"])\n",
    "\n",
    "# Function that removes stopwords\n",
    "def remove_stopwords(text):\n",
    "    text = text.split(' ')\n",
    "    text = [x for x in text if x not in stop_words]\n",
    "    return ' '.join(text)\n",
    "\n",
    "# Function that removes words with less than 3 chars\n",
    "def remove_words_less_than_2(text):\n",
    "    text = text.split(' ')\n",
    "    text = [x for x in text if len(x) > 2]\n",
    "    return ' '.join(text)\n",
    "\n",
    "def process_data(df):\n",
    "    \n",
    "    # To lowercase\n",
    "    df['review'] = df['review'].str.lower()\n",
    "    \n",
    "    # Removing punctuations\n",
    "    df['review'] = df['review'].str.replace('[^\\w\\s]',' ')\n",
    "    \n",
    "    # Remove a single character from the string\n",
    "    remove_single_char = lambda x: re.sub(r\"\\b[a-zA-Z]\\b\", \"\", x)\n",
    "    df['review'] = df['review'].apply(remove_single_char)\n",
    "    \n",
    "    # Substituting multiple spaces with single space\n",
    "    remove_multiple_spaces = lambda x: ' '.join(x.split())\n",
    "    df['review'] = df['review'].apply(remove_multiple_spaces)\n",
    "    \n",
    "    # Remove repeated letters if there 3 or more\n",
    "    remove_repeated_letters = lambda x: re.sub(r'([a-z])\\1+', r'\\1\\1', x)\n",
    "    df['review'] = df['review'].apply(remove_repeated_letters)\n",
    "    \n",
    "    # removing stopwords\n",
    "    rm_stopwords = lambda x: remove_stopwords(x)\n",
    "    df['review'] = df['review'].apply(rm_stopwords)\n",
    "    \n",
    "    # Removing accents\n",
    "    remove_accent = lambda x: unidecode.unidecode(x)\n",
    "    df['review'] = df['review'].apply(remove_accent)\n",
    "    \n",
    "    # Remove words with less than 3 chars\n",
    "    remove_less_2 = lambda x: remove_words_less_than_2(x)\n",
    "    df['review'] = df['review'].apply(remove_less_2)\n",
    "    \n",
    "    return df"
   ]
  },
  {
   "cell_type": "code",
   "execution_count": 11,
   "metadata": {},
   "outputs": [
    {
     "data": {
      "text/html": [
       "<div>\n",
       "<style scoped>\n",
       "    .dataframe tbody tr th:only-of-type {\n",
       "        vertical-align: middle;\n",
       "    }\n",
       "\n",
       "    .dataframe tbody tr th {\n",
       "        vertical-align: top;\n",
       "    }\n",
       "\n",
       "    .dataframe thead th {\n",
       "        text-align: right;\n",
       "    }\n",
       "</style>\n",
       "<table border=\"1\" class=\"dataframe\">\n",
       "  <thead>\n",
       "    <tr style=\"text-align: right;\">\n",
       "      <th></th>\n",
       "      <th>review</th>\n",
       "      <th>voted_up</th>\n",
       "    </tr>\n",
       "  </thead>\n",
       "  <tbody>\n",
       "    <tr>\n",
       "      <td>0</td>\n",
       "      <td>apenas sensacional comeco nada pro jogo poucos...</td>\n",
       "      <td>True</td>\n",
       "    </tr>\n",
       "    <tr>\n",
       "      <td>1</td>\n",
       "      <td>bom recomendo todos fas gostam desses tipos jogos</td>\n",
       "      <td>True</td>\n",
       "    </tr>\n",
       "    <tr>\n",
       "      <td>2</td>\n",
       "      <td>melhores rpg jah joguei realmente bom indico g...</td>\n",
       "      <td>True</td>\n",
       "    </tr>\n",
       "    <tr>\n",
       "      <td>3</td>\n",
       "      <td>super recomendado jogo jogabilidade facil temp...</td>\n",
       "      <td>True</td>\n",
       "    </tr>\n",
       "    <tr>\n",
       "      <td>4</td>\n",
       "      <td>jogo roda slowmotion procurando solucoes inter...</td>\n",
       "      <td>False</td>\n",
       "    </tr>\n",
       "    <tr>\n",
       "      <td>5</td>\n",
       "      <td>recomendaria jogo pois jogo criado fas bom dif...</td>\n",
       "      <td>True</td>\n",
       "    </tr>\n",
       "    <tr>\n",
       "      <td>6</td>\n",
       "      <td>gosto action rpg esforcei bastante gostar dest...</td>\n",
       "      <td>False</td>\n",
       "    </tr>\n",
       "    <tr>\n",
       "      <td>7</td>\n",
       "      <td>mlg pro player quickscoper 720o scope god game...</td>\n",
       "      <td>False</td>\n",
       "    </tr>\n",
       "    <tr>\n",
       "      <td>8</td>\n",
       "      <td>nada melhorou graficos jogo apenas ajustado po...</td>\n",
       "      <td>False</td>\n",
       "    </tr>\n",
       "    <tr>\n",
       "      <td>9</td>\n",
       "      <td>joguem game pois vai levar ban aleatoriamente ...</td>\n",
       "      <td>False</td>\n",
       "    </tr>\n",
       "  </tbody>\n",
       "</table>\n",
       "</div>"
      ],
      "text/plain": [
       "                                              review  voted_up\n",
       "0  apenas sensacional comeco nada pro jogo poucos...      True\n",
       "1  bom recomendo todos fas gostam desses tipos jogos      True\n",
       "2  melhores rpg jah joguei realmente bom indico g...      True\n",
       "3  super recomendado jogo jogabilidade facil temp...      True\n",
       "4  jogo roda slowmotion procurando solucoes inter...     False\n",
       "5  recomendaria jogo pois jogo criado fas bom dif...      True\n",
       "6  gosto action rpg esforcei bastante gostar dest...     False\n",
       "7  mlg pro player quickscoper 720o scope god game...     False\n",
       "8  nada melhorou graficos jogo apenas ajustado po...     False\n",
       "9  joguem game pois vai levar ban aleatoriamente ...     False"
      ]
     },
     "execution_count": 11,
     "metadata": {},
     "output_type": "execute_result"
    }
   ],
   "source": [
    "data = process_data(data)\n",
    "data.head(10)"
   ]
  },
  {
   "cell_type": "markdown",
   "metadata": {},
   "source": [
    "# TF-IDF"
   ]
  },
  {
   "cell_type": "code",
   "execution_count": 12,
   "metadata": {},
   "outputs": [
    {
     "data": {
      "text/plain": [
       "[('jogo', 6007.948359562883),\n",
       " ('bom', 3004.1013905326463),\n",
       " ('jogar', 1730.8876919179384),\n",
       " ('recomendo', 1689.9284896992867),\n",
       " ('game', 1488.119628923753),\n",
       " ('bem', 1463.009712236176),\n",
       " ('melhor', 1426.1006082988195),\n",
       " ('nao', 1303.1224534432647),\n",
       " ('otimo', 1158.0071868889445),\n",
       " ('historia', 1150.971864884919),\n",
       " ('divertido', 1049.864144772544),\n",
       " ('ser', 1043.5040347859472),\n",
       " ('ruim', 1029.0016573043074),\n",
       " ('vale', 1004.7600212368078),\n",
       " ('jogabilidade', 996.002829511541),\n",
       " ('tempo', 968.7119154978532),\n",
       " ('legal', 926.5024268126185),\n",
       " ('pena', 922.9680262311525),\n",
       " ('jogos', 915.8141556065891),\n",
       " ('graficos', 859.225650508162),\n",
       " ('ainda', 824.3984221877075),\n",
       " ('joguei', 818.6478647821493),\n",
       " ('gostei', 774.3154620719414),\n",
       " ('amigos', 760.8766508215263),\n",
       " ('nada', 749.8783063928702)]"
      ]
     },
     "execution_count": 12,
     "metadata": {},
     "output_type": "execute_result"
    }
   ],
   "source": [
    "from sklearn.feature_extraction.text import TfidfVectorizer\n",
    "\n",
    "stop_words = set(stopwords.words('portuguese')).union(set(stopwords.words('english')))\n",
    "\n",
    "corpus = data['review'].values\n",
    "\n",
    "tfidf = TfidfVectorizer(stop_words=stop_words)\n",
    "response = tfidf.fit_transform(corpus)\n",
    "\n",
    "scores = zip(tfidf.get_feature_names(), np.asarray(response.sum(axis=0)).ravel())\n",
    "sorted_scores = sorted(scores, key=lambda x: x[1], reverse=True)\n",
    "sorted_scores[:25]"
   ]
  },
  {
   "cell_type": "markdown",
   "metadata": {},
   "source": [
    "### Calcula a media e desvio padrão dos scores do TF-IDF"
   ]
  },
  {
   "cell_type": "code",
   "execution_count": 13,
   "metadata": {},
   "outputs": [],
   "source": [
    "import statistics as st\n",
    "\n",
    "scores_labels = [x[1] for x in sorted_scores]\n",
    "media = sum(scores_labels)/len(scores_labels)\n",
    "dp = st.stdev(scores_labels)"
   ]
  },
  {
   "cell_type": "markdown",
   "metadata": {},
   "source": [
    "### Pega apenas os scores com valores acima da média + 1 desvio padrão"
   ]
  },
  {
   "cell_type": "code",
   "execution_count": 14,
   "metadata": {},
   "outputs": [],
   "source": [
    "best_scores = []\n",
    "for score in sorted_scores:\n",
    "    if score[1] < media + dp:\n",
    "        break\n",
    "    best_scores.append(score)"
   ]
  },
  {
   "cell_type": "markdown",
   "metadata": {},
   "source": [
    "### Diferença no tamanho dos conjuntos"
   ]
  },
  {
   "cell_type": "code",
   "execution_count": 15,
   "metadata": {},
   "outputs": [
    {
     "name": "stdout",
     "output_type": "stream",
     "text": [
      "Tamanho do conjunto original: 78726\n",
      "Tamanho do conjunto com os melhores scores: 1312\n"
     ]
    }
   ],
   "source": [
    "print(\"Tamanho do conjunto original:\", len(sorted_scores))\n",
    "print(\"Tamanho do conjunto com os melhores scores:\", len(best_scores))"
   ]
  },
  {
   "cell_type": "markdown",
   "metadata": {},
   "source": [
    "## Criação do dataset utilizado no modelo de aprendizado"
   ]
  },
  {
   "cell_type": "markdown",
   "metadata": {},
   "source": [
    "### Testando as melhores combinações de entrada"
   ]
  },
  {
   "cell_type": "code",
   "execution_count": 16,
   "metadata": {},
   "outputs": [],
   "source": [
    "# Corpus do texto\n",
    "corpus = data['review'].values\n",
    "size = int(len(best_scores)/3)\n",
    "\n",
    "# Usado para retornar o corpus apenas com as palavras top\n",
    "def refined_corpus(label_scores, corpus):\n",
    "    only_words = set([x[0] for x in label_scores])\n",
    "\n",
    "    new_corpus = []\n",
    "    for text in corpus:\n",
    "        words = text.split(\" \")\n",
    "        new_text = [word for word in words if word in only_words]\n",
    "        new_corpus.append(' '.join(new_text))\n",
    "    \n",
    "    return new_corpus"
   ]
  },
  {
   "cell_type": "markdown",
   "metadata": {},
   "source": [
    "### Testando com o primeiro, segundo e terceiro terço"
   ]
  },
  {
   "cell_type": "code",
   "execution_count": 17,
   "metadata": {},
   "outputs": [],
   "source": [
    "# Primeiro terço\n",
    "begin = 0\n",
    "end = begin + size\n",
    "input_scores = best_scores[begin:end]\n",
    "corpus_1_3 = refined_corpus(input_scores, corpus)\n",
    "\n",
    "# Segundo terço\n",
    "begin = size\n",
    "end = begin + size\n",
    "input_scores = best_scores[begin:end]\n",
    "corpus_2_3 = refined_corpus(input_scores, corpus)\n",
    "\n",
    "# Terceiro terço\n",
    "begin = size * 2\n",
    "end = begin + size\n",
    "input_scores = best_scores[begin:end]\n",
    "corpus_3_3 = refined_corpus(input_scores, corpus)\n",
    "\n",
    "# Utilizando todos os melhores\n",
    "corpus_best = refined_corpus(best_scores, corpus)\n",
    "\n",
    "list_corpus = [\n",
    "    corpus_1_3,\n",
    "    corpus_2_3,\n",
    "    corpus_3_3,\n",
    "    corpus_best,\n",
    "]\n"
   ]
  },
  {
   "cell_type": "code",
   "execution_count": 18,
   "metadata": {},
   "outputs": [],
   "source": [
    "qts = []\n",
    "for c in list_corpus:\n",
    "    tfidf = TfidfVectorizer(stop_words=stop_words)\n",
    "    response = tfidf.fit_transform(c)\n",
    "    \n",
    "    total = 0\n",
    "    for review in response.toarray():\n",
    "        x = sum(review)\n",
    "        if x > 0:\n",
    "            total += 1\n",
    "    \n",
    "    qts.append(total)"
   ]
  },
  {
   "cell_type": "code",
   "execution_count": 19,
   "metadata": {},
   "outputs": [
    {
     "name": "stdout",
     "output_type": "stream",
     "text": [
      "Corpus 1: 0.9332826086956522\n",
      "Corpus 2: 0.6156195652173913\n",
      "Corpus 3: 0.4738913043478261\n",
      "Full Corpus: 0.9582826086956522\n"
     ]
    }
   ],
   "source": [
    "print(\"Corpus 1:\", qts[0]/len(list_corpus[0]))\n",
    "print(\"Corpus 2:\", qts[1]/len(list_corpus[0]))\n",
    "print(\"Corpus 3:\", qts[2]/len(list_corpus[0]))\n",
    "print(\"Full Corpus:\", qts[3]/len(list_corpus[0]))"
   ]
  },
  {
   "cell_type": "markdown",
   "metadata": {},
   "source": [
    "### Utilizar o primeiro terço, pois engobla 93% do dataset original"
   ]
  },
  {
   "cell_type": "code",
   "execution_count": 20,
   "metadata": {},
   "outputs": [],
   "source": [
    "from sklearn.model_selection import train_test_split\n",
    "\n",
    "tfidf = TfidfVectorizer(stop_words=stop_words)\n",
    "\n",
    "processed_features = tfidf.fit_transform(corpus_1_3).toarray()\n",
    "labels = data['voted_up'].values\n",
    "\n",
    "X_train, X_test, y_train, y_test = train_test_split(processed_features, labels, test_size=0.2, random_state=0)"
   ]
  },
  {
   "cell_type": "code",
   "execution_count": 23,
   "metadata": {},
   "outputs": [
    {
     "data": {
      "text/plain": [
       "0.8009782608695653"
      ]
     },
     "execution_count": 23,
     "metadata": {},
     "output_type": "execute_result"
    }
   ],
   "source": [
    "from sklearn.naive_bayes import MultinomialNB\n",
    "\n",
    "nb_clf = MultinomialNB()\n",
    "nb_clf.fit(X_train, y_train)\n",
    "predicted = nb_clf.predict(X_test)\n",
    "np.mean(predicted == y_test)"
   ]
  },
  {
   "cell_type": "code",
   "execution_count": 22,
   "metadata": {},
   "outputs": [
    {
     "name": "stdout",
     "output_type": "stream",
     "text": [
      "[[7073 2197]\n",
      " [1465 7665]]\n",
      "              precision    recall  f1-score   support\n",
      "\n",
      "       False       0.83      0.76      0.79      9270\n",
      "        True       0.78      0.84      0.81      9130\n",
      "\n",
      "    accuracy                           0.80     18400\n",
      "   macro avg       0.80      0.80      0.80     18400\n",
      "weighted avg       0.80      0.80      0.80     18400\n",
      "\n",
      "0.8009782608695653\n"
     ]
    }
   ],
   "source": [
    "from sklearn.metrics import classification_report, confusion_matrix, accuracy_score\n",
    "\n",
    "print(confusion_matrix(y_test,predicted))\n",
    "print(classification_report(y_test,predicted))\n",
    "print(accuracy_score(y_test, predicted))"
   ]
  }
 ],
 "metadata": {
  "kernelspec": {
   "display_name": "Python 3",
   "language": "python",
   "name": "python3"
  },
  "language_info": {
   "codemirror_mode": {
    "name": "ipython",
    "version": 3
   },
   "file_extension": ".py",
   "mimetype": "text/x-python",
   "name": "python",
   "nbconvert_exporter": "python",
   "pygments_lexer": "ipython3",
   "version": "3.7.4"
  }
 },
 "nbformat": 4,
 "nbformat_minor": 4
}
