{
 "cells": [
  {
   "cell_type": "markdown",
   "metadata": {},
   "source": [
    "# **Análise de Sentimentos de _Reviews_ de produtos na plataforma Steam**"
   ]
  },
  {
   "cell_type": "markdown",
   "metadata": {},
   "source": [
    "## **Importando bibliotecas**"
   ]
  },
  {
   "cell_type": "code",
   "execution_count": 1,
   "metadata": {},
   "outputs": [],
   "source": [
    "import pandas as pd\n",
    "import nltk\n",
    "import matplotlib.pyplot as plt\n",
    "import numpy as np \n",
    "import re\n",
    "import string\n",
    "import unidecode"
   ]
  },
  {
   "cell_type": "code",
   "execution_count": 2,
   "metadata": {},
   "outputs": [
    {
     "name": "stderr",
     "output_type": "stream",
     "text": [
      "[nltk_data] Downloading package stopwords to /home/juan-\n",
      "[nltk_data]     burtet/nltk_data...\n",
      "[nltk_data]   Package stopwords is already up-to-date!\n"
     ]
    },
    {
     "data": {
      "text/plain": [
       "True"
      ]
     },
     "execution_count": 2,
     "metadata": {},
     "output_type": "execute_result"
    }
   ],
   "source": [
    "nltk.download('stopwords')"
   ]
  },
  {
   "cell_type": "markdown",
   "metadata": {},
   "source": [
    "## **Carregando _dataset_** "
   ]
  },
  {
   "cell_type": "code",
   "execution_count": 3,
   "metadata": {},
   "outputs": [],
   "source": [
    "data = pd.read_csv('dataset/steam_reviews.tsv', sep='\\t')[['review', 'voted_up']]"
   ]
  },
  {
   "cell_type": "code",
   "execution_count": 4,
   "metadata": {},
   "outputs": [
    {
     "data": {
      "text/html": [
       "<div>\n",
       "<style scoped>\n",
       "    .dataframe tbody tr th:only-of-type {\n",
       "        vertical-align: middle;\n",
       "    }\n",
       "\n",
       "    .dataframe tbody tr th {\n",
       "        vertical-align: top;\n",
       "    }\n",
       "\n",
       "    .dataframe thead th {\n",
       "        text-align: right;\n",
       "    }\n",
       "</style>\n",
       "<table border=\"1\" class=\"dataframe\">\n",
       "  <thead>\n",
       "    <tr style=\"text-align: right;\">\n",
       "      <th></th>\n",
       "      <th>review</th>\n",
       "      <th>voted_up</th>\n",
       "    </tr>\n",
       "  </thead>\n",
       "  <tbody>\n",
       "    <tr>\n",
       "      <th>count</th>\n",
       "      <td>507051</td>\n",
       "      <td>507052</td>\n",
       "    </tr>\n",
       "    <tr>\n",
       "      <th>unique</th>\n",
       "      <td>506693</td>\n",
       "      <td>2</td>\n",
       "    </tr>\n",
       "    <tr>\n",
       "      <th>top</th>\n",
       "      <td>Err:507</td>\n",
       "      <td>True</td>\n",
       "    </tr>\n",
       "    <tr>\n",
       "      <th>freq</th>\n",
       "      <td>226</td>\n",
       "      <td>460579</td>\n",
       "    </tr>\n",
       "  </tbody>\n",
       "</table>\n",
       "</div>"
      ],
      "text/plain": [
       "         review voted_up\n",
       "count    507051   507052\n",
       "unique   506693        2\n",
       "top     Err:507     True\n",
       "freq        226   460579"
      ]
     },
     "execution_count": 4,
     "metadata": {},
     "output_type": "execute_result"
    }
   ],
   "source": [
    "data.describe()"
   ]
  },
  {
   "cell_type": "code",
   "execution_count": 5,
   "metadata": {},
   "outputs": [
    {
     "data": {
      "text/plain": [
       "review      object\n",
       "voted_up      bool\n",
       "dtype: object"
      ]
     },
     "execution_count": 5,
     "metadata": {},
     "output_type": "execute_result"
    }
   ],
   "source": [
    "data.dtypes"
   ]
  },
  {
   "cell_type": "code",
   "execution_count": 6,
   "metadata": {},
   "outputs": [
    {
     "data": {
      "text/html": [
       "<div>\n",
       "<style scoped>\n",
       "    .dataframe tbody tr th:only-of-type {\n",
       "        vertical-align: middle;\n",
       "    }\n",
       "\n",
       "    .dataframe tbody tr th {\n",
       "        vertical-align: top;\n",
       "    }\n",
       "\n",
       "    .dataframe thead th {\n",
       "        text-align: right;\n",
       "    }\n",
       "</style>\n",
       "<table border=\"1\" class=\"dataframe\">\n",
       "  <thead>\n",
       "    <tr style=\"text-align: right;\">\n",
       "      <th></th>\n",
       "      <th>review</th>\n",
       "      <th>voted_up</th>\n",
       "    </tr>\n",
       "  </thead>\n",
       "  <tbody>\n",
       "    <tr>\n",
       "      <th>0</th>\n",
       "      <td>Corrupted é um jogo de RPG bem simplificado, o...</td>\n",
       "      <td>True</td>\n",
       "    </tr>\n",
       "    <tr>\n",
       "      <th>1</th>\n",
       "      <td>Meu PC tem uma placa de vídeo equivalente a GT...</td>\n",
       "      <td>False</td>\n",
       "    </tr>\n",
       "    <tr>\n",
       "      <th>2</th>\n",
       "      <td>Muito Bom! O meu diz que é recomendado  specs:...</td>\n",
       "      <td>True</td>\n",
       "    </tr>\n",
       "    <tr>\n",
       "      <th>3</th>\n",
       "      <td>Funciona</td>\n",
       "      <td>True</td>\n",
       "    </tr>\n",
       "    <tr>\n",
       "      <th>4</th>\n",
       "      <td>Muito bom o Steam VR, Very good.</td>\n",
       "      <td>True</td>\n",
       "    </tr>\n",
       "  </tbody>\n",
       "</table>\n",
       "</div>"
      ],
      "text/plain": [
       "                                              review  voted_up\n",
       "0  Corrupted é um jogo de RPG bem simplificado, o...      True\n",
       "1  Meu PC tem uma placa de vídeo equivalente a GT...     False\n",
       "2  Muito Bom! O meu diz que é recomendado  specs:...      True\n",
       "3                                           Funciona      True\n",
       "4                   Muito bom o Steam VR, Very good.      True"
      ]
     },
     "execution_count": 6,
     "metadata": {},
     "output_type": "execute_result"
    }
   ],
   "source": [
    "data.head(5)"
   ]
  },
  {
   "cell_type": "markdown",
   "metadata": {},
   "source": [
    "### **Separando Exemplos**"
   ]
  },
  {
   "cell_type": "markdown",
   "metadata": {},
   "source": [
    "#### Selecionando apenas Exemplos Positivos"
   ]
  },
  {
   "cell_type": "code",
   "execution_count": 7,
   "metadata": {},
   "outputs": [
    {
     "data": {
      "text/html": [
       "<div>\n",
       "<style scoped>\n",
       "    .dataframe tbody tr th:only-of-type {\n",
       "        vertical-align: middle;\n",
       "    }\n",
       "\n",
       "    .dataframe tbody tr th {\n",
       "        vertical-align: top;\n",
       "    }\n",
       "\n",
       "    .dataframe thead th {\n",
       "        text-align: right;\n",
       "    }\n",
       "</style>\n",
       "<table border=\"1\" class=\"dataframe\">\n",
       "  <thead>\n",
       "    <tr style=\"text-align: right;\">\n",
       "      <th></th>\n",
       "      <th>review</th>\n",
       "      <th>voted_up</th>\n",
       "    </tr>\n",
       "  </thead>\n",
       "  <tbody>\n",
       "    <tr>\n",
       "      <th>415759</th>\n",
       "      <td>De longe um dos melhores jogos de sobrevivênci...</td>\n",
       "      <td>True</td>\n",
       "    </tr>\n",
       "    <tr>\n",
       "      <th>433841</th>\n",
       "      <td>Muito f0da, incrível pra caralh#</td>\n",
       "      <td>True</td>\n",
       "    </tr>\n",
       "    <tr>\n",
       "      <th>17994</th>\n",
       "      <td>Esse Jogo é Incrivel, um dos melhores jogos qu...</td>\n",
       "      <td>True</td>\n",
       "    </tr>\n",
       "    <tr>\n",
       "      <th>333474</th>\n",
       "      <td>e bom para passar o tempo mais o multiplayer e...</td>\n",
       "      <td>True</td>\n",
       "    </tr>\n",
       "    <tr>\n",
       "      <th>333443</th>\n",
       "      <td>Divertido, o ruim é que o Co-op é apenas local...</td>\n",
       "      <td>True</td>\n",
       "    </tr>\n",
       "  </tbody>\n",
       "</table>\n",
       "</div>"
      ],
      "text/plain": [
       "                                                   review  voted_up\n",
       "415759  De longe um dos melhores jogos de sobrevivênci...      True\n",
       "433841                   Muito f0da, incrível pra caralh#      True\n",
       "17994   Esse Jogo é Incrivel, um dos melhores jogos qu...      True\n",
       "333474  e bom para passar o tempo mais o multiplayer e...      True\n",
       "333443  Divertido, o ruim é que o Co-op é apenas local...      True"
      ]
     },
     "execution_count": 7,
     "metadata": {},
     "output_type": "execute_result"
    }
   ],
   "source": [
    "positive = data[data['voted_up'] == True].sample(46000)\n",
    "positive.head(5)"
   ]
  },
  {
   "cell_type": "markdown",
   "metadata": {},
   "source": [
    "#### Selecionando apenas Exemplos Negativos"
   ]
  },
  {
   "cell_type": "code",
   "execution_count": 8,
   "metadata": {},
   "outputs": [
    {
     "data": {
      "text/html": [
       "<div>\n",
       "<style scoped>\n",
       "    .dataframe tbody tr th:only-of-type {\n",
       "        vertical-align: middle;\n",
       "    }\n",
       "\n",
       "    .dataframe tbody tr th {\n",
       "        vertical-align: top;\n",
       "    }\n",
       "\n",
       "    .dataframe thead th {\n",
       "        text-align: right;\n",
       "    }\n",
       "</style>\n",
       "<table border=\"1\" class=\"dataframe\">\n",
       "  <thead>\n",
       "    <tr style=\"text-align: right;\">\n",
       "      <th></th>\n",
       "      <th>review</th>\n",
       "      <th>voted_up</th>\n",
       "    </tr>\n",
       "  </thead>\n",
       "  <tbody>\n",
       "    <tr>\n",
       "      <th>180320</th>\n",
       "      <td>Horrível, gráficos péssimos, jogabilidade horr...</td>\n",
       "      <td>False</td>\n",
       "    </tr>\n",
       "    <tr>\n",
       "      <th>138632</th>\n",
       "      <td>Não dá pra jogar. Dublagem terrível e mecânica...</td>\n",
       "      <td>False</td>\n",
       "    </tr>\n",
       "    <tr>\n",
       "      <th>423561</th>\n",
       "      <td>Tentei mesmo gostar deste jogo, mas infelizmen...</td>\n",
       "      <td>False</td>\n",
       "    </tr>\n",
       "    <tr>\n",
       "      <th>335857</th>\n",
       "      <td>BLOCKADE 3D É um jogo otimo para quem e fan de...</td>\n",
       "      <td>False</td>\n",
       "    </tr>\n",
       "    <tr>\n",
       "      <th>159700</th>\n",
       "      <td>muita plataforma pra pular e pouca história e ...</td>\n",
       "      <td>False</td>\n",
       "    </tr>\n",
       "  </tbody>\n",
       "</table>\n",
       "</div>"
      ],
      "text/plain": [
       "                                                   review  voted_up\n",
       "180320  Horrível, gráficos péssimos, jogabilidade horr...     False\n",
       "138632  Não dá pra jogar. Dublagem terrível e mecânica...     False\n",
       "423561  Tentei mesmo gostar deste jogo, mas infelizmen...     False\n",
       "335857  BLOCKADE 3D É um jogo otimo para quem e fan de...     False\n",
       "159700  muita plataforma pra pular e pouca história e ...     False"
      ]
     },
     "execution_count": 8,
     "metadata": {},
     "output_type": "execute_result"
    }
   ],
   "source": [
    "negative = data[data['voted_up'] == False].sample(46000)\n",
    "negative.head(5)"
   ]
  },
  {
   "cell_type": "markdown",
   "metadata": {},
   "source": [
    "#### Concatenando os dados e misturando-os"
   ]
  },
  {
   "cell_type": "code",
   "execution_count": 9,
   "metadata": {},
   "outputs": [
    {
     "data": {
      "text/html": [
       "<div>\n",
       "<style scoped>\n",
       "    .dataframe tbody tr th:only-of-type {\n",
       "        vertical-align: middle;\n",
       "    }\n",
       "\n",
       "    .dataframe tbody tr th {\n",
       "        vertical-align: top;\n",
       "    }\n",
       "\n",
       "    .dataframe thead th {\n",
       "        text-align: right;\n",
       "    }\n",
       "</style>\n",
       "<table border=\"1\" class=\"dataframe\">\n",
       "  <thead>\n",
       "    <tr style=\"text-align: right;\">\n",
       "      <th></th>\n",
       "      <th>review</th>\n",
       "      <th>voted_up</th>\n",
       "    </tr>\n",
       "  </thead>\n",
       "  <tbody>\n",
       "    <tr>\n",
       "      <th>0</th>\n",
       "      <td>Jogo otimo,divertido e difícil(para mim melhor...</td>\n",
       "      <td>True</td>\n",
       "    </tr>\n",
       "    <tr>\n",
       "      <th>1</th>\n",
       "      <td>Excelente jogo, já gostava muito antes, mas co...</td>\n",
       "      <td>True</td>\n",
       "    </tr>\n",
       "    <tr>\n",
       "      <th>2</th>\n",
       "      <td>bosta total a tela e toda borrada vai a merda</td>\n",
       "      <td>False</td>\n",
       "    </tr>\n",
       "    <tr>\n",
       "      <th>3</th>\n",
       "      <td>Um ótimo jogo, muito bom, ainda mais de coop a...</td>\n",
       "      <td>True</td>\n",
       "    </tr>\n",
       "    <tr>\n",
       "      <th>4</th>\n",
       "      <td>Envelheceu muito mal e não tem nada realmente ...</td>\n",
       "      <td>False</td>\n",
       "    </tr>\n",
       "    <tr>\n",
       "      <th>5</th>\n",
       "      <td>Muito bom, muita coisa a se fazer agrada difer...</td>\n",
       "      <td>True</td>\n",
       "    </tr>\n",
       "    <tr>\n",
       "      <th>6</th>\n",
       "      <td>Odallus é um excelente jogo que engloba elemen...</td>\n",
       "      <td>True</td>\n",
       "    </tr>\n",
       "    <tr>\n",
       "      <th>7</th>\n",
       "      <td>Jogo Otimo Pra jogar</td>\n",
       "      <td>True</td>\n",
       "    </tr>\n",
       "    <tr>\n",
       "      <th>8</th>\n",
       "      <td>Um bom jogo com bons graficos e boa historia, ...</td>\n",
       "      <td>False</td>\n",
       "    </tr>\n",
       "    <tr>\n",
       "      <th>9</th>\n",
       "      <td>Os poderes são bem divertidos (no início), mas...</td>\n",
       "      <td>False</td>\n",
       "    </tr>\n",
       "  </tbody>\n",
       "</table>\n",
       "</div>"
      ],
      "text/plain": [
       "                                              review  voted_up\n",
       "0  Jogo otimo,divertido e difícil(para mim melhor...      True\n",
       "1  Excelente jogo, já gostava muito antes, mas co...      True\n",
       "2      bosta total a tela e toda borrada vai a merda     False\n",
       "3  Um ótimo jogo, muito bom, ainda mais de coop a...      True\n",
       "4  Envelheceu muito mal e não tem nada realmente ...     False\n",
       "5  Muito bom, muita coisa a se fazer agrada difer...      True\n",
       "6  Odallus é um excelente jogo que engloba elemen...      True\n",
       "7                               Jogo Otimo Pra jogar      True\n",
       "8  Um bom jogo com bons graficos e boa historia, ...     False\n",
       "9  Os poderes são bem divertidos (no início), mas...     False"
      ]
     },
     "execution_count": 9,
     "metadata": {},
     "output_type": "execute_result"
    }
   ],
   "source": [
    "frames = [positive, negative]\n",
    "data = pd.concat(frames)\n",
    "data = data.sample(frac=1).reset_index(drop=True)\n",
    "data.head(10)"
   ]
  },
  {
   "cell_type": "markdown",
   "metadata": {},
   "source": [
    "## **Processando os Dados**"
   ]
  },
  {
   "cell_type": "code",
   "execution_count": 19,
   "metadata": {},
   "outputs": [],
   "source": [
    "from nltk.corpus import stopwords\n",
    "\n",
    "stop_words = set(stopwords.words('portuguese')).union(stopwords.words('english')).union([\"pra\"]).union([\"são\"])\n",
    "\n",
    "# Function that removes stopwords\n",
    "def remove_stopwords(text):\n",
    "    text = text.split(' ')\n",
    "    text = [x for x in text if x not in stop_words]\n",
    "    return ' '.join(text)\n",
    "\n",
    "# Function that removes words with less than 3 chars\n",
    "def remove_words_less_than_2(text):\n",
    "    text = text.split(' ')\n",
    "    text = [x for x in text if len(x) > 2]\n",
    "    return ' '.join(text)\n",
    "\n",
    "def process_data(df):\n",
    "    \n",
    "    # To lowercase\n",
    "    df['review'] = df['review'].str.lower()\n",
    "    \n",
    "    # Removing punctuations\n",
    "    df['review'] = df['review'].str.replace('[^\\w\\s]',' ')\n",
    "    \n",
    "    # Remove a single character from the string\n",
    "    remove_single_char = lambda x: re.sub(r\"\\b[a-zA-Z]\\b\", \"\", x)\n",
    "    df['review'] = df['review'].apply(remove_single_char)\n",
    "    \n",
    "    # Substituting multiple spaces with single space\n",
    "    remove_multiple_spaces = lambda x: ' '.join(x.split())\n",
    "    df['review'] = df['review'].apply(remove_multiple_spaces)\n",
    "    \n",
    "    # Remove repeated letters if there 3 or more\n",
    "    remove_repeated_letters = lambda x: re.sub(r'([a-z])\\1+', r'\\1\\1', x)\n",
    "    df['review'] = df['review'].apply(remove_repeated_letters)\n",
    "    \n",
    "    # removing stopwords\n",
    "    rm_stopwords = lambda x: remove_stopwords(x)\n",
    "    df['review'] = df['review'].apply(rm_stopwords)\n",
    "    \n",
    "    # Removing accents\n",
    "    remove_accent = lambda x: unidecode.unidecode(x)\n",
    "    df['review'] = df['review'].apply(remove_accent)\n",
    "    \n",
    "    # Remove words with less than 3 chars\n",
    "    remove_less_2 = lambda x: remove_words_less_than_2(x)\n",
    "    df['review'] = df['review'].apply(remove_less_2)\n",
    "    \n",
    "    return df"
   ]
  },
  {
   "cell_type": "code",
   "execution_count": 20,
   "metadata": {},
   "outputs": [
    {
     "data": {
      "text/html": [
       "<div>\n",
       "<style scoped>\n",
       "    .dataframe tbody tr th:only-of-type {\n",
       "        vertical-align: middle;\n",
       "    }\n",
       "\n",
       "    .dataframe tbody tr th {\n",
       "        vertical-align: top;\n",
       "    }\n",
       "\n",
       "    .dataframe thead th {\n",
       "        text-align: right;\n",
       "    }\n",
       "</style>\n",
       "<table border=\"1\" class=\"dataframe\">\n",
       "  <thead>\n",
       "    <tr style=\"text-align: right;\">\n",
       "      <th></th>\n",
       "      <th>review</th>\n",
       "      <th>voted_up</th>\n",
       "    </tr>\n",
       "  </thead>\n",
       "  <tbody>\n",
       "    <tr>\n",
       "      <th>0</th>\n",
       "      <td>jogo otimo divertido dificil mim melhor ainda ...</td>\n",
       "      <td>True</td>\n",
       "    </tr>\n",
       "    <tr>\n",
       "      <th>1</th>\n",
       "      <td>excelente jogo gostava antes conseguiram melho...</td>\n",
       "      <td>True</td>\n",
       "    </tr>\n",
       "    <tr>\n",
       "      <th>2</th>\n",
       "      <td>bosta total tela toda borrada vai merda</td>\n",
       "      <td>False</td>\n",
       "    </tr>\n",
       "    <tr>\n",
       "      <th>3</th>\n",
       "      <td>otimo jogo bom ainda coop apesar ser pouco pesado</td>\n",
       "      <td>True</td>\n",
       "    </tr>\n",
       "    <tr>\n",
       "      <th>4</th>\n",
       "      <td>envelheceu mal nada realmente importante nesse...</td>\n",
       "      <td>False</td>\n",
       "    </tr>\n",
       "    <tr>\n",
       "      <th>5</th>\n",
       "      <td>bom muita coisa fazer agrada diferentes tipos ...</td>\n",
       "      <td>True</td>\n",
       "    </tr>\n",
       "    <tr>\n",
       "      <th>6</th>\n",
       "      <td>odallus excelente jogo engloba elementos aprec...</td>\n",
       "      <td>True</td>\n",
       "    </tr>\n",
       "    <tr>\n",
       "      <th>7</th>\n",
       "      <td>jogo otimo jogar</td>\n",
       "      <td>True</td>\n",
       "    </tr>\n",
       "    <tr>\n",
       "      <th>8</th>\n",
       "      <td>bom jogo bons graficos boa historia joguei pou...</td>\n",
       "      <td>False</td>\n",
       "    </tr>\n",
       "    <tr>\n",
       "      <th>9</th>\n",
       "      <td>poderes bem divertidos inicio estoria jogo emp...</td>\n",
       "      <td>False</td>\n",
       "    </tr>\n",
       "  </tbody>\n",
       "</table>\n",
       "</div>"
      ],
      "text/plain": [
       "                                              review  voted_up\n",
       "0  jogo otimo divertido dificil mim melhor ainda ...      True\n",
       "1  excelente jogo gostava antes conseguiram melho...      True\n",
       "2            bosta total tela toda borrada vai merda     False\n",
       "3  otimo jogo bom ainda coop apesar ser pouco pesado      True\n",
       "4  envelheceu mal nada realmente importante nesse...     False\n",
       "5  bom muita coisa fazer agrada diferentes tipos ...      True\n",
       "6  odallus excelente jogo engloba elementos aprec...      True\n",
       "7                                   jogo otimo jogar      True\n",
       "8  bom jogo bons graficos boa historia joguei pou...     False\n",
       "9  poderes bem divertidos inicio estoria jogo emp...     False"
      ]
     },
     "execution_count": 20,
     "metadata": {},
     "output_type": "execute_result"
    }
   ],
   "source": [
    "data = process_data(data)\n",
    "data.head(10)"
   ]
  },
  {
   "cell_type": "markdown",
   "metadata": {},
   "source": [
    "# TF-IDF"
   ]
  },
  {
   "cell_type": "code",
   "execution_count": 21,
   "metadata": {},
   "outputs": [
    {
     "data": {
      "text/plain": [
       "[('jogo', 5983.393129911418),\n",
       " ('bom', 2932.6897207824145),\n",
       " ('jogar', 1745.2510137470601),\n",
       " ('recomendo', 1686.395342613354),\n",
       " ('game', 1510.7186433537838),\n",
       " ('bem', 1475.5469723054327),\n",
       " ('melhor', 1429.2816436437633),\n",
       " ('nao', 1307.281568156953),\n",
       " ('otimo', 1155.7941290580222),\n",
       " ('historia', 1145.754567640435),\n",
       " ('divertido', 1055.8616563902629),\n",
       " ('ruim', 1031.2171625126562),\n",
       " ('ser', 1025.9703557629427),\n",
       " ('jogabilidade', 1009.9797782768869),\n",
       " ('vale', 976.768124333627),\n",
       " ('tempo', 976.5032208555782),\n",
       " ('jogos', 915.6021793828961),\n",
       " ('legal', 906.7505375260512),\n",
       " ('pena', 890.1663408014688),\n",
       " ('graficos', 861.1558113307284),\n",
       " ('ainda', 836.3853118683086),\n",
       " ('joguei', 825.1352969322043),\n",
       " ('gostei', 775.286453822748),\n",
       " ('amigos', 769.6533217583781),\n",
       " ('boa', 750.292459882427)]"
      ]
     },
     "execution_count": 21,
     "metadata": {},
     "output_type": "execute_result"
    }
   ],
   "source": [
    "from sklearn.feature_extraction.text import TfidfVectorizer\n",
    "\n",
    "stop_words = set(stopwords.words('portuguese')).union(set(stopwords.words('english')))\n",
    "\n",
    "corpus = data['review'].values\n",
    "\n",
    "tfidf = TfidfVectorizer(stop_words=stop_words)\n",
    "response = tfidf.fit_transform(corpus)\n",
    "\n",
    "scores = zip(tfidf.get_feature_names(), np.asarray(response.sum(axis=0)).ravel())\n",
    "sorted_scores = sorted(scores, key=lambda x: x[1], reverse=True)\n",
    "sorted_scores[:25]"
   ]
  },
  {
   "cell_type": "markdown",
   "metadata": {},
   "source": [
    "### Calcula a media e desvio padrão dos scores do TF-IDF"
   ]
  },
  {
   "cell_type": "code",
   "execution_count": 22,
   "metadata": {},
   "outputs": [],
   "source": [
    "import statistics as st\n",
    "\n",
    "scores_labels = [x[1] for x in sorted_scores]\n",
    "media = sum(scores_labels)/len(scores_labels)\n",
    "dp = st.stdev(scores_labels)"
   ]
  },
  {
   "cell_type": "markdown",
   "metadata": {},
   "source": [
    "### Pega apenas os scores com valores acima da média + 1 desvio padrão"
   ]
  },
  {
   "cell_type": "code",
   "execution_count": 23,
   "metadata": {},
   "outputs": [],
   "source": [
    "best_scores = []\n",
    "for score in sorted_scores:\n",
    "    if score[1] < media + dp:\n",
    "        break\n",
    "    best_scores.append(score)"
   ]
  },
  {
   "cell_type": "markdown",
   "metadata": {},
   "source": [
    "### Diferença no tamanho dos conjuntos"
   ]
  },
  {
   "cell_type": "code",
   "execution_count": 24,
   "metadata": {},
   "outputs": [
    {
     "name": "stdout",
     "output_type": "stream",
     "text": [
      "Tamanho do conjunto original: 78604\n",
      "Tamanho do conjunto com os melhores scores: 1320\n"
     ]
    }
   ],
   "source": [
    "print(\"Tamanho do conjunto original:\", len(sorted_scores))\n",
    "print(\"Tamanho do conjunto com os melhores scores:\", len(best_scores))"
   ]
  },
  {
   "cell_type": "markdown",
   "metadata": {},
   "source": [
    "## Criação do dataset utilizado no modelo de aprendizado"
   ]
  },
  {
   "cell_type": "markdown",
   "metadata": {},
   "source": [
    "### Testando as melhores combinações de entrada"
   ]
  },
  {
   "cell_type": "code",
   "execution_count": 40,
   "metadata": {},
   "outputs": [],
   "source": [
    "# Corpus do texto\n",
    "corpus = data['review'].values\n",
    "size = int(len(best_scores)/3)\n",
    "\n",
    "# Usado para retornar o corpus apenas com as palavras top\n",
    "def refined_corpus(label_scores, corpus):\n",
    "    only_words = set([x[0] for x in label_scores])\n",
    "\n",
    "    new_corpus = []\n",
    "    for text in corpus:\n",
    "        words = text.split(\" \")\n",
    "        new_text = [word for word in words if word in only_words]\n",
    "        new_corpus.append(' '.join(new_text))\n",
    "    \n",
    "    return new_corpus"
   ]
  },
  {
   "cell_type": "markdown",
   "metadata": {},
   "source": [
    "### Testando com o primeiro, segundo e terceiro terço"
   ]
  },
  {
   "cell_type": "code",
   "execution_count": 51,
   "metadata": {},
   "outputs": [],
   "source": [
    "# Primeiro terço\n",
    "begin = 0\n",
    "end = begin + size\n",
    "input_scores = best_scores[begin:end]\n",
    "corpus_1_3 = refined_corpus(input_scores, corpus)\n",
    "\n",
    "# Segundo terço\n",
    "begin = size\n",
    "end = begin + size\n",
    "input_scores = best_scores[begin:end]\n",
    "corpus_2_3 = refined_corpus(input_scores, corpus)\n",
    "\n",
    "# Terceiro terço\n",
    "begin = size * 2\n",
    "end = begin + size\n",
    "input_scores = best_scores[begin:end]\n",
    "corpus_3_3 = refined_corpus(input_scores, corpus)\n",
    "\n",
    "# Utilizando todos os melhores\n",
    "corpus_best = refined_corpus(best_scores, corpus)\n",
    "\n",
    "list_corpus = [\n",
    "    corpus_1_3,\n",
    "    corpus_2_3,\n",
    "    corpus_3_3,\n",
    "    corpus_best,\n",
    "]\n"
   ]
  },
  {
   "cell_type": "code",
   "execution_count": 52,
   "metadata": {},
   "outputs": [],
   "source": [
    "qts = []\n",
    "for c in list_corpus:\n",
    "    tfidf = TfidfVectorizer(stop_words=stop_words)\n",
    "    response = tfidf.fit_transform(c)\n",
    "    \n",
    "    total = 0\n",
    "    for review in response.toarray():\n",
    "        x = sum(review)\n",
    "        if x > 0:\n",
    "            total += 1\n",
    "    \n",
    "    qts.append(total)"
   ]
  },
  {
   "cell_type": "code",
   "execution_count": 54,
   "metadata": {},
   "outputs": [
    {
     "name": "stdout",
     "output_type": "stream",
     "text": [
      "Corpus 1: 0.9341086956521739\n",
      "Corpus 2: 0.6161630434782609\n",
      "Corpus 3: 0.472695652173913\n",
      "Full Corpus: 0.9579673913043478\n"
     ]
    }
   ],
   "source": [
    "print(\"Corpus 1:\", qts[0]/len(list_corpus[0]))\n",
    "print(\"Corpus 2:\", qts[1]/len(list_corpus[0]))\n",
    "print(\"Corpus 3:\", qts[2]/len(list_corpus[0]))\n",
    "print(\"Full Corpus:\", qts[3]/len(list_corpus[0]))"
   ]
  },
  {
   "cell_type": "markdown",
   "metadata": {},
   "source": [
    "### Utilizar o primeiro terço, pois engobla 93% do dataset original"
   ]
  },
  {
   "cell_type": "code",
   "execution_count": 56,
   "metadata": {},
   "outputs": [],
   "source": [
    "from sklearn.model_selection import train_test_split\n",
    "\n",
    "tfidf = TfidfVectorizer(stop_words=stop_words)\n",
    "\n",
    "processed_features = tfidf.fit_transform(corpus_1_3).toarray()\n",
    "labels = data['voted_up'].values\n",
    "\n",
    "X_train, X_test, y_train, y_test = train_test_split(processed_features, labels, test_size=0.2, random_state=0)"
   ]
  },
  {
   "cell_type": "code",
   "execution_count": 57,
   "metadata": {},
   "outputs": [
    {
     "data": {
      "text/plain": [
       "0.7970652173913043"
      ]
     },
     "execution_count": 57,
     "metadata": {},
     "output_type": "execute_result"
    }
   ],
   "source": [
    "from sklearn.naive_bayes import MultinomialNB\n",
    "\n",
    "nb_clf = MultinomialNB()\n",
    "nb_clf.fit(X_train, y_train)\n",
    "predicted = nb_clf.predict(X_test)\n",
    "np.mean(predicted == y_test)"
   ]
  },
  {
   "cell_type": "code",
   "execution_count": 58,
   "metadata": {},
   "outputs": [
    {
     "name": "stdout",
     "output_type": "stream",
     "text": [
      "[[6899 2309]\n",
      " [1425 7767]]\n",
      "              precision    recall  f1-score   support\n",
      "\n",
      "       False       0.83      0.75      0.79      9208\n",
      "        True       0.77      0.84      0.81      9192\n",
      "\n",
      "   micro avg       0.80      0.80      0.80     18400\n",
      "   macro avg       0.80      0.80      0.80     18400\n",
      "weighted avg       0.80      0.80      0.80     18400\n",
      "\n",
      "0.7970652173913043\n"
     ]
    }
   ],
   "source": [
    "from sklearn.metrics import classification_report, confusion_matrix, accuracy_score\n",
    "\n",
    "print(confusion_matrix(y_test,predicted))\n",
    "print(classification_report(y_test,predicted))\n",
    "print(accuracy_score(y_test, predicted))"
   ]
  }
 ],
 "metadata": {
  "kernelspec": {
   "display_name": "Python 3",
   "language": "python",
   "name": "python3"
  },
  "language_info": {
   "codemirror_mode": {
    "name": "ipython",
    "version": 3
   },
   "file_extension": ".py",
   "mimetype": "text/x-python",
   "name": "python",
   "nbconvert_exporter": "python",
   "pygments_lexer": "ipython3",
   "version": "3.7.3"
  }
 },
 "nbformat": 4,
 "nbformat_minor": 4
}
