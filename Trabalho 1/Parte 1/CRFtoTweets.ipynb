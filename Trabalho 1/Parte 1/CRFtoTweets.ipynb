{
 "cells": [
  {
   "cell_type": "code",
   "execution_count": 1,
   "metadata": {
    "colab": {
     "base_uri": "https://localhost:8080/",
     "height": 207
    },
    "colab_type": "code",
    "executionInfo": {
     "elapsed": 5417,
     "status": "ok",
     "timestamp": 1570568527329,
     "user": {
      "displayName": "Juan Burtet",
      "photoUrl": "https://lh3.googleusercontent.com/a-/AAuE7mBXF7vkQ935dU74v9WkOZSTP1cvttRtRycdP2Z4=s64",
      "userId": "10818630050537661018"
     },
     "user_tz": 180
    },
    "id": "kQpBw8ClwKhy",
    "outputId": "3b0416ff-d786-4f3b-e2aa-136c285b3f85"
   },
   "outputs": [
    {
     "name": "stdout",
     "output_type": "stream",
     "text": [
      "Requirement already satisfied: sklearn_crfsuite in /home/juan-burtet/.anaconda3/lib/python3.7/site-packages (0.3.6)\n",
      "Requirement already satisfied: tqdm>=2.0 in /home/juan-burtet/.local/lib/python3.7/site-packages (from sklearn_crfsuite) (4.36.1)\n",
      "Requirement already satisfied: tabulate in /home/juan-burtet/.anaconda3/lib/python3.7/site-packages (from sklearn_crfsuite) (0.8.5)\n",
      "Requirement already satisfied: python-crfsuite>=0.8.3 in /home/juan-burtet/.anaconda3/lib/python3.7/site-packages (from sklearn_crfsuite) (0.9.6)\n",
      "Requirement already satisfied: six in /home/juan-burtet/.anaconda3/lib/python3.7/site-packages (from sklearn_crfsuite) (1.12.0)\n"
     ]
    }
   ],
   "source": [
    "!pip install sklearn_crfsuite"
   ]
  },
  {
   "cell_type": "code",
   "execution_count": 2,
   "metadata": {
    "colab": {},
    "colab_type": "code",
    "id": "tFkY0TjfgUmS"
   },
   "outputs": [],
   "source": [
    "import pandas as pd\n",
    "\n",
    "from sklearn.model_selection import train_test_split\n",
    "from sklearn_crfsuite import CRF\n",
    "from sklearn_crfsuite.metrics import flat_f1_score\n",
    "from sklearn_crfsuite.metrics import flat_classification_report"
   ]
  },
  {
   "cell_type": "code",
   "execution_count": 8,
   "metadata": {
    "colab": {},
    "colab_type": "code",
    "id": "iOp-aTy_ieAj"
   },
   "outputs": [],
   "source": [
    "#Reading the csv file\n",
    "df = pd.read_csv('Datasets/ptbr_tweets.csv', \n",
    "                 sep=\"\\t\")"
   ]
  },
  {
   "cell_type": "code",
   "execution_count": 9,
   "metadata": {
    "colab": {
     "base_uri": "https://localhost:8080/",
     "height": 669
    },
    "colab_type": "code",
    "executionInfo": {
     "elapsed": 695,
     "status": "ok",
     "timestamp": 1570569646498,
     "user": {
      "displayName": "Juan Burtet",
      "photoUrl": "https://lh3.googleusercontent.com/a-/AAuE7mBXF7vkQ935dU74v9WkOZSTP1cvttRtRycdP2Z4=s64",
      "userId": "10818630050537661018"
     },
     "user_tz": 180
    },
    "id": "POlai37NkXB-",
    "outputId": "161fd02f-90a3-4c64-c4f7-670bcb922158"
   },
   "outputs": [
    {
     "data": {
      "text/html": [
       "<div>\n",
       "<style scoped>\n",
       "    .dataframe tbody tr th:only-of-type {\n",
       "        vertical-align: middle;\n",
       "    }\n",
       "\n",
       "    .dataframe tbody tr th {\n",
       "        vertical-align: top;\n",
       "    }\n",
       "\n",
       "    .dataframe thead th {\n",
       "        text-align: right;\n",
       "    }\n",
       "</style>\n",
       "<table border=\"1\" class=\"dataframe\">\n",
       "  <thead>\n",
       "    <tr style=\"text-align: right;\">\n",
       "      <th></th>\n",
       "      <th>Sentence #</th>\n",
       "      <th>Word</th>\n",
       "      <th>POS</th>\n",
       "      <th>Tag</th>\n",
       "    </tr>\n",
       "  </thead>\n",
       "  <tbody>\n",
       "    <tr>\n",
       "      <th>0</th>\n",
       "      <td>Sentence 1</td>\n",
       "      <td>eu</td>\n",
       "      <td>PRON</td>\n",
       "      <td>O</td>\n",
       "    </tr>\n",
       "    <tr>\n",
       "      <th>1</th>\n",
       "      <td>Sentence 1</td>\n",
       "      <td>sei</td>\n",
       "      <td>VERB</td>\n",
       "      <td>O</td>\n",
       "    </tr>\n",
       "    <tr>\n",
       "      <th>2</th>\n",
       "      <td>Sentence 1</td>\n",
       "      <td>que</td>\n",
       "      <td>SCONJ</td>\n",
       "      <td>O</td>\n",
       "    </tr>\n",
       "    <tr>\n",
       "      <th>3</th>\n",
       "      <td>Sentence 1</td>\n",
       "      <td>não</td>\n",
       "      <td>ADV</td>\n",
       "      <td>O</td>\n",
       "    </tr>\n",
       "    <tr>\n",
       "      <th>4</th>\n",
       "      <td>Sentence 1</td>\n",
       "      <td>sou</td>\n",
       "      <td>VERB</td>\n",
       "      <td>O</td>\n",
       "    </tr>\n",
       "    <tr>\n",
       "      <th>5</th>\n",
       "      <td>Sentence 1</td>\n",
       "      <td>escritor</td>\n",
       "      <td>ADJ</td>\n",
       "      <td>O</td>\n",
       "    </tr>\n",
       "    <tr>\n",
       "      <th>6</th>\n",
       "      <td>Sentence 1</td>\n",
       "      <td>e</td>\n",
       "      <td>CCONJ</td>\n",
       "      <td>O</td>\n",
       "    </tr>\n",
       "    <tr>\n",
       "      <th>7</th>\n",
       "      <td>Sentence 1</td>\n",
       "      <td>so</td>\n",
       "      <td>VERB</td>\n",
       "      <td>O</td>\n",
       "    </tr>\n",
       "    <tr>\n",
       "      <th>8</th>\n",
       "      <td>Sentence 1</td>\n",
       "      <td>uma</td>\n",
       "      <td>DET</td>\n",
       "      <td>O</td>\n",
       "    </tr>\n",
       "    <tr>\n",
       "      <th>9</th>\n",
       "      <td>Sentence 1</td>\n",
       "      <td>carta</td>\n",
       "      <td>NOUN</td>\n",
       "      <td>O</td>\n",
       "    </tr>\n",
       "  </tbody>\n",
       "</table>\n",
       "</div>"
      ],
      "text/plain": [
       "   Sentence #      Word    POS Tag\n",
       "0  Sentence 1        eu   PRON   O\n",
       "1  Sentence 1       sei   VERB   O\n",
       "2  Sentence 1       que  SCONJ   O\n",
       "3  Sentence 1       não    ADV   O\n",
       "4  Sentence 1       sou   VERB   O\n",
       "5  Sentence 1  escritor    ADJ   O\n",
       "6  Sentence 1         e  CCONJ   O\n",
       "7  Sentence 1        so   VERB   O\n",
       "8  Sentence 1       uma    DET   O\n",
       "9  Sentence 1     carta   NOUN   O"
      ]
     },
     "execution_count": 9,
     "metadata": {},
     "output_type": "execute_result"
    }
   ],
   "source": [
    "#Display first 10 rows\n",
    "df.head(10)"
   ]
  },
  {
   "cell_type": "code",
   "execution_count": 10,
   "metadata": {
    "colab": {
     "base_uri": "https://localhost:8080/",
     "height": 173
    },
    "colab_type": "code",
    "executionInfo": {
     "elapsed": 1284,
     "status": "ok",
     "timestamp": 1570568615248,
     "user": {
      "displayName": "Juan Burtet",
      "photoUrl": "https://lh3.googleusercontent.com/a-/AAuE7mBXF7vkQ935dU74v9WkOZSTP1cvttRtRycdP2Z4=s64",
      "userId": "10818630050537661018"
     },
     "user_tz": 180
    },
    "id": "Ht2NynEBkZaB",
    "outputId": "e000ff35-f053-462b-fa99-3808d7cf78c6"
   },
   "outputs": [
    {
     "data": {
      "text/html": [
       "<div>\n",
       "<style scoped>\n",
       "    .dataframe tbody tr th:only-of-type {\n",
       "        vertical-align: middle;\n",
       "    }\n",
       "\n",
       "    .dataframe tbody tr th {\n",
       "        vertical-align: top;\n",
       "    }\n",
       "\n",
       "    .dataframe thead th {\n",
       "        text-align: right;\n",
       "    }\n",
       "</style>\n",
       "<table border=\"1\" class=\"dataframe\">\n",
       "  <thead>\n",
       "    <tr style=\"text-align: right;\">\n",
       "      <th></th>\n",
       "      <th>Sentence #</th>\n",
       "      <th>Word</th>\n",
       "      <th>POS</th>\n",
       "      <th>Tag</th>\n",
       "    </tr>\n",
       "  </thead>\n",
       "  <tbody>\n",
       "    <tr>\n",
       "      <th>count</th>\n",
       "      <td>26875</td>\n",
       "      <td>26868</td>\n",
       "      <td>26875</td>\n",
       "      <td>26875</td>\n",
       "    </tr>\n",
       "    <tr>\n",
       "      <th>unique</th>\n",
       "      <td>2308</td>\n",
       "      <td>7958</td>\n",
       "      <td>17</td>\n",
       "      <td>7</td>\n",
       "    </tr>\n",
       "    <tr>\n",
       "      <th>top</th>\n",
       "      <td>Sentence 1707</td>\n",
       "      <td>,</td>\n",
       "      <td>PROPN</td>\n",
       "      <td>O</td>\n",
       "    </tr>\n",
       "    <tr>\n",
       "      <th>freq</th>\n",
       "      <td>50</td>\n",
       "      <td>730</td>\n",
       "      <td>5342</td>\n",
       "      <td>26143</td>\n",
       "    </tr>\n",
       "  </tbody>\n",
       "</table>\n",
       "</div>"
      ],
      "text/plain": [
       "           Sentence #   Word    POS    Tag\n",
       "count           26875  26868  26875  26875\n",
       "unique           2308   7958     17      7\n",
       "top     Sentence 1707      ,  PROPN      O\n",
       "freq               50    730   5342  26143"
      ]
     },
     "execution_count": 10,
     "metadata": {},
     "output_type": "execute_result"
    }
   ],
   "source": [
    "df.describe()"
   ]
  },
  {
   "cell_type": "code",
   "execution_count": 11,
   "metadata": {
    "colab": {
     "base_uri": "https://localhost:8080/",
     "height": 68
    },
    "colab_type": "code",
    "executionInfo": {
     "elapsed": 861,
     "status": "ok",
     "timestamp": 1570568646538,
     "user": {
      "displayName": "Juan Burtet",
      "photoUrl": "https://lh3.googleusercontent.com/a-/AAuE7mBXF7vkQ935dU74v9WkOZSTP1cvttRtRycdP2Z4=s64",
      "userId": "10818630050537661018"
     },
     "user_tz": 180
    },
    "id": "XilRrqSgkcUm",
    "outputId": "7eea9035-ee15-453c-9aee-7bca765e9f17"
   },
   "outputs": [
    {
     "data": {
      "text/plain": [
       "array(['O', 'B-person', 'B-location', 'I-location', 'I-person',\n",
       "       'B-organization', 'I-organization'], dtype=object)"
      ]
     },
     "execution_count": 11,
     "metadata": {},
     "output_type": "execute_result"
    }
   ],
   "source": [
    "#Displaying the unique Tags\n",
    "df['Tag'].unique()"
   ]
  },
  {
   "cell_type": "code",
   "execution_count": 12,
   "metadata": {
    "colab": {
     "base_uri": "https://localhost:8080/",
     "height": 576
    },
    "colab_type": "code",
    "executionInfo": {
     "elapsed": 668,
     "status": "ok",
     "timestamp": 1570568652875,
     "user": {
      "displayName": "Juan Burtet",
      "photoUrl": "https://lh3.googleusercontent.com/a-/AAuE7mBXF7vkQ935dU74v9WkOZSTP1cvttRtRycdP2Z4=s64",
      "userId": "10818630050537661018"
     },
     "user_tz": 180
    },
    "id": "JZCq83mdcXQO",
    "outputId": "cc02afcd-309f-4238-ccf2-6e6f4361ee2a"
   },
   "outputs": [
    {
     "data": {
      "text/html": [
       "<div>\n",
       "<style scoped>\n",
       "    .dataframe tbody tr th:only-of-type {\n",
       "        vertical-align: middle;\n",
       "    }\n",
       "\n",
       "    .dataframe tbody tr th {\n",
       "        vertical-align: top;\n",
       "    }\n",
       "\n",
       "    .dataframe thead th {\n",
       "        text-align: right;\n",
       "    }\n",
       "</style>\n",
       "<table border=\"1\" class=\"dataframe\">\n",
       "  <thead>\n",
       "    <tr style=\"text-align: right;\">\n",
       "      <th></th>\n",
       "      <th>Tag</th>\n",
       "      <th>counts</th>\n",
       "    </tr>\n",
       "  </thead>\n",
       "  <tbody>\n",
       "    <tr>\n",
       "      <th>0</th>\n",
       "      <td>B-location</td>\n",
       "      <td>114</td>\n",
       "    </tr>\n",
       "    <tr>\n",
       "      <th>1</th>\n",
       "      <td>B-organization</td>\n",
       "      <td>125</td>\n",
       "    </tr>\n",
       "    <tr>\n",
       "      <th>2</th>\n",
       "      <td>B-person</td>\n",
       "      <td>291</td>\n",
       "    </tr>\n",
       "    <tr>\n",
       "      <th>3</th>\n",
       "      <td>I-location</td>\n",
       "      <td>69</td>\n",
       "    </tr>\n",
       "    <tr>\n",
       "      <th>4</th>\n",
       "      <td>I-organization</td>\n",
       "      <td>47</td>\n",
       "    </tr>\n",
       "    <tr>\n",
       "      <th>5</th>\n",
       "      <td>I-person</td>\n",
       "      <td>86</td>\n",
       "    </tr>\n",
       "    <tr>\n",
       "      <th>6</th>\n",
       "      <td>O</td>\n",
       "      <td>26143</td>\n",
       "    </tr>\n",
       "  </tbody>\n",
       "</table>\n",
       "</div>"
      ],
      "text/plain": [
       "              Tag  counts\n",
       "0      B-location     114\n",
       "1  B-organization     125\n",
       "2        B-person     291\n",
       "3      I-location      69\n",
       "4  I-organization      47\n",
       "5        I-person      86\n",
       "6               O   26143"
      ]
     },
     "execution_count": 12,
     "metadata": {},
     "output_type": "execute_result"
    }
   ],
   "source": [
    "df.groupby('Tag').size().reset_index(name='counts')"
   ]
  },
  {
   "cell_type": "code",
   "execution_count": 13,
   "metadata": {
    "colab": {
     "base_uri": "https://localhost:8080/",
     "height": 102
    },
    "colab_type": "code",
    "executionInfo": {
     "elapsed": 673,
     "status": "ok",
     "timestamp": 1570568659076,
     "user": {
      "displayName": "Juan Burtet",
      "photoUrl": "https://lh3.googleusercontent.com/a-/AAuE7mBXF7vkQ935dU74v9WkOZSTP1cvttRtRycdP2Z4=s64",
      "userId": "10818630050537661018"
     },
     "user_tz": 180
    },
    "id": "XCMg-VAwkfCt",
    "outputId": "bdf33b67-9bbe-47ce-c069-4207aa46a13c"
   },
   "outputs": [
    {
     "data": {
      "text/plain": [
       "Sentence #    0\n",
       "Word          7\n",
       "POS           0\n",
       "Tag           0\n",
       "dtype: int64"
      ]
     },
     "execution_count": 13,
     "metadata": {},
     "output_type": "execute_result"
    }
   ],
   "source": [
    "#Checking null values, if any.\n",
    "df.isnull().sum()"
   ]
  },
  {
   "cell_type": "code",
   "execution_count": 14,
   "metadata": {
    "colab": {
     "base_uri": "https://localhost:8080/",
     "height": 204
    },
    "colab_type": "code",
    "executionInfo": {
     "elapsed": 671,
     "status": "ok",
     "timestamp": 1570569199784,
     "user": {
      "displayName": "Juan Burtet",
      "photoUrl": "https://lh3.googleusercontent.com/a-/AAuE7mBXF7vkQ935dU74v9WkOZSTP1cvttRtRycdP2Z4=s64",
      "userId": "10818630050537661018"
     },
     "user_tz": 180
    },
    "id": "v8L4a74gkht2",
    "outputId": "734a0f5b-3de2-4e45-9930-c5d243a8b9e7"
   },
   "outputs": [
    {
     "data": {
      "text/html": [
       "<div>\n",
       "<style scoped>\n",
       "    .dataframe tbody tr th:only-of-type {\n",
       "        vertical-align: middle;\n",
       "    }\n",
       "\n",
       "    .dataframe tbody tr th {\n",
       "        vertical-align: top;\n",
       "    }\n",
       "\n",
       "    .dataframe thead th {\n",
       "        text-align: right;\n",
       "    }\n",
       "</style>\n",
       "<table border=\"1\" class=\"dataframe\">\n",
       "  <thead>\n",
       "    <tr style=\"text-align: right;\">\n",
       "      <th></th>\n",
       "      <th>Sentence #</th>\n",
       "      <th>Word</th>\n",
       "      <th>POS</th>\n",
       "      <th>Tag</th>\n",
       "    </tr>\n",
       "  </thead>\n",
       "  <tbody>\n",
       "    <tr>\n",
       "      <th>0</th>\n",
       "      <td>Sentence 1</td>\n",
       "      <td>eu</td>\n",
       "      <td>PRON</td>\n",
       "      <td>O</td>\n",
       "    </tr>\n",
       "    <tr>\n",
       "      <th>1</th>\n",
       "      <td>Sentence 1</td>\n",
       "      <td>sei</td>\n",
       "      <td>VERB</td>\n",
       "      <td>O</td>\n",
       "    </tr>\n",
       "    <tr>\n",
       "      <th>2</th>\n",
       "      <td>Sentence 1</td>\n",
       "      <td>que</td>\n",
       "      <td>SCONJ</td>\n",
       "      <td>O</td>\n",
       "    </tr>\n",
       "    <tr>\n",
       "      <th>3</th>\n",
       "      <td>Sentence 1</td>\n",
       "      <td>não</td>\n",
       "      <td>ADV</td>\n",
       "      <td>O</td>\n",
       "    </tr>\n",
       "    <tr>\n",
       "      <th>4</th>\n",
       "      <td>Sentence 1</td>\n",
       "      <td>sou</td>\n",
       "      <td>VERB</td>\n",
       "      <td>O</td>\n",
       "    </tr>\n",
       "  </tbody>\n",
       "</table>\n",
       "</div>"
      ],
      "text/plain": [
       "   Sentence # Word    POS Tag\n",
       "0  Sentence 1   eu   PRON   O\n",
       "1  Sentence 1  sei   VERB   O\n",
       "2  Sentence 1  que  SCONJ   O\n",
       "3  Sentence 1  não    ADV   O\n",
       "4  Sentence 1  sou   VERB   O"
      ]
     },
     "execution_count": 14,
     "metadata": {},
     "output_type": "execute_result"
    }
   ],
   "source": [
    "df = df.fillna(method = 'ffill')\n",
    "df.head()"
   ]
  },
  {
   "cell_type": "code",
   "execution_count": 15,
   "metadata": {
    "colab": {},
    "colab_type": "code",
    "id": "0o8YTZ6okkQ6"
   },
   "outputs": [],
   "source": [
    "# This is a class te get sentence. The each sentence will be list of tuples with its tag and pos.\n",
    "class sentence(object):\n",
    "    def __init__(self, df):\n",
    "        self.n_sent = 1\n",
    "        self.df = df\n",
    "        self.empty = False\n",
    "        agg = lambda s : [(w, p, t) for w, p, t in zip(s['Word'].values.tolist(),\n",
    "                                                       s['POS'].values.tolist(),\n",
    "                                                       s['Tag'].values.tolist())]\n",
    "        self.grouped = self.df.groupby(\"Sentence #\").apply(agg)\n",
    "        self.sentences = [s for s in self.grouped]\n",
    "        \n",
    "    def get_text(self):\n",
    "        try:\n",
    "            s = self.grouped['Sentence: {}'.format(self.n_sent)]\n",
    "            self.n_sent +=1\n",
    "            return s\n",
    "        except:\n",
    "            return None"
   ]
  },
  {
   "cell_type": "code",
   "execution_count": 16,
   "metadata": {
    "colab": {
     "base_uri": "https://localhost:8080/",
     "height": 54
    },
    "colab_type": "code",
    "executionInfo": {
     "elapsed": 5542,
     "status": "ok",
     "timestamp": 1570568695717,
     "user": {
      "displayName": "Juan Burtet",
      "photoUrl": "https://lh3.googleusercontent.com/a-/AAuE7mBXF7vkQ935dU74v9WkOZSTP1cvttRtRycdP2Z4=s64",
      "userId": "10818630050537661018"
     },
     "user_tz": 180
    },
    "id": "tWllmDjLkmoi",
    "outputId": "a12efc56-91a9-49f0-d633-1125c5b98651"
   },
   "outputs": [
    {
     "data": {
      "text/plain": [
       "'eu sei que não sou escritor e so uma carta de amor de alguém que te quer de verdade 🎵 ❤'"
      ]
     },
     "execution_count": 16,
     "metadata": {},
     "output_type": "execute_result"
    }
   ],
   "source": [
    "#Displaying one full sentence\n",
    "getter = sentence(df)\n",
    "sentences = [\" \".join([s[0] for s in sent]) for sent in getter.sentences]\n",
    "sentences[0]"
   ]
  },
  {
   "cell_type": "code",
   "execution_count": 17,
   "metadata": {
    "colab": {},
    "colab_type": "code",
    "id": "g7OGCao7kqn8"
   },
   "outputs": [
    {
     "data": {
      "text/plain": [
       "[('eu', 'PRON', 'O'),\n",
       " ('sei', 'VERB', 'O'),\n",
       " ('que', 'SCONJ', 'O'),\n",
       " ('não', 'ADV', 'O'),\n",
       " ('sou', 'VERB', 'O'),\n",
       " ('escritor', 'ADJ', 'O'),\n",
       " ('e', 'CCONJ', 'O'),\n",
       " ('so', 'VERB', 'O'),\n",
       " ('uma', 'DET', 'O'),\n",
       " ('carta', 'NOUN', 'O'),\n",
       " ('de', 'ADP', 'O'),\n",
       " ('amor', 'NOUN', 'O'),\n",
       " ('de', 'ADP', 'O'),\n",
       " ('alguém', 'PRON', 'O'),\n",
       " ('que', 'PRON', 'O'),\n",
       " ('te', 'VERB', 'O'),\n",
       " ('quer', 'VERB', 'O'),\n",
       " ('de', 'ADP', 'O'),\n",
       " ('verdade', 'NOUN', 'O'),\n",
       " ('🎵', 'PROPN', 'O'),\n",
       " ('❤', 'PROPN', 'O')]"
      ]
     },
     "execution_count": 17,
     "metadata": {},
     "output_type": "execute_result"
    }
   ],
   "source": [
    "sentences = getter.sentences\n",
    "sentences[0]"
   ]
  },
  {
   "cell_type": "code",
   "execution_count": 37,
   "metadata": {
    "colab": {},
    "colab_type": "code",
    "id": "TfkFPp6BkvWK"
   },
   "outputs": [],
   "source": [
    "def word2features(sent, i):\n",
    "    word = sent[i][0]\n",
    "    postag = sent[i][1]\n",
    "\n",
    "    features = {\n",
    "        'bias': 1.0,\n",
    "        'postag': postag, # 1) Tag\n",
    "        'word.lower()': word.lower(), # 2) Word\n",
    "        'word': word, # 13) cap\n",
    "        'word.istitle()': word.istitle(), # 14) ini\n",
    "        'word.isdigit()': word.isdigit(), # 15) digit\n",
    "        'word.isupper()': word.isupper() # extra\n",
    "    }\n",
    "    if i > 0:\n",
    "        word1 = sent[i-1][0]\n",
    "        postag1 = sent[i-1][1]\n",
    "        features.update({\n",
    "            '-1:word.lower()': word1.lower(), # 3) prevW\n",
    "            '-1:postag': postag1, # 4) prevT\n",
    "            '-1:word': word1, # 5) prevCap\n",
    "\n",
    "        })\n",
    "    elif i > 1:\n",
    "        word2 = sent[i-2][0]\n",
    "        postag2 = sent[i-2][1]\n",
    "        features.update({\n",
    "            '-2:word.lower()' : word2.lower(), # 6) prev2W\n",
    "            '-2:postag': postag2, # 7) prev2T\n",
    "            '-2:word': word2, # 8) prev2Cap\n",
    "        })\n",
    "    else:\n",
    "        features['BOS'] = True\n",
    "\n",
    "    if i < len(sent)-1:\n",
    "        word1 = sent[i+1][0]\n",
    "        postag1 = sent[i+1][1]\n",
    "        features.update({\n",
    "            '+1:word.lower()': word1.lower(), # 9) nextW\n",
    "            '+1:postag': postag1, # 10) nextT\n",
    "            '+1:word': word, # 11) nextCap\n",
    "        })\n",
    "    \n",
    "    elif i < len(sent)-2:\n",
    "        word1 = sent[i+1][0]\n",
    "        postag1 = sent[i+1][1]\n",
    "        features.update({\n",
    "            '+2:word.lower()': word1.lower(), # 9) nextW\n",
    "            '+2:postag': postag1, # 10) nextT\n",
    "            '+2:word': word, # 11) nextCap\n",
    "        })\n",
    "    \n",
    "    else:\n",
    "        features['EOS'] = True\n",
    "\n",
    "    return features\n",
    "\n",
    "\n",
    "def sent2features(sent):\n",
    "    return [word2features(sent, i) for i in range(len(sent))]\n",
    "\n",
    "def sent2labels(sent):\n",
    "    return [label for token, postag, label in sent]\n",
    "\n",
    "def sent2tokens(sent):\n",
    "    return [token for token, postag, label in sent]\n",
    "  "
   ]
  },
  {
   "cell_type": "code",
   "execution_count": 38,
   "metadata": {
    "colab": {},
    "colab_type": "code",
    "id": "Zff7edV8kwIi"
   },
   "outputs": [],
   "source": [
    "X = [sent2features(s) for s in sentences]\n",
    "y = [sent2labels(s) for s in sentences]"
   ]
  },
  {
   "cell_type": "code",
   "execution_count": 39,
   "metadata": {
    "colab": {},
    "colab_type": "code",
    "id": "XQtxNbqdkyBG"
   },
   "outputs": [],
   "source": [
    "X_train, X_test, y_train, y_test = train_test_split(X, y, test_size = 0.2)"
   ]
  },
  {
   "cell_type": "code",
   "execution_count": 40,
   "metadata": {
    "colab": {
     "base_uri": "https://localhost:8080/",
     "height": 136
    },
    "colab_type": "code",
    "executionInfo": {
     "elapsed": 241483,
     "status": "ok",
     "timestamp": 1570569005705,
     "user": {
      "displayName": "Juan Burtet",
      "photoUrl": "https://lh3.googleusercontent.com/a-/AAuE7mBXF7vkQ935dU74v9WkOZSTP1cvttRtRycdP2Z4=s64",
      "userId": "10818630050537661018"
     },
     "user_tz": 180
    },
    "id": "K_gom-Dzkzyr",
    "outputId": "48adba72-92c1-481d-bded-dad31022d620"
   },
   "outputs": [
    {
     "data": {
      "text/plain": [
       "CRF(algorithm='lbfgs', all_possible_states=None,\n",
       "  all_possible_transitions=False, averaging=None, c=None, c1=0.1, c2=0.1,\n",
       "  calibration_candidates=None, calibration_eta=None,\n",
       "  calibration_max_trials=None, calibration_rate=None,\n",
       "  calibration_samples=None, delta=None, epsilon=None, error_sensitive=None,\n",
       "  gamma=None, keep_tempfiles=None, linesearch=None, max_iterations=100,\n",
       "  max_linesearch=None, min_freq=None, model_filename=None,\n",
       "  num_memories=None, pa_type=None, period=None, trainer_cls=None,\n",
       "  variance=None, verbose=False)"
      ]
     },
     "execution_count": 40,
     "metadata": {},
     "output_type": "execute_result"
    }
   ],
   "source": [
    "crf = CRF(algorithm = 'lbfgs',\n",
    "         c1 = 0.1,\n",
    "         c2 = 0.1,\n",
    "         max_iterations = 100,\n",
    "         all_possible_transitions = False)\n",
    "crf.fit(X_train, y_train)"
   ]
  },
  {
   "cell_type": "code",
   "execution_count": 41,
   "metadata": {
    "colab": {},
    "colab_type": "code",
    "id": "Q7tOHSAak3kd"
   },
   "outputs": [],
   "source": [
    "#Predicting on the test set.\n",
    "y_pred = crf.predict(X_test)"
   ]
  },
  {
   "cell_type": "code",
   "execution_count": 42,
   "metadata": {
    "colab": {
     "base_uri": "https://localhost:8080/",
     "height": 34
    },
    "colab_type": "code",
    "executionInfo": {
     "elapsed": 1278,
     "status": "ok",
     "timestamp": 1570569753514,
     "user": {
      "displayName": "Juan Burtet",
      "photoUrl": "https://lh3.googleusercontent.com/a-/AAuE7mBXF7vkQ935dU74v9WkOZSTP1cvttRtRycdP2Z4=s64",
      "userId": "10818630050537661018"
     },
     "user_tz": 180
    },
    "id": "D-8ZfPuwk8s0",
    "outputId": "46e3439a-97a6-4248-e0a3-260725324acf"
   },
   "outputs": [
    {
     "name": "stdout",
     "output_type": "stream",
     "text": [
      "0.9629829240964188\n"
     ]
    }
   ],
   "source": [
    "f1_score = flat_f1_score(y_test, y_pred, average = 'weighted')\n",
    "print(f1_score)"
   ]
  },
  {
   "cell_type": "code",
   "execution_count": 43,
   "metadata": {
    "colab": {
     "base_uri": "https://localhost:8080/",
     "height": 425
    },
    "colab_type": "code",
    "executionInfo": {
     "elapsed": 2539,
     "status": "ok",
     "timestamp": 1570569758243,
     "user": {
      "displayName": "Juan Burtet",
      "photoUrl": "https://lh3.googleusercontent.com/a-/AAuE7mBXF7vkQ935dU74v9WkOZSTP1cvttRtRycdP2Z4=s64",
      "userId": "10818630050537661018"
     },
     "user_tz": 180
    },
    "id": "nGCNXpxZk-zb",
    "outputId": "cf08cf90-911f-475c-f5a4-fd416ef9c9f0"
   },
   "outputs": [
    {
     "name": "stdout",
     "output_type": "stream",
     "text": [
      "                precision    recall  f1-score   support\n",
      "\n",
      "    B-location       0.67      0.17      0.28        23\n",
      "B-organization       0.75      0.14      0.24        21\n",
      "      B-person       0.62      0.17      0.27        75\n",
      "    I-location       0.40      0.14      0.21        14\n",
      "I-organization       1.00      0.07      0.13        14\n",
      "      I-person       0.60      0.15      0.24        20\n",
      "             O       0.97      1.00      0.99      5244\n",
      "\n",
      "     micro avg       0.97      0.97      0.97      5411\n",
      "     macro avg       0.72      0.26      0.34      5411\n",
      "  weighted avg       0.96      0.97      0.96      5411\n",
      "\n"
     ]
    }
   ],
   "source": [
    "report = flat_classification_report(y_test, y_pred)\n",
    "print(report)"
   ]
  }
 ],
 "metadata": {
  "colab": {
   "name": "Copy of CRFtoNER.ipynb",
   "provenance": [
    {
     "file_id": "116NEMO5ZFENDk957iTVehfxlc2EgNXNr",
     "timestamp": 1570567383307
    }
   ]
  },
  "kernelspec": {
   "display_name": "Python 3",
   "language": "python",
   "name": "python3"
  },
  "language_info": {
   "codemirror_mode": {
    "name": "ipython",
    "version": 3
   },
   "file_extension": ".py",
   "mimetype": "text/x-python",
   "name": "python",
   "nbconvert_exporter": "python",
   "pygments_lexer": "ipython3",
   "version": "3.7.3"
  }
 },
 "nbformat": 4,
 "nbformat_minor": 2
}
