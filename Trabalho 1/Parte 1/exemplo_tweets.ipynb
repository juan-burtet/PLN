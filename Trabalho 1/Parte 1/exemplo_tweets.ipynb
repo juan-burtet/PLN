{
 "cells": [
  {
   "cell_type": "code",
   "execution_count": null,
   "metadata": {
    "colab": {
     "base_uri": "https://localhost:8080/",
     "height": 343
    },
    "colab_type": "code",
    "executionInfo": {
     "elapsed": 2289,
     "status": "ok",
     "timestamp": 1570651433022,
     "user": {
      "displayName": "Larissa Freitas",
      "photoUrl": "",
      "userId": "14992942519253748435"
     },
     "user_tz": 180
    },
    "id": "hPs43pK2B1pL",
    "outputId": "68de9248-8197-4917-f539-e0ac9f3f5f0b"
   },
   "outputs": [
    {
     "name": "stdout",
     "output_type": "stream",
     "text": [
      "Tweet fetched:\n",
      "@ForeverPlayerG tem que ser , essa o áudio tava ruim . Próxima faz a farm de iron na live.\n",
      "Exception\n",
      "Tweet fetched:\n",
      "esse João Guilherme ta mt estranho\n",
      "Tweet fetched:\n",
      "não quero ir pra escola\n",
      "Tweet fetched:\n",
      "@AbioJoao Patrão\n",
      "Tweet fetched:\n",
      "Preciso acordar mais cedo e ajeitar meu cabelo que tá só a bagaceira\n",
      "Tweet fetched:\n",
      "#depoisdojogo Piperno se o Trainee R.Ceni passar em qualquer um dos Mata a Mata, ;você vai ter que usar um crachá De Trainee dom que vem!\n",
      "Tweet fetched:\n",
      "Tenho Msm irmão kkkkk https://t.co/9YkN6SehqG\n",
      "Tweet fetched:\n",
      "Quero conversar com alguém mano\n",
      "Exception\n"
     ]
    }
   ],
   "source": [
    "import tweepy\n",
    "import os\n",
    "import tweepy as tw\n",
    "import pandas as pd\n",
    "import re\n",
    "\n",
    "df = pd.read_csv('Datasets/dataset.ptbr_tweets.txt', sep=\"\\t\")\n",
    "\n",
    "consumer_key = ''\n",
    "consumer_secret = ''\n",
    "access_token = ''\n",
    "access_token_secret = ''\n",
    "\n",
    "auth = tweepy.OAuthHandler(consumer_key, consumer_secret)\n",
    "auth.set_access_token(access_token, access_token_secret)\n",
    "api = tweepy.API(auth)\n",
    "\n",
    "def createSet(corpus):\n",
    "\n",
    "    DataSet = []\n",
    "    for index, tweet in corpus.iterrows():\n",
    "\n",
    "        try:\n",
    "            tweetFetched = api.get_status(tweet[\"tweet_id\"])\n",
    "            print(\"Tweet fetched:\\n\" + tweetFetched.text)\n",
    "            DataSet.append((tweet[\"tweet_id\"],tweetFetched.text))\n",
    "\n",
    "        except:\n",
    "            print(\"Exception\")\n",
    "            continue\n",
    "\n",
    "    return DataSet\n",
    "\n",
    "resultFile = createSet(df.drop_duplicates(subset= ['tweet_id']).head(10))"
   ]
  },
  {
   "cell_type": "code",
   "execution_count": null,
   "metadata": {
    "colab": {
     "base_uri": "https://localhost:8080/",
     "height": 34
    },
    "colab_type": "code",
    "executionInfo": {
     "elapsed": 3504,
     "status": "ok",
     "timestamp": 1570651371907,
     "user": {
      "displayName": "Larissa Freitas",
      "photoUrl": "",
      "userId": "14992942519253748435"
     },
     "user_tz": 180
    },
    "id": "YgvOHyMPEDgM",
    "outputId": "30a2e85e-5266-4bd6-b327-8a441829f91b"
   },
   "outputs": [
    {
     "data": {
      "text/plain": [
       "8"
      ]
     },
     "execution_count": 30,
     "metadata": {
      "tags": []
     },
     "output_type": "execute_result"
    }
   ],
   "source": [
    "len(resultFile)"
   ]
  },
  {
   "cell_type": "code",
   "execution_count": null,
   "metadata": {
    "colab": {},
    "colab_type": "code",
    "id": "H9ooZrLbEsXQ"
   },
   "outputs": [],
   "source": []
  }
 ],
 "metadata": {
  "colab": {
   "collapsed_sections": [],
   "name": "Aula_091019.ipynb",
   "provenance": []
  },
  "kernelspec": {
   "display_name": "Python 3",
   "language": "python",
   "name": "python3"
  },
  "language_info": {
   "codemirror_mode": {
    "name": "ipython",
    "version": 3
   },
   "file_extension": ".py",
   "mimetype": "text/x-python",
   "name": "python",
   "nbconvert_exporter": "python",
   "pygments_lexer": "ipython3",
   "version": "3.7.3"
  }
 },
 "nbformat": 4,
 "nbformat_minor": 2
}
