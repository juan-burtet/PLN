{
 "cells": [
  {
   "cell_type": "code",
   "execution_count": 1,
   "metadata": {
    "colab": {
     "base_uri": "https://localhost:8080/",
     "height": 207
    },
    "colab_type": "code",
    "executionInfo": {
     "elapsed": 5417,
     "status": "ok",
     "timestamp": 1570568527329,
     "user": {
      "displayName": "Juan Burtet",
      "photoUrl": "https://lh3.googleusercontent.com/a-/AAuE7mBXF7vkQ935dU74v9WkOZSTP1cvttRtRycdP2Z4=s64",
      "userId": "10818630050537661018"
     },
     "user_tz": 180
    },
    "id": "kQpBw8ClwKhy",
    "outputId": "3b0416ff-d786-4f3b-e2aa-136c285b3f85"
   },
   "outputs": [
    {
     "name": "stdout",
     "output_type": "stream",
     "text": [
      "Requirement already satisfied: sklearn_crfsuite in /home/juan-burtet/.anaconda3/lib/python3.7/site-packages (0.3.6)\n",
      "Requirement already satisfied: tqdm>=2.0 in /home/juan-burtet/.local/lib/python3.7/site-packages (from sklearn_crfsuite) (4.36.1)\n",
      "Requirement already satisfied: six in /home/juan-burtet/.anaconda3/lib/python3.7/site-packages (from sklearn_crfsuite) (1.12.0)\n",
      "Requirement already satisfied: tabulate in /home/juan-burtet/.anaconda3/lib/python3.7/site-packages (from sklearn_crfsuite) (0.8.5)\n",
      "Requirement already satisfied: python-crfsuite>=0.8.3 in /home/juan-burtet/.anaconda3/lib/python3.7/site-packages (from sklearn_crfsuite) (0.9.6)\n"
     ]
    }
   ],
   "source": [
    "!pip install sklearn_crfsuite"
   ]
  },
  {
   "cell_type": "code",
   "execution_count": 2,
   "metadata": {
    "colab": {},
    "colab_type": "code",
    "id": "tFkY0TjfgUmS"
   },
   "outputs": [],
   "source": [
    "import pandas as pd\n",
    "\n",
    "from sklearn.model_selection import train_test_split\n",
    "from sklearn_crfsuite import CRF\n",
    "from sklearn_crfsuite.metrics import flat_f1_score\n",
    "from sklearn_crfsuite.metrics import flat_classification_report"
   ]
  },
  {
   "cell_type": "code",
   "execution_count": 3,
   "metadata": {},
   "outputs": [
    {
     "name": "stdout",
     "output_type": "stream",
     "text": [
      "Requirement already satisfied: pt_core_news_sm==2.2.0 from https://github.com/explosion/spacy-models/releases/download/pt_core_news_sm-2.2.0/pt_core_news_sm-2.2.0.tar.gz#egg=pt_core_news_sm==2.2.0 in /home/juan-burtet/.anaconda3/lib/python3.7/site-packages (2.2.0)\n",
      "Requirement already satisfied: spacy>=2.2.0 in /home/juan-burtet/.anaconda3/lib/python3.7/site-packages (from pt_core_news_sm==2.2.0) (2.2.1)\n",
      "Requirement already satisfied: wasabi<1.1.0,>=0.2.0 in /home/juan-burtet/.anaconda3/lib/python3.7/site-packages (from spacy>=2.2.0->pt_core_news_sm==2.2.0) (0.2.2)\n",
      "Requirement already satisfied: thinc<7.2.0,>=7.1.1 in /home/juan-burtet/.anaconda3/lib/python3.7/site-packages (from spacy>=2.2.0->pt_core_news_sm==2.2.0) (7.1.1)\n",
      "Requirement already satisfied: requests<3.0.0,>=2.13.0 in /home/juan-burtet/.anaconda3/lib/python3.7/site-packages (from spacy>=2.2.0->pt_core_news_sm==2.2.0) (2.21.0)\n",
      "Requirement already satisfied: numpy>=1.15.0 in /home/juan-burtet/.local/lib/python3.7/site-packages (from spacy>=2.2.0->pt_core_news_sm==2.2.0) (1.16.4)\n",
      "Requirement already satisfied: preshed<3.1.0,>=3.0.2 in /home/juan-burtet/.anaconda3/lib/python3.7/site-packages (from spacy>=2.2.0->pt_core_news_sm==2.2.0) (3.0.2)\n",
      "Requirement already satisfied: srsly<1.1.0,>=0.1.0 in /home/juan-burtet/.anaconda3/lib/python3.7/site-packages (from spacy>=2.2.0->pt_core_news_sm==2.2.0) (0.1.0)\n",
      "Requirement already satisfied: cymem<2.1.0,>=2.0.2 in /home/juan-burtet/.anaconda3/lib/python3.7/site-packages (from spacy>=2.2.0->pt_core_news_sm==2.2.0) (2.0.2)\n",
      "Requirement already satisfied: blis<0.5.0,>=0.4.0 in /home/juan-burtet/.anaconda3/lib/python3.7/site-packages (from spacy>=2.2.0->pt_core_news_sm==2.2.0) (0.4.1)\n",
      "Requirement already satisfied: plac<1.0.0,>=0.9.6 in /home/juan-burtet/.anaconda3/lib/python3.7/site-packages (from spacy>=2.2.0->pt_core_news_sm==2.2.0) (0.9.6)\n",
      "Requirement already satisfied: murmurhash<1.1.0,>=0.28.0 in /home/juan-burtet/.anaconda3/lib/python3.7/site-packages (from spacy>=2.2.0->pt_core_news_sm==2.2.0) (1.0.2)\n",
      "Requirement already satisfied: tqdm<5.0.0,>=4.10.0 in /home/juan-burtet/.local/lib/python3.7/site-packages (from thinc<7.2.0,>=7.1.1->spacy>=2.2.0->pt_core_news_sm==2.2.0) (4.36.1)\n",
      "Requirement already satisfied: idna<2.9,>=2.5 in /home/juan-burtet/.anaconda3/lib/python3.7/site-packages (from requests<3.0.0,>=2.13.0->spacy>=2.2.0->pt_core_news_sm==2.2.0) (2.8)\n",
      "Requirement already satisfied: urllib3<1.25,>=1.21.1 in /home/juan-burtet/.anaconda3/lib/python3.7/site-packages (from requests<3.0.0,>=2.13.0->spacy>=2.2.0->pt_core_news_sm==2.2.0) (1.24.1)\n",
      "Requirement already satisfied: certifi>=2017.4.17 in /home/juan-burtet/.anaconda3/lib/python3.7/site-packages (from requests<3.0.0,>=2.13.0->spacy>=2.2.0->pt_core_news_sm==2.2.0) (2019.3.9)\n",
      "Requirement already satisfied: chardet<3.1.0,>=3.0.2 in /home/juan-burtet/.anaconda3/lib/python3.7/site-packages (from requests<3.0.0,>=2.13.0->spacy>=2.2.0->pt_core_news_sm==2.2.0) (3.0.4)\n",
      "\u001b[38;5;2m✔ Download and installation successful\u001b[0m\n",
      "You can now load the model via spacy.load('pt_core_news_sm')\n"
     ]
    }
   ],
   "source": [
    "import spacy\n",
    "from spacy.tokenizer import Tokenizer\n",
    "!python -m spacy download pt_core_news_sm\n",
    "import pt_core_news_sm\n",
    "from tqdm import tqdm\n",
    "\n",
    "sp = pt_core_news_sm.load()"
   ]
  },
  {
   "cell_type": "code",
   "execution_count": 4,
   "metadata": {},
   "outputs": [
    {
     "name": "stdout",
     "output_type": "stream",
     "text": [
      "Dataset criado!\n"
     ]
    }
   ],
   "source": [
    "import os.path\n",
    "\n",
    "def create_dataset():\n",
    "    # Abre o arquivo de leis, para formata-lo igual o CRFtoNER\n",
    "    with open('Datasets/dataset.ptbr_leis.txt', 'r') as f_open, \\\n",
    "         open('Datasets/ptbr_leis.csv', 'w+') as file:\n",
    "\n",
    "        # Abre todas as linhas do arquivo\n",
    "        lines = f_open.readlines()\n",
    "\n",
    "        # Escreve o header do csv\n",
    "        file.write(\"Sentence #\\tWord\\tPOS\\tTag\\n\")\n",
    "\n",
    "        list_sent = []\n",
    "\n",
    "        # Percorre linha por linha\n",
    "        sent_i = 1\n",
    "        for line in tqdm(lines):\n",
    "\n",
    "            # Divide a linha em palavras\n",
    "            info = line.split()\n",
    "\n",
    "            # Se for menor que duas, é um '\\n',\n",
    "            # Então, é uma nova sentença\n",
    "            if len(info) != 2:\n",
    "                \n",
    "                string_sent = ' '.join([s[0] for s in list_sent])\n",
    "                \n",
    "                sent_sp = sp(string_sent)\n",
    "\n",
    "                string = \"\"\n",
    "                i = 0\n",
    "                for s in sent_sp:\n",
    "                    if string + s.text == list_sent[i][0]:\n",
    "\n",
    "                        file.write(\"Sentence: %d\\t\" % sent_i)\n",
    "                        file.write(\"%s\\t\" % list_sent[i][0])\n",
    "                        file.write(\"%s\\t\" % s.pos_)\n",
    "                        file.write(\"%s\\n\" % list_sent[i][1])\n",
    "                        \n",
    "                        string = ''\n",
    "                        i += 1\n",
    "                    else:\n",
    "                        string += s.text\n",
    "\n",
    "                list_sent = []\n",
    "                sent_i += 1\n",
    "\n",
    "            # Escreve a linha do arquivo\n",
    "            else:\n",
    "                 list_sent.append((info[0], info[1]))\n",
    "\n",
    "\n",
    "if not os.path.isfile('Datasets/ptbr_leis.csv'):\n",
    "    print(\"Criando dataset...\")\n",
    "    create_dataset()\n",
    "    \n",
    "print(\"Dataset criado!\")"
   ]
  },
  {
   "cell_type": "code",
   "execution_count": 5,
   "metadata": {
    "colab": {},
    "colab_type": "code",
    "id": "iOp-aTy_ieAj"
   },
   "outputs": [],
   "source": [
    "#Reading the csv file\n",
    "df = pd.read_csv('Datasets/ptbr_leis.csv', \n",
    "                 encoding = \"UTF-8\", \n",
    "                 sep=\"\\t\")"
   ]
  },
  {
   "cell_type": "code",
   "execution_count": 6,
   "metadata": {
    "colab": {
     "base_uri": "https://localhost:8080/",
     "height": 669
    },
    "colab_type": "code",
    "executionInfo": {
     "elapsed": 695,
     "status": "ok",
     "timestamp": 1570569646498,
     "user": {
      "displayName": "Juan Burtet",
      "photoUrl": "https://lh3.googleusercontent.com/a-/AAuE7mBXF7vkQ935dU74v9WkOZSTP1cvttRtRycdP2Z4=s64",
      "userId": "10818630050537661018"
     },
     "user_tz": 180
    },
    "id": "POlai37NkXB-",
    "outputId": "161fd02f-90a3-4c64-c4f7-670bcb922158"
   },
   "outputs": [
    {
     "data": {
      "text/html": [
       "<div>\n",
       "<style scoped>\n",
       "    .dataframe tbody tr th:only-of-type {\n",
       "        vertical-align: middle;\n",
       "    }\n",
       "\n",
       "    .dataframe tbody tr th {\n",
       "        vertical-align: top;\n",
       "    }\n",
       "\n",
       "    .dataframe thead th {\n",
       "        text-align: right;\n",
       "    }\n",
       "</style>\n",
       "<table border=\"1\" class=\"dataframe\">\n",
       "  <thead>\n",
       "    <tr style=\"text-align: right;\">\n",
       "      <th></th>\n",
       "      <th>Sentence #</th>\n",
       "      <th>Word</th>\n",
       "      <th>POS</th>\n",
       "      <th>Tag</th>\n",
       "    </tr>\n",
       "  </thead>\n",
       "  <tbody>\n",
       "    <tr>\n",
       "      <th>0</th>\n",
       "      <td>Sentence: 1</td>\n",
       "      <td>EMENTA</td>\n",
       "      <td>NOUN</td>\n",
       "      <td>O</td>\n",
       "    </tr>\n",
       "    <tr>\n",
       "      <th>1</th>\n",
       "      <td>Sentence: 1</td>\n",
       "      <td>:</td>\n",
       "      <td>PUNCT</td>\n",
       "      <td>O</td>\n",
       "    </tr>\n",
       "    <tr>\n",
       "      <th>2</th>\n",
       "      <td>Sentence: 1</td>\n",
       "      <td>APELAÇÃO</td>\n",
       "      <td>PROPN</td>\n",
       "      <td>O</td>\n",
       "    </tr>\n",
       "    <tr>\n",
       "      <th>3</th>\n",
       "      <td>Sentence: 1</td>\n",
       "      <td>CÍVEL</td>\n",
       "      <td>PROPN</td>\n",
       "      <td>O</td>\n",
       "    </tr>\n",
       "    <tr>\n",
       "      <th>4</th>\n",
       "      <td>Sentence: 1</td>\n",
       "      <td>-</td>\n",
       "      <td>PUNCT</td>\n",
       "      <td>O</td>\n",
       "    </tr>\n",
       "    <tr>\n",
       "      <th>5</th>\n",
       "      <td>Sentence: 1</td>\n",
       "      <td>AÇÃO</td>\n",
       "      <td>PROPN</td>\n",
       "      <td>O</td>\n",
       "    </tr>\n",
       "    <tr>\n",
       "      <th>6</th>\n",
       "      <td>Sentence: 1</td>\n",
       "      <td>DE</td>\n",
       "      <td>ADP</td>\n",
       "      <td>O</td>\n",
       "    </tr>\n",
       "    <tr>\n",
       "      <th>7</th>\n",
       "      <td>Sentence: 1</td>\n",
       "      <td>INDENIZAÇÃO</td>\n",
       "      <td>PROPN</td>\n",
       "      <td>O</td>\n",
       "    </tr>\n",
       "    <tr>\n",
       "      <th>8</th>\n",
       "      <td>Sentence: 1</td>\n",
       "      <td>POR</td>\n",
       "      <td>ADP</td>\n",
       "      <td>O</td>\n",
       "    </tr>\n",
       "    <tr>\n",
       "      <th>9</th>\n",
       "      <td>Sentence: 1</td>\n",
       "      <td>DANOS</td>\n",
       "      <td>PROPN</td>\n",
       "      <td>O</td>\n",
       "    </tr>\n",
       "  </tbody>\n",
       "</table>\n",
       "</div>"
      ],
      "text/plain": [
       "    Sentence #         Word    POS Tag\n",
       "0  Sentence: 1       EMENTA   NOUN   O\n",
       "1  Sentence: 1            :  PUNCT   O\n",
       "2  Sentence: 1     APELAÇÃO  PROPN   O\n",
       "3  Sentence: 1        CÍVEL  PROPN   O\n",
       "4  Sentence: 1            -  PUNCT   O\n",
       "5  Sentence: 1         AÇÃO  PROPN   O\n",
       "6  Sentence: 1           DE    ADP   O\n",
       "7  Sentence: 1  INDENIZAÇÃO  PROPN   O\n",
       "8  Sentence: 1          POR    ADP   O\n",
       "9  Sentence: 1        DANOS  PROPN   O"
      ]
     },
     "execution_count": 6,
     "metadata": {},
     "output_type": "execute_result"
    }
   ],
   "source": [
    "#Display first 10 rows\n",
    "df.head(10)"
   ]
  },
  {
   "cell_type": "code",
   "execution_count": 7,
   "metadata": {
    "colab": {
     "base_uri": "https://localhost:8080/",
     "height": 173
    },
    "colab_type": "code",
    "executionInfo": {
     "elapsed": 1284,
     "status": "ok",
     "timestamp": 1570568615248,
     "user": {
      "displayName": "Juan Burtet",
      "photoUrl": "https://lh3.googleusercontent.com/a-/AAuE7mBXF7vkQ935dU74v9WkOZSTP1cvttRtRycdP2Z4=s64",
      "userId": "10818630050537661018"
     },
     "user_tz": 180
    },
    "id": "Ht2NynEBkZaB",
    "outputId": "e000ff35-f053-462b-fa99-3808d7cf78c6"
   },
   "outputs": [
    {
     "data": {
      "text/html": [
       "<div>\n",
       "<style scoped>\n",
       "    .dataframe tbody tr th:only-of-type {\n",
       "        vertical-align: middle;\n",
       "    }\n",
       "\n",
       "    .dataframe tbody tr th {\n",
       "        vertical-align: top;\n",
       "    }\n",
       "\n",
       "    .dataframe thead th {\n",
       "        text-align: right;\n",
       "    }\n",
       "</style>\n",
       "<table border=\"1\" class=\"dataframe\">\n",
       "  <thead>\n",
       "    <tr style=\"text-align: right;\">\n",
       "      <th></th>\n",
       "      <th>Sentence #</th>\n",
       "      <th>Word</th>\n",
       "      <th>POS</th>\n",
       "      <th>Tag</th>\n",
       "    </tr>\n",
       "  </thead>\n",
       "  <tbody>\n",
       "    <tr>\n",
       "      <th>count</th>\n",
       "      <td>229277</td>\n",
       "      <td>229219</td>\n",
       "      <td>229277</td>\n",
       "      <td>229277</td>\n",
       "    </tr>\n",
       "    <tr>\n",
       "      <th>unique</th>\n",
       "      <td>7827</td>\n",
       "      <td>18020</td>\n",
       "      <td>17</td>\n",
       "      <td>13</td>\n",
       "    </tr>\n",
       "    <tr>\n",
       "      <th>top</th>\n",
       "      <td>Sentence: 7258</td>\n",
       "      <td>,</td>\n",
       "      <td>NOUN</td>\n",
       "      <td>O</td>\n",
       "    </tr>\n",
       "    <tr>\n",
       "      <th>freq</th>\n",
       "      <td>755</td>\n",
       "      <td>16743</td>\n",
       "      <td>41508</td>\n",
       "      <td>197228</td>\n",
       "    </tr>\n",
       "  </tbody>\n",
       "</table>\n",
       "</div>"
      ],
      "text/plain": [
       "            Sentence #    Word     POS     Tag\n",
       "count           229277  229219  229277  229277\n",
       "unique            7827   18020      17      13\n",
       "top     Sentence: 7258       ,    NOUN       O\n",
       "freq               755   16743   41508  197228"
      ]
     },
     "execution_count": 7,
     "metadata": {},
     "output_type": "execute_result"
    }
   ],
   "source": [
    "df.describe()"
   ]
  },
  {
   "cell_type": "code",
   "execution_count": 8,
   "metadata": {
    "colab": {
     "base_uri": "https://localhost:8080/",
     "height": 68
    },
    "colab_type": "code",
    "executionInfo": {
     "elapsed": 861,
     "status": "ok",
     "timestamp": 1570568646538,
     "user": {
      "displayName": "Juan Burtet",
      "photoUrl": "https://lh3.googleusercontent.com/a-/AAuE7mBXF7vkQ935dU74v9WkOZSTP1cvttRtRycdP2Z4=s64",
      "userId": "10818630050537661018"
     },
     "user_tz": 180
    },
    "id": "XilRrqSgkcUm",
    "outputId": "7eea9035-ee15-453c-9aee-7bca765e9f17"
   },
   "outputs": [
    {
     "data": {
      "text/plain": [
       "array(['O', 'B-ORGANIZACAO', 'I-ORGANIZACAO', 'B-LEGISLACAO',\n",
       "       'I-LEGISLACAO', 'B-JURISPRUDENCIA', 'I-JURISPRUDENCIA', 'B-PESSOA',\n",
       "       'I-PESSOA', 'B-TEMPO', 'B-LOCAL', 'I-LOCAL', 'I-TEMPO'],\n",
       "      dtype=object)"
      ]
     },
     "execution_count": 8,
     "metadata": {},
     "output_type": "execute_result"
    }
   ],
   "source": [
    "#Displaying the unique Tags\n",
    "df['Tag'].unique()"
   ]
  },
  {
   "cell_type": "code",
   "execution_count": 9,
   "metadata": {
    "colab": {
     "base_uri": "https://localhost:8080/",
     "height": 576
    },
    "colab_type": "code",
    "executionInfo": {
     "elapsed": 668,
     "status": "ok",
     "timestamp": 1570568652875,
     "user": {
      "displayName": "Juan Burtet",
      "photoUrl": "https://lh3.googleusercontent.com/a-/AAuE7mBXF7vkQ935dU74v9WkOZSTP1cvttRtRycdP2Z4=s64",
      "userId": "10818630050537661018"
     },
     "user_tz": 180
    },
    "id": "JZCq83mdcXQO",
    "outputId": "cc02afcd-309f-4238-ccf2-6e6f4361ee2a"
   },
   "outputs": [
    {
     "data": {
      "text/html": [
       "<div>\n",
       "<style scoped>\n",
       "    .dataframe tbody tr th:only-of-type {\n",
       "        vertical-align: middle;\n",
       "    }\n",
       "\n",
       "    .dataframe tbody tr th {\n",
       "        vertical-align: top;\n",
       "    }\n",
       "\n",
       "    .dataframe thead th {\n",
       "        text-align: right;\n",
       "    }\n",
       "</style>\n",
       "<table border=\"1\" class=\"dataframe\">\n",
       "  <thead>\n",
       "    <tr style=\"text-align: right;\">\n",
       "      <th></th>\n",
       "      <th>Tag</th>\n",
       "      <th>counts</th>\n",
       "    </tr>\n",
       "  </thead>\n",
       "  <tbody>\n",
       "    <tr>\n",
       "      <th>0</th>\n",
       "      <td>B-JURISPRUDENCIA</td>\n",
       "      <td>1104</td>\n",
       "    </tr>\n",
       "    <tr>\n",
       "      <th>1</th>\n",
       "      <td>B-LEGISLACAO</td>\n",
       "      <td>1920</td>\n",
       "    </tr>\n",
       "    <tr>\n",
       "      <th>2</th>\n",
       "      <td>B-LOCAL</td>\n",
       "      <td>611</td>\n",
       "    </tr>\n",
       "    <tr>\n",
       "      <th>3</th>\n",
       "      <td>B-ORGANIZACAO</td>\n",
       "      <td>2400</td>\n",
       "    </tr>\n",
       "    <tr>\n",
       "      <th>4</th>\n",
       "      <td>B-PESSOA</td>\n",
       "      <td>1525</td>\n",
       "    </tr>\n",
       "    <tr>\n",
       "      <th>5</th>\n",
       "      <td>B-TEMPO</td>\n",
       "      <td>1334</td>\n",
       "    </tr>\n",
       "    <tr>\n",
       "      <th>6</th>\n",
       "      <td>I-JURISPRUDENCIA</td>\n",
       "      <td>2863</td>\n",
       "    </tr>\n",
       "    <tr>\n",
       "      <th>7</th>\n",
       "      <td>I-LEGISLACAO</td>\n",
       "      <td>11119</td>\n",
       "    </tr>\n",
       "    <tr>\n",
       "      <th>8</th>\n",
       "      <td>I-LOCAL</td>\n",
       "      <td>806</td>\n",
       "    </tr>\n",
       "    <tr>\n",
       "      <th>9</th>\n",
       "      <td>I-ORGANIZACAO</td>\n",
       "      <td>4271</td>\n",
       "    </tr>\n",
       "    <tr>\n",
       "      <th>10</th>\n",
       "      <td>I-PESSOA</td>\n",
       "      <td>3087</td>\n",
       "    </tr>\n",
       "    <tr>\n",
       "      <th>11</th>\n",
       "      <td>I-TEMPO</td>\n",
       "      <td>1009</td>\n",
       "    </tr>\n",
       "    <tr>\n",
       "      <th>12</th>\n",
       "      <td>O</td>\n",
       "      <td>197228</td>\n",
       "    </tr>\n",
       "  </tbody>\n",
       "</table>\n",
       "</div>"
      ],
      "text/plain": [
       "                 Tag  counts\n",
       "0   B-JURISPRUDENCIA    1104\n",
       "1       B-LEGISLACAO    1920\n",
       "2            B-LOCAL     611\n",
       "3      B-ORGANIZACAO    2400\n",
       "4           B-PESSOA    1525\n",
       "5            B-TEMPO    1334\n",
       "6   I-JURISPRUDENCIA    2863\n",
       "7       I-LEGISLACAO   11119\n",
       "8            I-LOCAL     806\n",
       "9      I-ORGANIZACAO    4271\n",
       "10          I-PESSOA    3087\n",
       "11           I-TEMPO    1009\n",
       "12                 O  197228"
      ]
     },
     "execution_count": 9,
     "metadata": {},
     "output_type": "execute_result"
    }
   ],
   "source": [
    "df.groupby('Tag').size().reset_index(name='counts')"
   ]
  },
  {
   "cell_type": "code",
   "execution_count": 10,
   "metadata": {},
   "outputs": [
    {
     "data": {
      "text/html": [
       "<div>\n",
       "<style scoped>\n",
       "    .dataframe tbody tr th:only-of-type {\n",
       "        vertical-align: middle;\n",
       "    }\n",
       "\n",
       "    .dataframe tbody tr th {\n",
       "        vertical-align: top;\n",
       "    }\n",
       "\n",
       "    .dataframe thead th {\n",
       "        text-align: right;\n",
       "    }\n",
       "</style>\n",
       "<table border=\"1\" class=\"dataframe\">\n",
       "  <thead>\n",
       "    <tr style=\"text-align: right;\">\n",
       "      <th></th>\n",
       "      <th>POS</th>\n",
       "      <th>counts</th>\n",
       "    </tr>\n",
       "  </thead>\n",
       "  <tbody>\n",
       "    <tr>\n",
       "      <th>0</th>\n",
       "      <td>ADJ</td>\n",
       "      <td>12218</td>\n",
       "    </tr>\n",
       "    <tr>\n",
       "      <th>1</th>\n",
       "      <td>ADP</td>\n",
       "      <td>28771</td>\n",
       "    </tr>\n",
       "    <tr>\n",
       "      <th>2</th>\n",
       "      <td>ADV</td>\n",
       "      <td>7159</td>\n",
       "    </tr>\n",
       "    <tr>\n",
       "      <th>3</th>\n",
       "      <td>AUX</td>\n",
       "      <td>2716</td>\n",
       "    </tr>\n",
       "    <tr>\n",
       "      <th>4</th>\n",
       "      <td>CCONJ</td>\n",
       "      <td>4109</td>\n",
       "    </tr>\n",
       "    <tr>\n",
       "      <th>5</th>\n",
       "      <td>DET</td>\n",
       "      <td>19420</td>\n",
       "    </tr>\n",
       "    <tr>\n",
       "      <th>6</th>\n",
       "      <td>INTJ</td>\n",
       "      <td>315</td>\n",
       "    </tr>\n",
       "    <tr>\n",
       "      <th>7</th>\n",
       "      <td>NOUN</td>\n",
       "      <td>41508</td>\n",
       "    </tr>\n",
       "    <tr>\n",
       "      <th>8</th>\n",
       "      <td>NUM</td>\n",
       "      <td>6465</td>\n",
       "    </tr>\n",
       "    <tr>\n",
       "      <th>9</th>\n",
       "      <td>PART</td>\n",
       "      <td>1</td>\n",
       "    </tr>\n",
       "    <tr>\n",
       "      <th>10</th>\n",
       "      <td>PRON</td>\n",
       "      <td>4521</td>\n",
       "    </tr>\n",
       "    <tr>\n",
       "      <th>11</th>\n",
       "      <td>PROPN</td>\n",
       "      <td>39262</td>\n",
       "    </tr>\n",
       "    <tr>\n",
       "      <th>12</th>\n",
       "      <td>PUNCT</td>\n",
       "      <td>37507</td>\n",
       "    </tr>\n",
       "    <tr>\n",
       "      <th>13</th>\n",
       "      <td>SCONJ</td>\n",
       "      <td>2324</td>\n",
       "    </tr>\n",
       "    <tr>\n",
       "      <th>14</th>\n",
       "      <td>SYM</td>\n",
       "      <td>1811</td>\n",
       "    </tr>\n",
       "    <tr>\n",
       "      <th>15</th>\n",
       "      <td>VERB</td>\n",
       "      <td>20523</td>\n",
       "    </tr>\n",
       "    <tr>\n",
       "      <th>16</th>\n",
       "      <td>X</td>\n",
       "      <td>647</td>\n",
       "    </tr>\n",
       "  </tbody>\n",
       "</table>\n",
       "</div>"
      ],
      "text/plain": [
       "      POS  counts\n",
       "0     ADJ   12218\n",
       "1     ADP   28771\n",
       "2     ADV    7159\n",
       "3     AUX    2716\n",
       "4   CCONJ    4109\n",
       "5     DET   19420\n",
       "6    INTJ     315\n",
       "7    NOUN   41508\n",
       "8     NUM    6465\n",
       "9    PART       1\n",
       "10   PRON    4521\n",
       "11  PROPN   39262\n",
       "12  PUNCT   37507\n",
       "13  SCONJ    2324\n",
       "14    SYM    1811\n",
       "15   VERB   20523\n",
       "16      X     647"
      ]
     },
     "execution_count": 10,
     "metadata": {},
     "output_type": "execute_result"
    }
   ],
   "source": [
    "df.groupby('POS').size().reset_index(name='counts')"
   ]
  },
  {
   "cell_type": "code",
   "execution_count": 11,
   "metadata": {
    "colab": {
     "base_uri": "https://localhost:8080/",
     "height": 102
    },
    "colab_type": "code",
    "executionInfo": {
     "elapsed": 673,
     "status": "ok",
     "timestamp": 1570568659076,
     "user": {
      "displayName": "Juan Burtet",
      "photoUrl": "https://lh3.googleusercontent.com/a-/AAuE7mBXF7vkQ935dU74v9WkOZSTP1cvttRtRycdP2Z4=s64",
      "userId": "10818630050537661018"
     },
     "user_tz": 180
    },
    "id": "XCMg-VAwkfCt",
    "outputId": "bdf33b67-9bbe-47ce-c069-4207aa46a13c"
   },
   "outputs": [
    {
     "data": {
      "text/plain": [
       "Sentence #     0\n",
       "Word          58\n",
       "POS            0\n",
       "Tag            0\n",
       "dtype: int64"
      ]
     },
     "execution_count": 11,
     "metadata": {},
     "output_type": "execute_result"
    }
   ],
   "source": [
    "#Checking null values, if any.\n",
    "df.isnull().sum()"
   ]
  },
  {
   "cell_type": "code",
   "execution_count": 12,
   "metadata": {
    "colab": {
     "base_uri": "https://localhost:8080/",
     "height": 204
    },
    "colab_type": "code",
    "executionInfo": {
     "elapsed": 671,
     "status": "ok",
     "timestamp": 1570569199784,
     "user": {
      "displayName": "Juan Burtet",
      "photoUrl": "https://lh3.googleusercontent.com/a-/AAuE7mBXF7vkQ935dU74v9WkOZSTP1cvttRtRycdP2Z4=s64",
      "userId": "10818630050537661018"
     },
     "user_tz": 180
    },
    "id": "v8L4a74gkht2",
    "outputId": "734a0f5b-3de2-4e45-9930-c5d243a8b9e7"
   },
   "outputs": [],
   "source": [
    "df = df.fillna(method = 'ffill')"
   ]
  },
  {
   "cell_type": "code",
   "execution_count": 13,
   "metadata": {
    "colab": {},
    "colab_type": "code",
    "id": "0o8YTZ6okkQ6"
   },
   "outputs": [],
   "source": [
    "# This is a class te get sentence. The each sentence will be list of tuples with its tag and pos.\n",
    "class sentence(object):\n",
    "    def __init__(self, df):\n",
    "        self.n_sent = 1\n",
    "        self.df = df\n",
    "        self.empty = False\n",
    "        agg = lambda s : [(w, p, t) for w, p, t in zip(s['Word'].values.tolist(),\n",
    "                                                       s['POS'].values.tolist(),\n",
    "                                                       s['Tag'].values.tolist())]\n",
    "        self.grouped = self.df.groupby(\"Sentence #\").apply(agg)\n",
    "        self.sentences = [s for s in self.grouped]\n",
    "        \n",
    "    def get_text(self):\n",
    "        try:\n",
    "            s = self.grouped['Sentence: {}'.format(self.n_sent)]\n",
    "            self.n_sent +=1\n",
    "            return s\n",
    "        except:\n",
    "            return None"
   ]
  },
  {
   "cell_type": "code",
   "execution_count": 14,
   "metadata": {
    "colab": {
     "base_uri": "https://localhost:8080/",
     "height": 54
    },
    "colab_type": "code",
    "executionInfo": {
     "elapsed": 5542,
     "status": "ok",
     "timestamp": 1570568695717,
     "user": {
      "displayName": "Juan Burtet",
      "photoUrl": "https://lh3.googleusercontent.com/a-/AAuE7mBXF7vkQ935dU74v9WkOZSTP1cvttRtRycdP2Z4=s64",
      "userId": "10818630050537661018"
     },
     "user_tz": 180
    },
    "id": "tWllmDjLkmoi",
    "outputId": "a12efc56-91a9-49f0-d633-1125c5b98651"
   },
   "outputs": [],
   "source": [
    "#Displaying one full sentence\n",
    "getter = sentence(df)\n",
    "sentences = [\" \".join([s[0] for s in sent]) for sent in getter.sentences]"
   ]
  },
  {
   "cell_type": "code",
   "execution_count": 15,
   "metadata": {
    "colab": {
     "base_uri": "https://localhost:8080/",
     "height": 54
    },
    "colab_type": "code",
    "executionInfo": {
     "elapsed": 668,
     "status": "ok",
     "timestamp": 1570568702883,
     "user": {
      "displayName": "Juan Burtet",
      "photoUrl": "https://lh3.googleusercontent.com/a-/AAuE7mBXF7vkQ935dU74v9WkOZSTP1cvttRtRycdP2Z4=s64",
      "userId": "10818630050537661018"
     },
     "user_tz": 180
    },
    "id": "pw30wVJdkptS",
    "outputId": "a422e7c1-baa5-4d94-8ae4-63a41a18c1ce"
   },
   "outputs": [
    {
     "name": "stdout",
     "output_type": "stream",
     "text": [
      "[('EMENTA', 'NOUN', 'O'), (':', 'PUNCT', 'O'), ('APELAÇÃO', 'PROPN', 'O'), ('CÍVEL', 'PROPN', 'O'), ('-', 'PUNCT', 'O'), ('AÇÃO', 'PROPN', 'O'), ('DE', 'ADP', 'O'), ('INDENIZAÇÃO', 'PROPN', 'O'), ('POR', 'ADP', 'O'), ('DANOS', 'PROPN', 'O'), ('MORAIS', 'PROPN', 'O'), ('-', 'PUNCT', 'O'), ('PRELIMINAR', 'PROPN', 'O'), ('-', 'PUNCT', 'O'), ('ARGUIDA', 'PROPN', 'O'), ('PELO', 'PROPN', 'O'), ('MINISTÉRIO', 'PROPN', 'B-ORGANIZACAO'), ('PÚBLICO', 'VERB', 'I-ORGANIZACAO'), ('EM', 'ADP', 'O'), ('GRAU', 'PROPN', 'O'), ('RECURSAL', 'PROPN', 'O'), ('-', 'PUNCT', 'O'), ('NULIDADE', 'PROPN', 'O'), ('-', 'PUNCT', 'O'), ('AUSÊNCIA', 'PROPN', 'O'), ('DE', 'ADP', 'O'), ('INTERVENÇÃO', 'PROPN', 'O'), ('DO', 'PROPN', 'O'), ('PARQUET', 'PROPN', 'O'), ('PARQUET', 'PROPN', 'O'), ('INSTÂNCIA', 'PROPN', 'O'), ('A', 'DET', 'O'), ('QUO', 'PROPN', 'O'), ('-', 'PUNCT', 'O'), ('PRESENÇA', 'PROPN', 'O'), ('DE', 'PROPN', 'O'), ('INCAPAZ', 'PROPN', 'O'), ('-', 'PUNCT', 'O'), ('PREJUÍZO', 'PROPN', 'O'), ('EXISTENTE', 'PROPN', 'O'), ('-', 'PUNCT', 'O'), ('PRELIMINAR', 'PROPN', 'O'), ('ACOLHIDA', 'PROPN', 'O'), ('-', 'PUNCT', 'O'), ('NULIDADE', 'PROPN', 'O'), ('RECONHECIDA', 'PROPN', 'O'), ('.', 'PUNCT', 'O')]\n"
     ]
    }
   ],
   "source": [
    "#sentence with its pos and tag.\n",
    "sent = getter.get_text()\n",
    "print(sent)"
   ]
  },
  {
   "cell_type": "code",
   "execution_count": 16,
   "metadata": {
    "colab": {},
    "colab_type": "code",
    "id": "g7OGCao7kqn8"
   },
   "outputs": [],
   "source": [
    "sentences = getter.sentences"
   ]
  },
  {
   "cell_type": "code",
   "execution_count": 17,
   "metadata": {
    "colab": {},
    "colab_type": "code",
    "id": "TfkFPp6BkvWK"
   },
   "outputs": [],
   "source": [
    "def isNumeroRomano(numeral):\n",
    "    numeral = numeral.upper()\n",
    "    validRomanNumerals = [\"M\", \"D\", \"C\", \"L\", \"X\", \"V\", \"I\", \"(\", \")\"]\n",
    "    valid = True\n",
    "    for letters in numeral:\n",
    "        if letters not in validRomanNumerals:\n",
    "            valid = False\n",
    "            break\n",
    "    return valid\n",
    "\n",
    "def word2features(sent, i):\n",
    "    word = sent[i][0]\n",
    "    postag = sent[i][1]\n",
    "\n",
    "    features = {\n",
    "        'bias': 1.0,\n",
    "        'postag': postag, # 1) Tag\n",
    "        'word.lower()': word.lower(), # 2) Word\n",
    "        'word': word, # 13) cap\n",
    "        'word.istitle()': word.istitle(), # 14) ini\n",
    "        'word.isdigit()': word.isdigit(), # 15) digit\n",
    "        'word.isupper()': word.isupper(), # extra\n",
    "        'isNumeroRomano()': isNumeroRomano(word), #extra\n",
    "    }\n",
    "    if i > 0:\n",
    "        word1 = sent[i-1][0]\n",
    "        postag1 = sent[i-1][1]\n",
    "        features.update({\n",
    "            '-1:word.lower()': word1.lower(), # 3) prevW\n",
    "            '-1:postag': postag1, # 4) prevT\n",
    "            '-1:word': word1, # 5) prevCap\n",
    "\n",
    "        })\n",
    "    elif i > 1:\n",
    "        word2 = sent[i-2][0]\n",
    "        postag2 = sent[i-2][1]\n",
    "        features.update({\n",
    "            '-2:word.lower()' : word2.lower(), # 6) prev2W\n",
    "            '-2:postag': postag2, # 7) prev2T\n",
    "            '-2:word': word2, # 8) prev2Cap\n",
    "        })\n",
    "    else:\n",
    "        features['BOS'] = True\n",
    "\n",
    "    if i < len(sent)-1:\n",
    "        word1 = sent[i+1][0]\n",
    "        postag1 = sent[i+1][1]\n",
    "        features.update({\n",
    "            '+1:word.lower()': word1.lower(), # 9) nextW\n",
    "            '+1:postag': postag1, # 10) nextT\n",
    "            '+1:word': word, # 11) nextCap\n",
    "        })\n",
    "    \n",
    "    elif i < len(sent)-2:\n",
    "        word1 = sent[i+1][0]\n",
    "        postag1 = sent[i+1][1]\n",
    "        features.update({\n",
    "            '+2:word.lower()': word1.lower(), # 9) nextW\n",
    "            '+2:postag': postag1, # 10) nextT\n",
    "            '+2:word': word, # 11) nextCap\n",
    "        })\n",
    "    \n",
    "    else:\n",
    "        features['EOS'] = True\n",
    "\n",
    "    return features\n",
    "\n",
    "\n",
    "\n",
    "def sent2features(sent):\n",
    "    return [word2features(sent, i) for i in range(len(sent))]\n",
    "\n",
    "def sent2labels(sent):\n",
    "    return [label for token, postag, label in sent]\n",
    "\n",
    "def sent2tokens(sent):\n",
    "    return [token for token, postag, label in sent]\n",
    "  "
   ]
  },
  {
   "cell_type": "code",
   "execution_count": 18,
   "metadata": {
    "colab": {},
    "colab_type": "code",
    "id": "Zff7edV8kwIi"
   },
   "outputs": [],
   "source": [
    "X = [sent2features(s) for s in sentences]\n",
    "y = [sent2labels(s) for s in sentences]"
   ]
  },
  {
   "cell_type": "code",
   "execution_count": 19,
   "metadata": {
    "colab": {},
    "colab_type": "code",
    "id": "XQtxNbqdkyBG"
   },
   "outputs": [],
   "source": [
    "X_train, X_test, y_train, y_test = train_test_split(X, y, test_size = 0.2)"
   ]
  },
  {
   "cell_type": "code",
   "execution_count": 20,
   "metadata": {
    "colab": {
     "base_uri": "https://localhost:8080/",
     "height": 136
    },
    "colab_type": "code",
    "executionInfo": {
     "elapsed": 241483,
     "status": "ok",
     "timestamp": 1570569005705,
     "user": {
      "displayName": "Juan Burtet",
      "photoUrl": "https://lh3.googleusercontent.com/a-/AAuE7mBXF7vkQ935dU74v9WkOZSTP1cvttRtRycdP2Z4=s64",
      "userId": "10818630050537661018"
     },
     "user_tz": 180
    },
    "id": "K_gom-Dzkzyr",
    "outputId": "48adba72-92c1-481d-bded-dad31022d620"
   },
   "outputs": [
    {
     "data": {
      "text/plain": [
       "CRF(algorithm='lbfgs', all_possible_states=None,\n",
       "  all_possible_transitions=False, averaging=None, c=None, c1=0.1, c2=0.1,\n",
       "  calibration_candidates=None, calibration_eta=None,\n",
       "  calibration_max_trials=None, calibration_rate=None,\n",
       "  calibration_samples=None, delta=None, epsilon=None, error_sensitive=None,\n",
       "  gamma=None, keep_tempfiles=None, linesearch=None, max_iterations=100,\n",
       "  max_linesearch=None, min_freq=None, model_filename=None,\n",
       "  num_memories=None, pa_type=None, period=None, trainer_cls=None,\n",
       "  variance=None, verbose=False)"
      ]
     },
     "execution_count": 20,
     "metadata": {},
     "output_type": "execute_result"
    }
   ],
   "source": [
    "crf = CRF(algorithm = 'lbfgs',\n",
    "         c1 = 0.1,\n",
    "         c2 = 0.1,\n",
    "         max_iterations = 100,\n",
    "         all_possible_transitions = False)\n",
    "crf.fit(X_train, y_train)"
   ]
  },
  {
   "cell_type": "code",
   "execution_count": 21,
   "metadata": {
    "colab": {},
    "colab_type": "code",
    "id": "Q7tOHSAak3kd"
   },
   "outputs": [],
   "source": [
    "#Predicting on the test set.\n",
    "y_pred = crf.predict(X_test)"
   ]
  },
  {
   "cell_type": "code",
   "execution_count": 22,
   "metadata": {
    "colab": {
     "base_uri": "https://localhost:8080/",
     "height": 34
    },
    "colab_type": "code",
    "executionInfo": {
     "elapsed": 1278,
     "status": "ok",
     "timestamp": 1570569753514,
     "user": {
      "displayName": "Juan Burtet",
      "photoUrl": "https://lh3.googleusercontent.com/a-/AAuE7mBXF7vkQ935dU74v9WkOZSTP1cvttRtRycdP2Z4=s64",
      "userId": "10818630050537661018"
     },
     "user_tz": 180
    },
    "id": "D-8ZfPuwk8s0",
    "outputId": "46e3439a-97a6-4248-e0a3-260725324acf"
   },
   "outputs": [
    {
     "name": "stdout",
     "output_type": "stream",
     "text": [
      "0.9845966655610088\n"
     ]
    }
   ],
   "source": [
    "f1_score = flat_f1_score(y_test, y_pred, average = 'weighted')\n",
    "print(f1_score)"
   ]
  },
  {
   "cell_type": "code",
   "execution_count": 23,
   "metadata": {
    "colab": {
     "base_uri": "https://localhost:8080/",
     "height": 425
    },
    "colab_type": "code",
    "executionInfo": {
     "elapsed": 2539,
     "status": "ok",
     "timestamp": 1570569758243,
     "user": {
      "displayName": "Juan Burtet",
      "photoUrl": "https://lh3.googleusercontent.com/a-/AAuE7mBXF7vkQ935dU74v9WkOZSTP1cvttRtRycdP2Z4=s64",
      "userId": "10818630050537661018"
     },
     "user_tz": 180
    },
    "id": "nGCNXpxZk-zb",
    "outputId": "cf08cf90-911f-475c-f5a4-fd416ef9c9f0"
   },
   "outputs": [
    {
     "name": "stdout",
     "output_type": "stream",
     "text": [
      "                  precision    recall  f1-score   support\n",
      "\n",
      "B-JURISPRUDENCIA       0.94      0.84      0.89       235\n",
      "    B-LEGISLACAO       0.95      0.91      0.93       363\n",
      "         B-LOCAL       0.92      0.89      0.90       111\n",
      "   B-ORGANIZACAO       0.94      0.89      0.91       456\n",
      "        B-PESSOA       0.97      0.94      0.96       309\n",
      "         B-TEMPO       0.93      0.76      0.84       241\n",
      "I-JURISPRUDENCIA       0.93      0.90      0.92       606\n",
      "    I-LEGISLACAO       0.97      0.95      0.96      2153\n",
      "         I-LOCAL       0.97      0.90      0.93       162\n",
      "   I-ORGANIZACAO       0.92      0.91      0.92       832\n",
      "        I-PESSOA       0.99      0.95      0.97       640\n",
      "         I-TEMPO       0.99      0.91      0.95       148\n",
      "               O       0.99      1.00      0.99     38523\n",
      "\n",
      "       micro avg       0.98      0.98      0.98     44779\n",
      "       macro avg       0.95      0.90      0.93     44779\n",
      "    weighted avg       0.98      0.98      0.98     44779\n",
      "\n"
     ]
    }
   ],
   "source": [
    "report = flat_classification_report(y_test, y_pred)\n",
    "print(report)"
   ]
  }
 ],
 "metadata": {
  "colab": {
   "name": "Copy of CRFtoNER.ipynb",
   "provenance": [
    {
     "file_id": "116NEMO5ZFENDk957iTVehfxlc2EgNXNr",
     "timestamp": 1570567383307
    }
   ]
  },
  "kernelspec": {
   "display_name": "Python 3",
   "language": "python",
   "name": "python3"
  },
  "language_info": {
   "codemirror_mode": {
    "name": "ipython",
    "version": 3
   },
   "file_extension": ".py",
   "mimetype": "text/x-python",
   "name": "python",
   "nbconvert_exporter": "python",
   "pygments_lexer": "ipython3",
   "version": "3.7.3"
  }
 },
 "nbformat": 4,
 "nbformat_minor": 2
}
