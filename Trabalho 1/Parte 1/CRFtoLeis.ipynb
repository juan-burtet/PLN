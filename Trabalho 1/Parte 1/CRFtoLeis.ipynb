{
 "cells": [
  {
   "cell_type": "code",
   "execution_count": null,
   "metadata": {
    "colab": {
     "base_uri": "https://localhost:8080/",
     "height": 207
    },
    "colab_type": "code",
    "executionInfo": {
     "elapsed": 5417,
     "status": "ok",
     "timestamp": 1570568527329,
     "user": {
      "displayName": "Juan Burtet",
      "photoUrl": "https://lh3.googleusercontent.com/a-/AAuE7mBXF7vkQ935dU74v9WkOZSTP1cvttRtRycdP2Z4=s64",
      "userId": "10818630050537661018"
     },
     "user_tz": 180
    },
    "id": "kQpBw8ClwKhy",
    "outputId": "3b0416ff-d786-4f3b-e2aa-136c285b3f85"
   },
   "outputs": [],
   "source": [
    "!pip install sklearn_crfsuite"
   ]
  },
  {
   "cell_type": "code",
   "execution_count": null,
   "metadata": {
    "colab": {},
    "colab_type": "code",
    "id": "tFkY0TjfgUmS"
   },
   "outputs": [],
   "source": [
    "import pandas as pd\n",
    "\n",
    "from sklearn.model_selection import train_test_split\n",
    "from sklearn_crfsuite import CRF\n",
    "from sklearn_crfsuite.metrics import flat_f1_score\n",
    "from sklearn_crfsuite.metrics import flat_classification_report"
   ]
  },
  {
   "cell_type": "code",
   "execution_count": null,
   "metadata": {},
   "outputs": [],
   "source": [
    "import spacy\n",
    "from spacy.tokenizer import Tokenizer\n",
    "!python -m spacy download pt_core_news_sm\n",
    "import pt_core_news_sm\n",
    "from tqdm import tqdm\n",
    "\n",
    "sp = pt_core_news_sm.load()"
   ]
  },
  {
   "cell_type": "code",
   "execution_count": null,
   "metadata": {},
   "outputs": [],
   "source": [
    "import os.path\n",
    "\n",
    "def create_dataset():\n",
    "    # Abre o arquivo de leis, para formata-lo igual o CRFtoNER\n",
    "    with open('Datasets/dataset.ptbr_leis.txt', 'r') as f_open, \\\n",
    "         open('Datasets/ptbr_leis.csv', 'w+') as file:\n",
    "\n",
    "        # Abre todas as linhas do arquivo\n",
    "        lines = f_open.readlines()\n",
    "\n",
    "        # Escreve o header do csv\n",
    "        file.write(\"Sentence #\\tWord\\tPOS\\tTag\\n\")\n",
    "\n",
    "        list_sent = []\n",
    "\n",
    "        # Percorre linha por linha\n",
    "        sent_i = 1\n",
    "        for line in tqdm(lines):\n",
    "\n",
    "            # Divide a linha em palavras\n",
    "            info = line.split()\n",
    "\n",
    "            # Se for menor que duas, é um '\\n',\n",
    "            # Então, é uma nova sentença\n",
    "            if len(info) != 2:\n",
    "\n",
    "                string_sent = ''\n",
    "                for s in list_sent:\n",
    "                    string_sent += s[0] + ' '\n",
    "\n",
    "                sent_sp = sp(string_sent)\n",
    "\n",
    "                string = \"\"\n",
    "                i = 0\n",
    "                for s in sent_sp:\n",
    "                    if string + s.text == list_sent[i][0]:\n",
    "\n",
    "                        file.write(\"Sentence: %d\\t\" % sent_i)\n",
    "                        file.write(\"%s\\t\" % list_sent[i][0])\n",
    "                        file.write(\"%s\\t\" % s.pos_)\n",
    "                        file.write(\"%s\\n\" % list_sent[i][1])\n",
    "\n",
    "                        string = ''\n",
    "                        i += 1\n",
    "                    else:\n",
    "                        string += s.text\n",
    "\n",
    "                list_sent = []\n",
    "                sent_i += 1\n",
    "\n",
    "            # Escreve a linha do arquivo\n",
    "            else:\n",
    "                 list_sent.append((info[0], info[1]))\n",
    "\n",
    "\n",
    "if not os.path.isfile('Datasets/ptbr_leis.csv'):\n",
    "    print(\"Criando dataset...\")\n",
    "    create_dataset()\n",
    "    \n",
    "print(\"Dataset criado!\")"
   ]
  },
  {
   "cell_type": "code",
   "execution_count": null,
   "metadata": {
    "colab": {},
    "colab_type": "code",
    "id": "iOp-aTy_ieAj"
   },
   "outputs": [],
   "source": [
    "#Reading the csv file\n",
    "df = pd.read_csv('Datasets/ptbr_leis.csv', \n",
    "                 encoding = \"UTF-8\", \n",
    "                 sep=\"\\t\")"
   ]
  },
  {
   "cell_type": "code",
   "execution_count": null,
   "metadata": {
    "colab": {
     "base_uri": "https://localhost:8080/",
     "height": 669
    },
    "colab_type": "code",
    "executionInfo": {
     "elapsed": 695,
     "status": "ok",
     "timestamp": 1570569646498,
     "user": {
      "displayName": "Juan Burtet",
      "photoUrl": "https://lh3.googleusercontent.com/a-/AAuE7mBXF7vkQ935dU74v9WkOZSTP1cvttRtRycdP2Z4=s64",
      "userId": "10818630050537661018"
     },
     "user_tz": 180
    },
    "id": "POlai37NkXB-",
    "outputId": "161fd02f-90a3-4c64-c4f7-670bcb922158"
   },
   "outputs": [],
   "source": [
    "#Display first 10 rows\n",
    "df.head(10)"
   ]
  },
  {
   "cell_type": "code",
   "execution_count": null,
   "metadata": {
    "colab": {
     "base_uri": "https://localhost:8080/",
     "height": 173
    },
    "colab_type": "code",
    "executionInfo": {
     "elapsed": 1284,
     "status": "ok",
     "timestamp": 1570568615248,
     "user": {
      "displayName": "Juan Burtet",
      "photoUrl": "https://lh3.googleusercontent.com/a-/AAuE7mBXF7vkQ935dU74v9WkOZSTP1cvttRtRycdP2Z4=s64",
      "userId": "10818630050537661018"
     },
     "user_tz": 180
    },
    "id": "Ht2NynEBkZaB",
    "outputId": "e000ff35-f053-462b-fa99-3808d7cf78c6"
   },
   "outputs": [],
   "source": [
    "df.describe()"
   ]
  },
  {
   "cell_type": "code",
   "execution_count": null,
   "metadata": {
    "colab": {
     "base_uri": "https://localhost:8080/",
     "height": 68
    },
    "colab_type": "code",
    "executionInfo": {
     "elapsed": 861,
     "status": "ok",
     "timestamp": 1570568646538,
     "user": {
      "displayName": "Juan Burtet",
      "photoUrl": "https://lh3.googleusercontent.com/a-/AAuE7mBXF7vkQ935dU74v9WkOZSTP1cvttRtRycdP2Z4=s64",
      "userId": "10818630050537661018"
     },
     "user_tz": 180
    },
    "id": "XilRrqSgkcUm",
    "outputId": "7eea9035-ee15-453c-9aee-7bca765e9f17"
   },
   "outputs": [],
   "source": [
    "#Displaying the unique Tags\n",
    "df['Tag'].unique()"
   ]
  },
  {
   "cell_type": "code",
   "execution_count": null,
   "metadata": {
    "colab": {
     "base_uri": "https://localhost:8080/",
     "height": 576
    },
    "colab_type": "code",
    "executionInfo": {
     "elapsed": 668,
     "status": "ok",
     "timestamp": 1570568652875,
     "user": {
      "displayName": "Juan Burtet",
      "photoUrl": "https://lh3.googleusercontent.com/a-/AAuE7mBXF7vkQ935dU74v9WkOZSTP1cvttRtRycdP2Z4=s64",
      "userId": "10818630050537661018"
     },
     "user_tz": 180
    },
    "id": "JZCq83mdcXQO",
    "outputId": "cc02afcd-309f-4238-ccf2-6e6f4361ee2a"
   },
   "outputs": [],
   "source": [
    "df.groupby('Tag').size().reset_index(name='counts')"
   ]
  },
  {
   "cell_type": "code",
   "execution_count": null,
   "metadata": {},
   "outputs": [],
   "source": [
    "df.groupby('POS').size().reset_index(name='counts')"
   ]
  },
  {
   "cell_type": "code",
   "execution_count": null,
   "metadata": {
    "colab": {
     "base_uri": "https://localhost:8080/",
     "height": 102
    },
    "colab_type": "code",
    "executionInfo": {
     "elapsed": 673,
     "status": "ok",
     "timestamp": 1570568659076,
     "user": {
      "displayName": "Juan Burtet",
      "photoUrl": "https://lh3.googleusercontent.com/a-/AAuE7mBXF7vkQ935dU74v9WkOZSTP1cvttRtRycdP2Z4=s64",
      "userId": "10818630050537661018"
     },
     "user_tz": 180
    },
    "id": "XCMg-VAwkfCt",
    "outputId": "bdf33b67-9bbe-47ce-c069-4207aa46a13c"
   },
   "outputs": [],
   "source": [
    "#Checking null values, if any.\n",
    "df.isnull().sum()"
   ]
  },
  {
   "cell_type": "code",
   "execution_count": null,
   "metadata": {
    "colab": {
     "base_uri": "https://localhost:8080/",
     "height": 204
    },
    "colab_type": "code",
    "executionInfo": {
     "elapsed": 671,
     "status": "ok",
     "timestamp": 1570569199784,
     "user": {
      "displayName": "Juan Burtet",
      "photoUrl": "https://lh3.googleusercontent.com/a-/AAuE7mBXF7vkQ935dU74v9WkOZSTP1cvttRtRycdP2Z4=s64",
      "userId": "10818630050537661018"
     },
     "user_tz": 180
    },
    "id": "v8L4a74gkht2",
    "outputId": "734a0f5b-3de2-4e45-9930-c5d243a8b9e7"
   },
   "outputs": [],
   "source": [
    "df = df.fillna(method = 'ffill')"
   ]
  },
  {
   "cell_type": "code",
   "execution_count": null,
   "metadata": {
    "colab": {},
    "colab_type": "code",
    "id": "0o8YTZ6okkQ6"
   },
   "outputs": [],
   "source": [
    "# This is a class te get sentence. The each sentence will be list of tuples with its tag and pos.\n",
    "class sentence(object):\n",
    "    def __init__(self, df):\n",
    "        self.n_sent = 1\n",
    "        self.df = df\n",
    "        self.empty = False\n",
    "        agg = lambda s : [(w, p, t) for w, p, t in zip(s['Word'].values.tolist(),\n",
    "                                                       s['POS'].values.tolist(),\n",
    "                                                       s['Tag'].values.tolist())]\n",
    "        self.grouped = self.df.groupby(\"Sentence #\").apply(agg)\n",
    "        self.sentences = [s for s in self.grouped]\n",
    "        \n",
    "    def get_text(self):\n",
    "        try:\n",
    "            s = self.grouped['Sentence: {}'.format(self.n_sent)]\n",
    "            self.n_sent +=1\n",
    "            return s\n",
    "        except:\n",
    "            return None"
   ]
  },
  {
   "cell_type": "code",
   "execution_count": null,
   "metadata": {
    "colab": {
     "base_uri": "https://localhost:8080/",
     "height": 54
    },
    "colab_type": "code",
    "executionInfo": {
     "elapsed": 5542,
     "status": "ok",
     "timestamp": 1570568695717,
     "user": {
      "displayName": "Juan Burtet",
      "photoUrl": "https://lh3.googleusercontent.com/a-/AAuE7mBXF7vkQ935dU74v9WkOZSTP1cvttRtRycdP2Z4=s64",
      "userId": "10818630050537661018"
     },
     "user_tz": 180
    },
    "id": "tWllmDjLkmoi",
    "outputId": "a12efc56-91a9-49f0-d633-1125c5b98651"
   },
   "outputs": [],
   "source": [
    "#Displaying one full sentence\n",
    "getter = sentence(df)\n",
    "sentences = [\" \".join([s[0] for s in sent]) for sent in getter.sentences]"
   ]
  },
  {
   "cell_type": "code",
   "execution_count": null,
   "metadata": {
    "colab": {
     "base_uri": "https://localhost:8080/",
     "height": 54
    },
    "colab_type": "code",
    "executionInfo": {
     "elapsed": 668,
     "status": "ok",
     "timestamp": 1570568702883,
     "user": {
      "displayName": "Juan Burtet",
      "photoUrl": "https://lh3.googleusercontent.com/a-/AAuE7mBXF7vkQ935dU74v9WkOZSTP1cvttRtRycdP2Z4=s64",
      "userId": "10818630050537661018"
     },
     "user_tz": 180
    },
    "id": "pw30wVJdkptS",
    "outputId": "a422e7c1-baa5-4d94-8ae4-63a41a18c1ce"
   },
   "outputs": [],
   "source": [
    "#sentence with its pos and tag.\n",
    "sent = getter.get_text()\n",
    "print(sent)"
   ]
  },
  {
   "cell_type": "code",
   "execution_count": null,
   "metadata": {
    "colab": {},
    "colab_type": "code",
    "id": "g7OGCao7kqn8"
   },
   "outputs": [],
   "source": [
    "sentences = getter.sentences"
   ]
  },
  {
   "cell_type": "code",
   "execution_count": null,
   "metadata": {
    "colab": {},
    "colab_type": "code",
    "id": "TfkFPp6BkvWK"
   },
   "outputs": [],
   "source": [
    "def isNumeroRomano(numeral):\n",
    "    numeral = numeral.upper()\n",
    "    validRomanNumerals = [\"M\", \"D\", \"C\", \"L\", \"X\", \"V\", \"I\", \"(\", \")\"]\n",
    "    valid = True\n",
    "    for letters in numeral:\n",
    "        if letters not in validRomanNumerals:\n",
    "            valid = False\n",
    "            break\n",
    "    return valid\n",
    "\n",
    "def word2features(sent, i):\n",
    "    word = sent[i][0]\n",
    "    postag = sent[i][1]\n",
    "\n",
    "    features = {\n",
    "        'bias': 1.0,\n",
    "        'word.lower()': word.lower(),\n",
    "        'Número Romano': isNumeroRomano(word),\n",
    "        'word.istitle()': word.istitle(),\n",
    "        'word.isdigit()': word.isdigit(),\n",
    "        'word.isupper()': word.isupper(),\n",
    "        'postag': postag,\n",
    "        'postag[:2]': postag[:2],\n",
    "    }\n",
    "    if i > 0:\n",
    "        word1 = sent[i-1][0]\n",
    "        postag1 = sent[i-1][1]\n",
    "        features.update({\n",
    "            '-1:word.lower()': word1.lower(),\n",
    "            '-1:Número Romano': isNumeroRomano(word1),\n",
    "            '-1:word.istitle()': word1.istitle(),\n",
    "            '+1:word.isdigit()': word1.isdigit(),\n",
    "            '-1:word.isupper()': word1.isupper(),\n",
    "            '-1:postag': postag1,\n",
    "            '-1:postag[:2]': postag1[:2],\n",
    "\n",
    "        })\n",
    "    else:\n",
    "        features['BOS'] = True\n",
    "\n",
    "    if i < len(sent)-1:\n",
    "        word1 = sent[i+1][0]\n",
    "        postag1 = sent[i+1][1]\n",
    "        features.update({\n",
    "            '+1:word.lower()': word1.lower(),\n",
    "            '+1:Número Romano': isNumeroRomano(word1),\n",
    "            '+1:word.istitle()': word1.istitle(),\n",
    "            '+1:word.isupper()': word1.isupper(),\n",
    "            '+1:postag': postag1,\n",
    "            '+1:postag[:2]': postag1[:2],\n",
    "\n",
    "        })\n",
    "    else:\n",
    "        features['EOS'] = True\n",
    "\n",
    "    return features\n",
    "\n",
    "\n",
    "def sent2features(sent):\n",
    "    return [word2features(sent, i) for i in range(len(sent))]\n",
    "\n",
    "def sent2labels(sent):\n",
    "    return [label for token, postag, label in sent]\n",
    "\n",
    "def sent2tokens(sent):\n",
    "    return [token for token, postag, label in sent]\n",
    "  "
   ]
  },
  {
   "cell_type": "code",
   "execution_count": null,
   "metadata": {
    "colab": {},
    "colab_type": "code",
    "id": "Zff7edV8kwIi"
   },
   "outputs": [],
   "source": [
    "X = [sent2features(s) for s in sentences]\n",
    "y = [sent2labels(s) for s in sentences]"
   ]
  },
  {
   "cell_type": "code",
   "execution_count": null,
   "metadata": {
    "colab": {},
    "colab_type": "code",
    "id": "XQtxNbqdkyBG"
   },
   "outputs": [],
   "source": [
    "X_train, X_test, y_train, y_test = train_test_split(X, y, test_size = 0.2)"
   ]
  },
  {
   "cell_type": "code",
   "execution_count": null,
   "metadata": {
    "colab": {
     "base_uri": "https://localhost:8080/",
     "height": 136
    },
    "colab_type": "code",
    "executionInfo": {
     "elapsed": 241483,
     "status": "ok",
     "timestamp": 1570569005705,
     "user": {
      "displayName": "Juan Burtet",
      "photoUrl": "https://lh3.googleusercontent.com/a-/AAuE7mBXF7vkQ935dU74v9WkOZSTP1cvttRtRycdP2Z4=s64",
      "userId": "10818630050537661018"
     },
     "user_tz": 180
    },
    "id": "K_gom-Dzkzyr",
    "outputId": "48adba72-92c1-481d-bded-dad31022d620"
   },
   "outputs": [],
   "source": [
    "crf = CRF(algorithm = 'lbfgs',\n",
    "         c1 = 0.1,\n",
    "         c2 = 0.1,\n",
    "         max_iterations = 100,\n",
    "         all_possible_transitions = False)\n",
    "crf.fit(X_train, y_train)"
   ]
  },
  {
   "cell_type": "code",
   "execution_count": null,
   "metadata": {
    "colab": {},
    "colab_type": "code",
    "id": "Q7tOHSAak3kd"
   },
   "outputs": [],
   "source": [
    "#Predicting on the test set.\n",
    "y_pred = crf.predict(X_test)"
   ]
  },
  {
   "cell_type": "code",
   "execution_count": null,
   "metadata": {
    "colab": {
     "base_uri": "https://localhost:8080/",
     "height": 34
    },
    "colab_type": "code",
    "executionInfo": {
     "elapsed": 1278,
     "status": "ok",
     "timestamp": 1570569753514,
     "user": {
      "displayName": "Juan Burtet",
      "photoUrl": "https://lh3.googleusercontent.com/a-/AAuE7mBXF7vkQ935dU74v9WkOZSTP1cvttRtRycdP2Z4=s64",
      "userId": "10818630050537661018"
     },
     "user_tz": 180
    },
    "id": "D-8ZfPuwk8s0",
    "outputId": "46e3439a-97a6-4248-e0a3-260725324acf"
   },
   "outputs": [],
   "source": [
    "f1_score = flat_f1_score(y_test, y_pred, average = 'weighted')\n",
    "print(f1_score)"
   ]
  },
  {
   "cell_type": "code",
   "execution_count": null,
   "metadata": {
    "colab": {
     "base_uri": "https://localhost:8080/",
     "height": 425
    },
    "colab_type": "code",
    "executionInfo": {
     "elapsed": 2539,
     "status": "ok",
     "timestamp": 1570569758243,
     "user": {
      "displayName": "Juan Burtet",
      "photoUrl": "https://lh3.googleusercontent.com/a-/AAuE7mBXF7vkQ935dU74v9WkOZSTP1cvttRtRycdP2Z4=s64",
      "userId": "10818630050537661018"
     },
     "user_tz": 180
    },
    "id": "nGCNXpxZk-zb",
    "outputId": "cf08cf90-911f-475c-f5a4-fd416ef9c9f0"
   },
   "outputs": [],
   "source": [
    "report = flat_classification_report(y_test, y_pred)\n",
    "print(report)"
   ]
  }
 ],
 "metadata": {
  "colab": {
   "name": "Copy of CRFtoNER.ipynb",
   "provenance": [
    {
     "file_id": "116NEMO5ZFENDk957iTVehfxlc2EgNXNr",
     "timestamp": 1570567383307
    }
   ]
  },
  "kernelspec": {
   "display_name": "Python 3",
   "language": "python",
   "name": "python3"
  },
  "language_info": {
   "codemirror_mode": {
    "name": "ipython",
    "version": 3
   },
   "file_extension": ".py",
   "mimetype": "text/x-python",
   "name": "python",
   "nbconvert_exporter": "python",
   "pygments_lexer": "ipython3",
   "version": "3.7.3"
  }
 },
 "nbformat": 4,
 "nbformat_minor": 2
}
