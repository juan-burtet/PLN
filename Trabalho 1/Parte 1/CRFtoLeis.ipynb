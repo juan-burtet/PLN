{
 "cells": [
  {
   "cell_type": "code",
   "execution_count": 1,
   "metadata": {
    "colab": {
     "base_uri": "https://localhost:8080/",
     "height": 207
    },
    "colab_type": "code",
    "executionInfo": {
     "elapsed": 5417,
     "status": "ok",
     "timestamp": 1570568527329,
     "user": {
      "displayName": "Juan Burtet",
      "photoUrl": "https://lh3.googleusercontent.com/a-/AAuE7mBXF7vkQ935dU74v9WkOZSTP1cvttRtRycdP2Z4=s64",
      "userId": "10818630050537661018"
     },
     "user_tz": 180
    },
    "id": "kQpBw8ClwKhy",
    "outputId": "3b0416ff-d786-4f3b-e2aa-136c285b3f85"
   },
   "outputs": [
    {
     "name": "stdout",
     "output_type": "stream",
     "text": [
      "Requirement already satisfied: sklearn_crfsuite in /home/juan-burtet/.anaconda3/lib/python3.7/site-packages (0.3.6)\n",
      "Requirement already satisfied: tqdm>=2.0 in /home/juan-burtet/.anaconda3/lib/python3.7/site-packages (from sklearn_crfsuite) (4.31.1)\n",
      "Requirement already satisfied: six in /home/juan-burtet/.anaconda3/lib/python3.7/site-packages (from sklearn_crfsuite) (1.12.0)\n",
      "Requirement already satisfied: tabulate in /home/juan-burtet/.anaconda3/lib/python3.7/site-packages (from sklearn_crfsuite) (0.8.5)\n",
      "Requirement already satisfied: python-crfsuite>=0.8.3 in /home/juan-burtet/.anaconda3/lib/python3.7/site-packages (from sklearn_crfsuite) (0.9.6)\n"
     ]
    }
   ],
   "source": [
    "!pip install sklearn_crfsuite"
   ]
  },
  {
   "cell_type": "code",
   "execution_count": 2,
   "metadata": {
    "colab": {},
    "colab_type": "code",
    "id": "tFkY0TjfgUmS"
   },
   "outputs": [],
   "source": [
    "import pandas as pd\n",
    "\n",
    "from sklearn.model_selection import train_test_split\n",
    "from sklearn_crfsuite import CRF\n",
    "from sklearn_crfsuite.metrics import flat_f1_score\n",
    "from sklearn_crfsuite.metrics import flat_classification_report"
   ]
  },
  {
   "cell_type": "code",
   "execution_count": 3,
   "metadata": {},
   "outputs": [],
   "source": [
    "# Abre o arquivo de leis, para formata-lo igual o CRFtoNER\n",
    "with open('Datasets/dataset.ptbr_leis.txt', 'r') as f_open, \\\n",
    "     open('Datasets/ptbr_leis.csv', 'w+') as file:\n",
    "    \n",
    "    # Abre todas as linhas do arquivo\n",
    "    lines = f_open.readlines()\n",
    "    \n",
    "    # Escreve o header do csv\n",
    "    file.write(\"Sentence #\\tWord\\tPOS\\tTag\\n\")\n",
    "    \n",
    "    # Percorre linha por linha\n",
    "    sent_i = 1\n",
    "    for line in lines:\n",
    "        \n",
    "        # Divide a linha em palavras\n",
    "        info = line.split()\n",
    "        \n",
    "        # Se for menor que duas, é um '\\n',\n",
    "        # Então, é uma nova sentença\n",
    "        if len(info) != 2:\n",
    "            sent_i += 1\n",
    "        \n",
    "        # Escreve a linha do arquivo\n",
    "        else:\n",
    "            \n",
    "            # No formato:\n",
    "            # Sentença \n",
    "            file.write(\"Sentence: %d\\t\" % sent_i)\n",
    "            file.write(\"%s\\t\" % info[0])\n",
    "            file.write(\"?\\t\")\n",
    "            file.write(\"%s\\n\" % info[1])"
   ]
  },
  {
   "cell_type": "code",
   "execution_count": 4,
   "metadata": {
    "colab": {},
    "colab_type": "code",
    "id": "iOp-aTy_ieAj"
   },
   "outputs": [],
   "source": [
    "#Reading the csv file\n",
    "df = pd.read_csv('Datasets/ptbr_leis.csv', encoding = \"UTF-8\", sep=\"\\t\")"
   ]
  },
  {
   "cell_type": "code",
   "execution_count": 5,
   "metadata": {
    "colab": {
     "base_uri": "https://localhost:8080/",
     "height": 669
    },
    "colab_type": "code",
    "executionInfo": {
     "elapsed": 695,
     "status": "ok",
     "timestamp": 1570569646498,
     "user": {
      "displayName": "Juan Burtet",
      "photoUrl": "https://lh3.googleusercontent.com/a-/AAuE7mBXF7vkQ935dU74v9WkOZSTP1cvttRtRycdP2Z4=s64",
      "userId": "10818630050537661018"
     },
     "user_tz": 180
    },
    "id": "POlai37NkXB-",
    "outputId": "161fd02f-90a3-4c64-c4f7-670bcb922158"
   },
   "outputs": [
    {
     "data": {
      "text/html": [
       "<div>\n",
       "<style scoped>\n",
       "    .dataframe tbody tr th:only-of-type {\n",
       "        vertical-align: middle;\n",
       "    }\n",
       "\n",
       "    .dataframe tbody tr th {\n",
       "        vertical-align: top;\n",
       "    }\n",
       "\n",
       "    .dataframe thead th {\n",
       "        text-align: right;\n",
       "    }\n",
       "</style>\n",
       "<table border=\"1\" class=\"dataframe\">\n",
       "  <thead>\n",
       "    <tr style=\"text-align: right;\">\n",
       "      <th></th>\n",
       "      <th>Sentence #</th>\n",
       "      <th>Word</th>\n",
       "      <th>POS</th>\n",
       "      <th>Tag</th>\n",
       "    </tr>\n",
       "  </thead>\n",
       "  <tbody>\n",
       "    <tr>\n",
       "      <th>0</th>\n",
       "      <td>Sentence: 1</td>\n",
       "      <td>EMENTA</td>\n",
       "      <td>?</td>\n",
       "      <td>O</td>\n",
       "    </tr>\n",
       "    <tr>\n",
       "      <th>1</th>\n",
       "      <td>Sentence: 1</td>\n",
       "      <td>:</td>\n",
       "      <td>?</td>\n",
       "      <td>O</td>\n",
       "    </tr>\n",
       "    <tr>\n",
       "      <th>2</th>\n",
       "      <td>Sentence: 1</td>\n",
       "      <td>APELAÇÃO</td>\n",
       "      <td>?</td>\n",
       "      <td>O</td>\n",
       "    </tr>\n",
       "    <tr>\n",
       "      <th>3</th>\n",
       "      <td>Sentence: 1</td>\n",
       "      <td>CÍVEL</td>\n",
       "      <td>?</td>\n",
       "      <td>O</td>\n",
       "    </tr>\n",
       "    <tr>\n",
       "      <th>4</th>\n",
       "      <td>Sentence: 1</td>\n",
       "      <td>-</td>\n",
       "      <td>?</td>\n",
       "      <td>O</td>\n",
       "    </tr>\n",
       "    <tr>\n",
       "      <th>5</th>\n",
       "      <td>Sentence: 1</td>\n",
       "      <td>AÇÃO</td>\n",
       "      <td>?</td>\n",
       "      <td>O</td>\n",
       "    </tr>\n",
       "    <tr>\n",
       "      <th>6</th>\n",
       "      <td>Sentence: 1</td>\n",
       "      <td>DE</td>\n",
       "      <td>?</td>\n",
       "      <td>O</td>\n",
       "    </tr>\n",
       "    <tr>\n",
       "      <th>7</th>\n",
       "      <td>Sentence: 1</td>\n",
       "      <td>INDENIZAÇÃO</td>\n",
       "      <td>?</td>\n",
       "      <td>O</td>\n",
       "    </tr>\n",
       "    <tr>\n",
       "      <th>8</th>\n",
       "      <td>Sentence: 1</td>\n",
       "      <td>POR</td>\n",
       "      <td>?</td>\n",
       "      <td>O</td>\n",
       "    </tr>\n",
       "    <tr>\n",
       "      <th>9</th>\n",
       "      <td>Sentence: 1</td>\n",
       "      <td>DANOS</td>\n",
       "      <td>?</td>\n",
       "      <td>O</td>\n",
       "    </tr>\n",
       "  </tbody>\n",
       "</table>\n",
       "</div>"
      ],
      "text/plain": [
       "    Sentence #         Word POS Tag\n",
       "0  Sentence: 1       EMENTA   ?   O\n",
       "1  Sentence: 1            :   ?   O\n",
       "2  Sentence: 1     APELAÇÃO   ?   O\n",
       "3  Sentence: 1        CÍVEL   ?   O\n",
       "4  Sentence: 1            -   ?   O\n",
       "5  Sentence: 1         AÇÃO   ?   O\n",
       "6  Sentence: 1           DE   ?   O\n",
       "7  Sentence: 1  INDENIZAÇÃO   ?   O\n",
       "8  Sentence: 1          POR   ?   O\n",
       "9  Sentence: 1        DANOS   ?   O"
      ]
     },
     "execution_count": 5,
     "metadata": {},
     "output_type": "execute_result"
    }
   ],
   "source": [
    "#Display first 10 rows\n",
    "df.head(10)"
   ]
  },
  {
   "cell_type": "code",
   "execution_count": 6,
   "metadata": {
    "colab": {
     "base_uri": "https://localhost:8080/",
     "height": 173
    },
    "colab_type": "code",
    "executionInfo": {
     "elapsed": 1284,
     "status": "ok",
     "timestamp": 1570568615248,
     "user": {
      "displayName": "Juan Burtet",
      "photoUrl": "https://lh3.googleusercontent.com/a-/AAuE7mBXF7vkQ935dU74v9WkOZSTP1cvttRtRycdP2Z4=s64",
      "userId": "10818630050537661018"
     },
     "user_tz": 180
    },
    "id": "Ht2NynEBkZaB",
    "outputId": "e000ff35-f053-462b-fa99-3808d7cf78c6"
   },
   "outputs": [
    {
     "data": {
      "text/html": [
       "<div>\n",
       "<style scoped>\n",
       "    .dataframe tbody tr th:only-of-type {\n",
       "        vertical-align: middle;\n",
       "    }\n",
       "\n",
       "    .dataframe tbody tr th {\n",
       "        vertical-align: top;\n",
       "    }\n",
       "\n",
       "    .dataframe thead th {\n",
       "        text-align: right;\n",
       "    }\n",
       "</style>\n",
       "<table border=\"1\" class=\"dataframe\">\n",
       "  <thead>\n",
       "    <tr style=\"text-align: right;\">\n",
       "      <th></th>\n",
       "      <th>Sentence #</th>\n",
       "      <th>Word</th>\n",
       "      <th>POS</th>\n",
       "      <th>Tag</th>\n",
       "    </tr>\n",
       "  </thead>\n",
       "  <tbody>\n",
       "    <tr>\n",
       "      <th>count</th>\n",
       "      <td>229277</td>\n",
       "      <td>229219</td>\n",
       "      <td>229277</td>\n",
       "      <td>229277</td>\n",
       "    </tr>\n",
       "    <tr>\n",
       "      <th>unique</th>\n",
       "      <td>7827</td>\n",
       "      <td>18020</td>\n",
       "      <td>1</td>\n",
       "      <td>13</td>\n",
       "    </tr>\n",
       "    <tr>\n",
       "      <th>top</th>\n",
       "      <td>Sentence: 7258</td>\n",
       "      <td>,</td>\n",
       "      <td>?</td>\n",
       "      <td>O</td>\n",
       "    </tr>\n",
       "    <tr>\n",
       "      <th>freq</th>\n",
       "      <td>755</td>\n",
       "      <td>16743</td>\n",
       "      <td>229277</td>\n",
       "      <td>197228</td>\n",
       "    </tr>\n",
       "  </tbody>\n",
       "</table>\n",
       "</div>"
      ],
      "text/plain": [
       "            Sentence #    Word     POS     Tag\n",
       "count           229277  229219  229277  229277\n",
       "unique            7827   18020       1      13\n",
       "top     Sentence: 7258       ,       ?       O\n",
       "freq               755   16743  229277  197228"
      ]
     },
     "execution_count": 6,
     "metadata": {},
     "output_type": "execute_result"
    }
   ],
   "source": [
    "df.describe()"
   ]
  },
  {
   "cell_type": "code",
   "execution_count": 7,
   "metadata": {
    "colab": {
     "base_uri": "https://localhost:8080/",
     "height": 68
    },
    "colab_type": "code",
    "executionInfo": {
     "elapsed": 861,
     "status": "ok",
     "timestamp": 1570568646538,
     "user": {
      "displayName": "Juan Burtet",
      "photoUrl": "https://lh3.googleusercontent.com/a-/AAuE7mBXF7vkQ935dU74v9WkOZSTP1cvttRtRycdP2Z4=s64",
      "userId": "10818630050537661018"
     },
     "user_tz": 180
    },
    "id": "XilRrqSgkcUm",
    "outputId": "7eea9035-ee15-453c-9aee-7bca765e9f17"
   },
   "outputs": [
    {
     "data": {
      "text/plain": [
       "array(['O', 'B-ORGANIZACAO', 'I-ORGANIZACAO', 'B-LEGISLACAO',\n",
       "       'I-LEGISLACAO', 'B-JURISPRUDENCIA', 'I-JURISPRUDENCIA', 'B-PESSOA',\n",
       "       'I-PESSOA', 'B-TEMPO', 'B-LOCAL', 'I-LOCAL', 'I-TEMPO'],\n",
       "      dtype=object)"
      ]
     },
     "execution_count": 7,
     "metadata": {},
     "output_type": "execute_result"
    }
   ],
   "source": [
    "#Displaying the unique Tags\n",
    "df['Tag'].unique()"
   ]
  },
  {
   "cell_type": "code",
   "execution_count": 8,
   "metadata": {
    "colab": {
     "base_uri": "https://localhost:8080/",
     "height": 576
    },
    "colab_type": "code",
    "executionInfo": {
     "elapsed": 668,
     "status": "ok",
     "timestamp": 1570568652875,
     "user": {
      "displayName": "Juan Burtet",
      "photoUrl": "https://lh3.googleusercontent.com/a-/AAuE7mBXF7vkQ935dU74v9WkOZSTP1cvttRtRycdP2Z4=s64",
      "userId": "10818630050537661018"
     },
     "user_tz": 180
    },
    "id": "JZCq83mdcXQO",
    "outputId": "cc02afcd-309f-4238-ccf2-6e6f4361ee2a"
   },
   "outputs": [
    {
     "data": {
      "text/html": [
       "<div>\n",
       "<style scoped>\n",
       "    .dataframe tbody tr th:only-of-type {\n",
       "        vertical-align: middle;\n",
       "    }\n",
       "\n",
       "    .dataframe tbody tr th {\n",
       "        vertical-align: top;\n",
       "    }\n",
       "\n",
       "    .dataframe thead th {\n",
       "        text-align: right;\n",
       "    }\n",
       "</style>\n",
       "<table border=\"1\" class=\"dataframe\">\n",
       "  <thead>\n",
       "    <tr style=\"text-align: right;\">\n",
       "      <th></th>\n",
       "      <th>Tag</th>\n",
       "      <th>counts</th>\n",
       "    </tr>\n",
       "  </thead>\n",
       "  <tbody>\n",
       "    <tr>\n",
       "      <th>0</th>\n",
       "      <td>B-JURISPRUDENCIA</td>\n",
       "      <td>1104</td>\n",
       "    </tr>\n",
       "    <tr>\n",
       "      <th>1</th>\n",
       "      <td>B-LEGISLACAO</td>\n",
       "      <td>1920</td>\n",
       "    </tr>\n",
       "    <tr>\n",
       "      <th>2</th>\n",
       "      <td>B-LOCAL</td>\n",
       "      <td>611</td>\n",
       "    </tr>\n",
       "    <tr>\n",
       "      <th>3</th>\n",
       "      <td>B-ORGANIZACAO</td>\n",
       "      <td>2400</td>\n",
       "    </tr>\n",
       "    <tr>\n",
       "      <th>4</th>\n",
       "      <td>B-PESSOA</td>\n",
       "      <td>1525</td>\n",
       "    </tr>\n",
       "    <tr>\n",
       "      <th>5</th>\n",
       "      <td>B-TEMPO</td>\n",
       "      <td>1334</td>\n",
       "    </tr>\n",
       "    <tr>\n",
       "      <th>6</th>\n",
       "      <td>I-JURISPRUDENCIA</td>\n",
       "      <td>2863</td>\n",
       "    </tr>\n",
       "    <tr>\n",
       "      <th>7</th>\n",
       "      <td>I-LEGISLACAO</td>\n",
       "      <td>11119</td>\n",
       "    </tr>\n",
       "    <tr>\n",
       "      <th>8</th>\n",
       "      <td>I-LOCAL</td>\n",
       "      <td>806</td>\n",
       "    </tr>\n",
       "    <tr>\n",
       "      <th>9</th>\n",
       "      <td>I-ORGANIZACAO</td>\n",
       "      <td>4271</td>\n",
       "    </tr>\n",
       "    <tr>\n",
       "      <th>10</th>\n",
       "      <td>I-PESSOA</td>\n",
       "      <td>3087</td>\n",
       "    </tr>\n",
       "    <tr>\n",
       "      <th>11</th>\n",
       "      <td>I-TEMPO</td>\n",
       "      <td>1009</td>\n",
       "    </tr>\n",
       "    <tr>\n",
       "      <th>12</th>\n",
       "      <td>O</td>\n",
       "      <td>197228</td>\n",
       "    </tr>\n",
       "  </tbody>\n",
       "</table>\n",
       "</div>"
      ],
      "text/plain": [
       "                 Tag  counts\n",
       "0   B-JURISPRUDENCIA    1104\n",
       "1       B-LEGISLACAO    1920\n",
       "2            B-LOCAL     611\n",
       "3      B-ORGANIZACAO    2400\n",
       "4           B-PESSOA    1525\n",
       "5            B-TEMPO    1334\n",
       "6   I-JURISPRUDENCIA    2863\n",
       "7       I-LEGISLACAO   11119\n",
       "8            I-LOCAL     806\n",
       "9      I-ORGANIZACAO    4271\n",
       "10          I-PESSOA    3087\n",
       "11           I-TEMPO    1009\n",
       "12                 O  197228"
      ]
     },
     "execution_count": 8,
     "metadata": {},
     "output_type": "execute_result"
    }
   ],
   "source": [
    "df.groupby('Tag').size().reset_index(name='counts')"
   ]
  },
  {
   "cell_type": "code",
   "execution_count": 9,
   "metadata": {
    "colab": {
     "base_uri": "https://localhost:8080/",
     "height": 102
    },
    "colab_type": "code",
    "executionInfo": {
     "elapsed": 673,
     "status": "ok",
     "timestamp": 1570568659076,
     "user": {
      "displayName": "Juan Burtet",
      "photoUrl": "https://lh3.googleusercontent.com/a-/AAuE7mBXF7vkQ935dU74v9WkOZSTP1cvttRtRycdP2Z4=s64",
      "userId": "10818630050537661018"
     },
     "user_tz": 180
    },
    "id": "XCMg-VAwkfCt",
    "outputId": "bdf33b67-9bbe-47ce-c069-4207aa46a13c"
   },
   "outputs": [
    {
     "data": {
      "text/plain": [
       "Sentence #     0\n",
       "Word          58\n",
       "POS            0\n",
       "Tag            0\n",
       "dtype: int64"
      ]
     },
     "execution_count": 9,
     "metadata": {},
     "output_type": "execute_result"
    }
   ],
   "source": [
    "#Checking null values, if any.\n",
    "df.isnull().sum()"
   ]
  },
  {
   "cell_type": "code",
   "execution_count": 10,
   "metadata": {
    "colab": {
     "base_uri": "https://localhost:8080/",
     "height": 204
    },
    "colab_type": "code",
    "executionInfo": {
     "elapsed": 671,
     "status": "ok",
     "timestamp": 1570569199784,
     "user": {
      "displayName": "Juan Burtet",
      "photoUrl": "https://lh3.googleusercontent.com/a-/AAuE7mBXF7vkQ935dU74v9WkOZSTP1cvttRtRycdP2Z4=s64",
      "userId": "10818630050537661018"
     },
     "user_tz": 180
    },
    "id": "v8L4a74gkht2",
    "outputId": "734a0f5b-3de2-4e45-9930-c5d243a8b9e7"
   },
   "outputs": [
    {
     "data": {
      "text/html": [
       "<div>\n",
       "<style scoped>\n",
       "    .dataframe tbody tr th:only-of-type {\n",
       "        vertical-align: middle;\n",
       "    }\n",
       "\n",
       "    .dataframe tbody tr th {\n",
       "        vertical-align: top;\n",
       "    }\n",
       "\n",
       "    .dataframe thead th {\n",
       "        text-align: right;\n",
       "    }\n",
       "</style>\n",
       "<table border=\"1\" class=\"dataframe\">\n",
       "  <thead>\n",
       "    <tr style=\"text-align: right;\">\n",
       "      <th></th>\n",
       "      <th>Sentence #</th>\n",
       "      <th>Word</th>\n",
       "      <th>POS</th>\n",
       "      <th>Tag</th>\n",
       "    </tr>\n",
       "  </thead>\n",
       "  <tbody>\n",
       "    <tr>\n",
       "      <th>0</th>\n",
       "      <td>Sentence: 1</td>\n",
       "      <td>EMENTA</td>\n",
       "      <td>?</td>\n",
       "      <td>O</td>\n",
       "    </tr>\n",
       "    <tr>\n",
       "      <th>1</th>\n",
       "      <td>Sentence: 1</td>\n",
       "      <td>:</td>\n",
       "      <td>?</td>\n",
       "      <td>O</td>\n",
       "    </tr>\n",
       "    <tr>\n",
       "      <th>2</th>\n",
       "      <td>Sentence: 1</td>\n",
       "      <td>APELAÇÃO</td>\n",
       "      <td>?</td>\n",
       "      <td>O</td>\n",
       "    </tr>\n",
       "    <tr>\n",
       "      <th>3</th>\n",
       "      <td>Sentence: 1</td>\n",
       "      <td>CÍVEL</td>\n",
       "      <td>?</td>\n",
       "      <td>O</td>\n",
       "    </tr>\n",
       "    <tr>\n",
       "      <th>4</th>\n",
       "      <td>Sentence: 1</td>\n",
       "      <td>-</td>\n",
       "      <td>?</td>\n",
       "      <td>O</td>\n",
       "    </tr>\n",
       "  </tbody>\n",
       "</table>\n",
       "</div>"
      ],
      "text/plain": [
       "    Sentence #      Word POS Tag\n",
       "0  Sentence: 1    EMENTA   ?   O\n",
       "1  Sentence: 1         :   ?   O\n",
       "2  Sentence: 1  APELAÇÃO   ?   O\n",
       "3  Sentence: 1     CÍVEL   ?   O\n",
       "4  Sentence: 1         -   ?   O"
      ]
     },
     "execution_count": 10,
     "metadata": {},
     "output_type": "execute_result"
    }
   ],
   "source": [
    "df = df.fillna(method = 'ffill')\n",
    "df.head()"
   ]
  },
  {
   "cell_type": "code",
   "execution_count": 11,
   "metadata": {
    "colab": {},
    "colab_type": "code",
    "id": "0o8YTZ6okkQ6"
   },
   "outputs": [],
   "source": [
    "# This is a class te get sentence. The each sentence will be list of tuples with its tag and pos.\n",
    "class sentence(object):\n",
    "    def __init__(self, df):\n",
    "        self.n_sent = 1\n",
    "        self.df = df\n",
    "        self.empty = False\n",
    "        agg = lambda s : [(w, p, t) for w, p, t in zip(s['Word'].values.tolist(),\n",
    "                                                       s['POS'].values.tolist(),\n",
    "                                                       s['Tag'].values.tolist())]\n",
    "        self.grouped = self.df.groupby(\"Sentence #\").apply(agg)\n",
    "        self.sentences = [s for s in self.grouped]\n",
    "        \n",
    "    def get_text(self):\n",
    "        try:\n",
    "            s = self.grouped['Sentence: {}'.format(self.n_sent)]\n",
    "            self.n_sent +=1\n",
    "            return s\n",
    "        except:\n",
    "            return None"
   ]
  },
  {
   "cell_type": "code",
   "execution_count": 18,
   "metadata": {
    "colab": {
     "base_uri": "https://localhost:8080/",
     "height": 54
    },
    "colab_type": "code",
    "executionInfo": {
     "elapsed": 5542,
     "status": "ok",
     "timestamp": 1570568695717,
     "user": {
      "displayName": "Juan Burtet",
      "photoUrl": "https://lh3.googleusercontent.com/a-/AAuE7mBXF7vkQ935dU74v9WkOZSTP1cvttRtRycdP2Z4=s64",
      "userId": "10818630050537661018"
     },
     "user_tz": 180
    },
    "id": "tWllmDjLkmoi",
    "outputId": "a12efc56-91a9-49f0-d633-1125c5b98651"
   },
   "outputs": [],
   "source": [
    "#Displaying one full sentence\n",
    "getter = sentence(df)\n",
    "sentences = [\" \".join([s[0] for s in sent]) for sent in getter.sentences]"
   ]
  },
  {
   "cell_type": "code",
   "execution_count": 21,
   "metadata": {
    "colab": {
     "base_uri": "https://localhost:8080/",
     "height": 54
    },
    "colab_type": "code",
    "executionInfo": {
     "elapsed": 668,
     "status": "ok",
     "timestamp": 1570568702883,
     "user": {
      "displayName": "Juan Burtet",
      "photoUrl": "https://lh3.googleusercontent.com/a-/AAuE7mBXF7vkQ935dU74v9WkOZSTP1cvttRtRycdP2Z4=s64",
      "userId": "10818630050537661018"
     },
     "user_tz": 180
    },
    "id": "pw30wVJdkptS",
    "outputId": "a422e7c1-baa5-4d94-8ae4-63a41a18c1ce"
   },
   "outputs": [
    {
     "name": "stdout",
     "output_type": "stream",
     "text": [
      "[('-', '?', 'O'), ('O', '?', 'O'), ('art', '?', 'B-LEGISLACAO'), ('.', '?', 'I-LEGISLACAO'), ('178', '?', 'I-LEGISLACAO'), (',', '?', 'I-LEGISLACAO'), ('II', '?', 'I-LEGISLACAO'), (',', '?', 'I-LEGISLACAO'), ('do', '?', 'I-LEGISLACAO'), ('CPC', '?', 'I-LEGISLACAO'), ('prescreve', '?', 'O'), ('que', '?', 'O'), ('compete', '?', 'O'), ('ao', '?', 'O'), ('Ministério', '?', 'B-ORGANIZACAO'), ('Público', '?', 'I-ORGANIZACAO'), ('intervir', '?', 'O'), ('nas', '?', 'O'), ('causas', '?', 'O'), ('em', '?', 'O'), ('que', '?', 'O'), ('há', '?', 'O'), ('interesses', '?', 'O'), ('de', '?', 'O'), ('incapazes', '?', 'O'), (',', '?', 'O'), ('dispondo', '?', 'O'), ('o', '?', 'O'), ('art', '?', 'O'), ('.', '?', 'O'), ('279', '?', 'O'), ('do', '?', 'O'), ('mesmo', '?', 'O'), ('diploma', '?', 'O'), ('que', '?', 'O'), ('o', '?', 'O'), ('processo', '?', 'O'), ('será', '?', 'O'), ('nulo', '?', 'O'), ('quando', '?', 'O'), ('o', '?', 'O'), ('Ministério', '?', 'B-ORGANIZACAO'), ('Público', '?', 'I-ORGANIZACAO'), ('não', '?', 'O'), ('for', '?', 'O'), ('intimado', '?', 'O'), ('para', '?', 'O'), ('acompanhar', '?', 'O'), ('o', '?', 'O'), ('feito', '?', 'O'), ('em', '?', 'O'), ('que', '?', 'O'), ('deve', '?', 'O'), ('intervir', '?', 'O'), ('.', '?', 'O')]\n"
     ]
    }
   ],
   "source": [
    "#sentence with its pos and tag.\n",
    "sent = getter.get_text()\n",
    "print(sent)"
   ]
  },
  {
   "cell_type": "code",
   "execution_count": 19,
   "metadata": {
    "colab": {},
    "colab_type": "code",
    "id": "g7OGCao7kqn8"
   },
   "outputs": [
    {
     "data": {
      "text/plain": [
       "[('II', '?', 'O'), ('.', '?', 'O')]"
      ]
     },
     "execution_count": 19,
     "metadata": {},
     "output_type": "execute_result"
    }
   ],
   "source": [
    "sentences = getter.sentences\n",
    "\n",
    "sentences[1]"
   ]
  },
  {
   "cell_type": "code",
   "execution_count": 28,
   "metadata": {
    "colab": {},
    "colab_type": "code",
    "id": "TfkFPp6BkvWK"
   },
   "outputs": [],
   "source": [
    "def word2features(sent, i):\n",
    "    word = sent[i][0]\n",
    "    postag = sent[i][1]\n",
    "\n",
    "    features = {\n",
    "        'bias': 1.0,\n",
    "        'word.lower()': word.lower(),\n",
    "        'word[-3:]': word[-3:],\n",
    "        'word[-2:]': word[-2:],\n",
    "        'word.isupper()': word.isupper(),\n",
    "        'word.istitle()': word.istitle(),\n",
    "        'word.isdigit()': word.isdigit(),\n",
    "        #'postag': postag,\n",
    "        #'postag[:2]': postag[:2],\n",
    "    }\n",
    "    if i > 0:\n",
    "        word1 = sent[i-1][0]\n",
    "        postag1 = sent[i-1][1]\n",
    "        features.update({\n",
    "            '-1:word.lower()': word1.lower(),\n",
    "            '-1:word.istitle()': word1.istitle(),\n",
    "            '-1:word.isupper()': word1.isupper(),\n",
    "            #'-1:postag': postag1,\n",
    "            #'-1:postag[:2]': postag1[:2],\n",
    "\n",
    "        })\n",
    "    else:\n",
    "        features['BOS'] = True\n",
    "\n",
    "    if i < len(sent)-1:\n",
    "        word1 = sent[i+1][0]\n",
    "        postag1 = sent[i+1][1]\n",
    "        features.update({\n",
    "            '+1:word.lower()': word1.lower(),\n",
    "            '+1:word.istitle()': word1.istitle(),\n",
    "            '+1:word.isupper()': word1.isupper(),\n",
    "            #'+1:postag': postag1,\n",
    "            #'+1:postag[:2]': postag1[:2],\n",
    "\n",
    "        })\n",
    "    else:\n",
    "        features['EOS'] = True\n",
    "\n",
    "    return features\n",
    "\n",
    "\n",
    "def sent2features(sent):\n",
    "    return [word2features(sent, i) for i in range(len(sent))]\n",
    "\n",
    "def sent2labels(sent):\n",
    "    return [label for token, postag, label in sent]\n",
    "\n",
    "def sent2tokens(sent):\n",
    "    return [token for token, postag, label in sent]\n",
    "  "
   ]
  },
  {
   "cell_type": "code",
   "execution_count": 29,
   "metadata": {
    "colab": {},
    "colab_type": "code",
    "id": "Zff7edV8kwIi"
   },
   "outputs": [],
   "source": [
    "X = [sent2features(s) for s in sentences]\n",
    "y = [sent2labels(s) for s in sentences]"
   ]
  },
  {
   "cell_type": "code",
   "execution_count": 30,
   "metadata": {
    "colab": {},
    "colab_type": "code",
    "id": "XQtxNbqdkyBG"
   },
   "outputs": [],
   "source": [
    "X_train, X_test, y_train, y_test = train_test_split(X, y, test_size = 0.2)"
   ]
  },
  {
   "cell_type": "code",
   "execution_count": 31,
   "metadata": {
    "colab": {
     "base_uri": "https://localhost:8080/",
     "height": 136
    },
    "colab_type": "code",
    "executionInfo": {
     "elapsed": 241483,
     "status": "ok",
     "timestamp": 1570569005705,
     "user": {
      "displayName": "Juan Burtet",
      "photoUrl": "https://lh3.googleusercontent.com/a-/AAuE7mBXF7vkQ935dU74v9WkOZSTP1cvttRtRycdP2Z4=s64",
      "userId": "10818630050537661018"
     },
     "user_tz": 180
    },
    "id": "K_gom-Dzkzyr",
    "outputId": "48adba72-92c1-481d-bded-dad31022d620"
   },
   "outputs": [
    {
     "data": {
      "text/plain": [
       "CRF(algorithm='lbfgs', all_possible_states=None,\n",
       "  all_possible_transitions=False, averaging=None, c=None, c1=0.1, c2=0.1,\n",
       "  calibration_candidates=None, calibration_eta=None,\n",
       "  calibration_max_trials=None, calibration_rate=None,\n",
       "  calibration_samples=None, delta=None, epsilon=None, error_sensitive=None,\n",
       "  gamma=None, keep_tempfiles=None, linesearch=None, max_iterations=100,\n",
       "  max_linesearch=None, min_freq=None, model_filename=None,\n",
       "  num_memories=None, pa_type=None, period=None, trainer_cls=None,\n",
       "  variance=None, verbose=False)"
      ]
     },
     "execution_count": 31,
     "metadata": {},
     "output_type": "execute_result"
    }
   ],
   "source": [
    "crf = CRF(algorithm = 'lbfgs',\n",
    "         c1 = 0.1,\n",
    "         c2 = 0.1,\n",
    "         max_iterations = 100,\n",
    "         all_possible_transitions = False)\n",
    "crf.fit(X_train, y_train)"
   ]
  },
  {
   "cell_type": "code",
   "execution_count": 32,
   "metadata": {
    "colab": {},
    "colab_type": "code",
    "id": "Q7tOHSAak3kd"
   },
   "outputs": [],
   "source": [
    "#Predicting on the test set.\n",
    "y_pred = crf.predict(X_test)"
   ]
  },
  {
   "cell_type": "code",
   "execution_count": 33,
   "metadata": {
    "colab": {
     "base_uri": "https://localhost:8080/",
     "height": 34
    },
    "colab_type": "code",
    "executionInfo": {
     "elapsed": 1278,
     "status": "ok",
     "timestamp": 1570569753514,
     "user": {
      "displayName": "Juan Burtet",
      "photoUrl": "https://lh3.googleusercontent.com/a-/AAuE7mBXF7vkQ935dU74v9WkOZSTP1cvttRtRycdP2Z4=s64",
      "userId": "10818630050537661018"
     },
     "user_tz": 180
    },
    "id": "D-8ZfPuwk8s0",
    "outputId": "46e3439a-97a6-4248-e0a3-260725324acf"
   },
   "outputs": [
    {
     "name": "stdout",
     "output_type": "stream",
     "text": [
      "0.9851018990237566\n"
     ]
    }
   ],
   "source": [
    "f1_score = flat_f1_score(y_test, y_pred, average = 'weighted')\n",
    "print(f1_score)"
   ]
  },
  {
   "cell_type": "code",
   "execution_count": 34,
   "metadata": {
    "colab": {
     "base_uri": "https://localhost:8080/",
     "height": 425
    },
    "colab_type": "code",
    "executionInfo": {
     "elapsed": 2539,
     "status": "ok",
     "timestamp": 1570569758243,
     "user": {
      "displayName": "Juan Burtet",
      "photoUrl": "https://lh3.googleusercontent.com/a-/AAuE7mBXF7vkQ935dU74v9WkOZSTP1cvttRtRycdP2Z4=s64",
      "userId": "10818630050537661018"
     },
     "user_tz": 180
    },
    "id": "nGCNXpxZk-zb",
    "outputId": "cf08cf90-911f-475c-f5a4-fd416ef9c9f0"
   },
   "outputs": [
    {
     "name": "stdout",
     "output_type": "stream",
     "text": [
      "                  precision    recall  f1-score   support\n",
      "\n",
      "B-JURISPRUDENCIA       0.92      0.88      0.90       234\n",
      "    B-LEGISLACAO       0.91      0.92      0.91       418\n",
      "         B-LOCAL       0.84      0.88      0.86       111\n",
      "   B-ORGANIZACAO       0.93      0.90      0.92       464\n",
      "        B-PESSOA       0.99      0.96      0.98       286\n",
      "         B-TEMPO       0.95      0.92      0.93       280\n",
      "I-JURISPRUDENCIA       0.90      0.89      0.90       647\n",
      "    I-LEGISLACAO       0.96      0.94      0.95      2572\n",
      "         I-LOCAL       0.89      0.93      0.91       163\n",
      "   I-ORGANIZACAO       0.90      0.94      0.92       808\n",
      "        I-PESSOA       0.99      0.97      0.98       570\n",
      "         I-TEMPO       0.96      0.90      0.93       201\n",
      "               O       0.99      0.99      0.99     41248\n",
      "\n",
      "       micro avg       0.99      0.99      0.99     48002\n",
      "       macro avg       0.93      0.92      0.93     48002\n",
      "    weighted avg       0.99      0.99      0.99     48002\n",
      "\n"
     ]
    }
   ],
   "source": [
    "report = flat_classification_report(y_test, y_pred)\n",
    "print(report)"
   ]
  }
 ],
 "metadata": {
  "colab": {
   "name": "Copy of CRFtoNER.ipynb",
   "provenance": [
    {
     "file_id": "116NEMO5ZFENDk957iTVehfxlc2EgNXNr",
     "timestamp": 1570567383307
    }
   ]
  },
  "kernelspec": {
   "display_name": "Python 3",
   "language": "python",
   "name": "python3"
  },
  "language_info": {
   "codemirror_mode": {
    "name": "ipython",
    "version": 3
   },
   "file_extension": ".py",
   "mimetype": "text/x-python",
   "name": "python",
   "nbconvert_exporter": "python",
   "pygments_lexer": "ipython3",
   "version": "3.7.3"
  }
 },
 "nbformat": 4,
 "nbformat_minor": 2
}
