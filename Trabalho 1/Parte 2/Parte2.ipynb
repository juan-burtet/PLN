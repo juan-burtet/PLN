{
 "cells": [
  {
   "cell_type": "markdown",
   "metadata": {},
   "source": [
    "# **Trabalho 1 - PLN**\n",
    "## **Parte 2**"
   ]
  },
  {
   "cell_type": "markdown",
   "metadata": {},
   "source": [
    "#### Importando as bibliotecas"
   ]
  },
  {
   "cell_type": "code",
   "execution_count": 1,
   "metadata": {},
   "outputs": [],
   "source": [
    "import pandas as pd"
   ]
  },
  {
   "cell_type": "markdown",
   "metadata": {},
   "source": [
    "#### Carregando o _dataset_"
   ]
  },
  {
   "cell_type": "code",
   "execution_count": 6,
   "metadata": {},
   "outputs": [
    {
     "data": {
      "text/html": [
       "<div>\n",
       "<style scoped>\n",
       "    .dataframe tbody tr th:only-of-type {\n",
       "        vertical-align: middle;\n",
       "    }\n",
       "\n",
       "    .dataframe tbody tr th {\n",
       "        vertical-align: top;\n",
       "    }\n",
       "\n",
       "    .dataframe thead th {\n",
       "        text-align: right;\n",
       "    }\n",
       "</style>\n",
       "<table border=\"1\" class=\"dataframe\">\n",
       "  <thead>\n",
       "    <tr style=\"text-align: right;\">\n",
       "      <th></th>\n",
       "      <th>SENTENCE_ID</th>\n",
       "      <th>RELATION_ID</th>\n",
       "      <th>SENTENCE</th>\n",
       "      <th>ARGUMENT_1</th>\n",
       "      <th>ARGUMENT_1_CATEGORY</th>\n",
       "      <th>RELATION</th>\n",
       "      <th>ARGUMENT_2</th>\n",
       "      <th>ARGUMENT_2_CATEGORY</th>\n",
       "    </tr>\n",
       "  </thead>\n",
       "  <tbody>\n",
       "    <tr>\n",
       "      <td>0</td>\n",
       "      <td>3</td>\n",
       "      <td>1</td>\n",
       "      <td>Marcelo_Tejedor, paleontólogo de a Universidad...</td>\n",
       "      <td>Marcelo_Tejedor</td>\n",
       "      <td>PER</td>\n",
       "      <td>1</td>\n",
       "      <td>Universidade_Nacional_da_Patagônia</td>\n",
       "      <td>ORG</td>\n",
       "    </tr>\n",
       "    <tr>\n",
       "      <td>1</td>\n",
       "      <td>4</td>\n",
       "      <td>3</td>\n",
       "      <td>Esse é um alvo viável para remédios contra a o...</td>\n",
       "      <td>John_Clapham</td>\n",
       "      <td>PER</td>\n",
       "      <td>1</td>\n",
       "      <td>Smith_Kline_Beecham</td>\n",
       "      <td>ORG</td>\n",
       "    </tr>\n",
       "    <tr>\n",
       "      <td>2</td>\n",
       "      <td>9</td>\n",
       "      <td>2</td>\n",
       "      <td>Um grupo que reúne 13 sociedades científicas n...</td>\n",
       "      <td>Associação_Nacional_de_Biossegurança</td>\n",
       "      <td>ORG</td>\n",
       "      <td>7</td>\n",
       "      <td>ANBio</td>\n",
       "      <td>ORG</td>\n",
       "    </tr>\n",
       "    <tr>\n",
       "      <td>3</td>\n",
       "      <td>10</td>\n",
       "      <td>1</td>\n",
       "      <td>Primeiro, pede que a CTNBio (Comissão_Técnica_...</td>\n",
       "      <td>CTNBio</td>\n",
       "      <td>ORG</td>\n",
       "      <td>7</td>\n",
       "      <td>Comissão_Técnica_Nacional_de_Biossegurança</td>\n",
       "      <td>ORG</td>\n",
       "    </tr>\n",
       "    <tr>\n",
       "      <td>4</td>\n",
       "      <td>11</td>\n",
       "      <td>1</td>\n",
       "      <td>A idéia foi lançada por o ministro_Roberto_Ama...</td>\n",
       "      <td>ministro_Roberto_Amaral</td>\n",
       "      <td>PER</td>\n",
       "      <td>2</td>\n",
       "      <td>Ciência_e_Tecnologia</td>\n",
       "      <td>ORG</td>\n",
       "    </tr>\n",
       "  </tbody>\n",
       "</table>\n",
       "</div>"
      ],
      "text/plain": [
       "   SENTENCE_ID  RELATION_ID  \\\n",
       "0            3            1   \n",
       "1            4            3   \n",
       "2            9            2   \n",
       "3           10            1   \n",
       "4           11            1   \n",
       "\n",
       "                                            SENTENCE  \\\n",
       "0  Marcelo_Tejedor, paleontólogo de a Universidad...   \n",
       "1  Esse é um alvo viável para remédios contra a o...   \n",
       "2  Um grupo que reúne 13 sociedades científicas n...   \n",
       "3  Primeiro, pede que a CTNBio (Comissão_Técnica_...   \n",
       "4  A idéia foi lançada por o ministro_Roberto_Ama...   \n",
       "\n",
       "                             ARGUMENT_1 ARGUMENT_1_CATEGORY  RELATION  \\\n",
       "0                       Marcelo_Tejedor                 PER         1   \n",
       "1                          John_Clapham                 PER         1   \n",
       "2  Associação_Nacional_de_Biossegurança                 ORG         7   \n",
       "3                                CTNBio                 ORG         7   \n",
       "4               ministro_Roberto_Amaral                 PER         2   \n",
       "\n",
       "                                   ARGUMENT_2 ARGUMENT_2_CATEGORY  \n",
       "0          Universidade_Nacional_da_Patagônia                 ORG  \n",
       "1                         Smith_Kline_Beecham                 ORG  \n",
       "2                                       ANBio                 ORG  \n",
       "3  Comissão_Técnica_Nacional_de_Biossegurança                 ORG  \n",
       "4                        Ciência_e_Tecnologia                 ORG  "
      ]
     },
     "execution_count": 6,
     "metadata": {},
     "output_type": "execute_result"
    }
   ],
   "source": [
    "data = pd.read_csv('dataset.ptbr_harem.csv', delimiter=';')\n",
    "data.head()"
   ]
  },
  {
   "cell_type": "markdown",
   "metadata": {},
   "source": [
    "#### Carregando as relações definidas"
   ]
  },
  {
   "cell_type": "code",
   "execution_count": 7,
   "metadata": {},
   "outputs": [
    {
     "data": {
      "text/html": [
       "<div>\n",
       "<style scoped>\n",
       "    .dataframe tbody tr th:only-of-type {\n",
       "        vertical-align: middle;\n",
       "    }\n",
       "\n",
       "    .dataframe tbody tr th {\n",
       "        vertical-align: top;\n",
       "    }\n",
       "\n",
       "    .dataframe thead th {\n",
       "        text-align: right;\n",
       "    }\n",
       "</style>\n",
       "<table border=\"1\" class=\"dataframe\">\n",
       "  <thead>\n",
       "    <tr style=\"text-align: right;\">\n",
       "      <th></th>\n",
       "      <th>relation_id</th>\n",
       "      <th>relation_name</th>\n",
       "      <th>relation_tuples</th>\n",
       "    </tr>\n",
       "  </thead>\n",
       "  <tbody>\n",
       "    <tr>\n",
       "      <td>0</td>\n",
       "      <td>1</td>\n",
       "      <td>trabalha em</td>\n",
       "      <td>(PER,ORG),(ORG,ORG),(ORG,PLC)</td>\n",
       "    </tr>\n",
       "    <tr>\n",
       "      <td>1</td>\n",
       "      <td>2</td>\n",
       "      <td>trabalha com</td>\n",
       "      <td>(PLC, ORG),(ORG, ORG),(ORG, PER),(PER, ORG)</td>\n",
       "    </tr>\n",
       "    <tr>\n",
       "      <td>2</td>\n",
       "      <td>3</td>\n",
       "      <td>pertence a/ao</td>\n",
       "      <td>(PER, ORG),(ORG, ORG),(ORG, PLC)</td>\n",
       "    </tr>\n",
       "    <tr>\n",
       "      <td>3</td>\n",
       "      <td>4</td>\n",
       "      <td>é localizada(o) em</td>\n",
       "      <td>(ORG, ORG),(ORG, PLC),(PER, PLC)</td>\n",
       "    </tr>\n",
       "    <tr>\n",
       "      <td>4</td>\n",
       "      <td>5</td>\n",
       "      <td>é o local de</td>\n",
       "      <td>(PLC, ORG),(ORG, ORG),(ORG, PLC)</td>\n",
       "    </tr>\n",
       "    <tr>\n",
       "      <td>5</td>\n",
       "      <td>6</td>\n",
       "      <td>é fundada(o) por</td>\n",
       "      <td>(ORG, PER)</td>\n",
       "    </tr>\n",
       "    <tr>\n",
       "      <td>6</td>\n",
       "      <td>7</td>\n",
       "      <td>sigla</td>\n",
       "      <td>(ORG, ORG)</td>\n",
       "    </tr>\n",
       "    <tr>\n",
       "      <td>7</td>\n",
       "      <td>8</td>\n",
       "      <td>está relacionada(o) com</td>\n",
       "      <td>ALL</td>\n",
       "    </tr>\n",
       "  </tbody>\n",
       "</table>\n",
       "</div>"
      ],
      "text/plain": [
       "   relation_id            relation_name  \\\n",
       "0            1              trabalha em   \n",
       "1            2             trabalha com   \n",
       "2            3            pertence a/ao   \n",
       "3            4       é localizada(o) em   \n",
       "4            5             é o local de   \n",
       "5            6         é fundada(o) por   \n",
       "6            7                    sigla   \n",
       "7            8  está relacionada(o) com   \n",
       "\n",
       "                               relation_tuples  \n",
       "0                (PER,ORG),(ORG,ORG),(ORG,PLC)  \n",
       "1  (PLC, ORG),(ORG, ORG),(ORG, PER),(PER, ORG)  \n",
       "2             (PER, ORG),(ORG, ORG),(ORG, PLC)  \n",
       "3             (ORG, ORG),(ORG, PLC),(PER, PLC)  \n",
       "4             (PLC, ORG),(ORG, ORG),(ORG, PLC)  \n",
       "5                                   (ORG, PER)  \n",
       "6                                   (ORG, ORG)  \n",
       "7                                          ALL  "
      ]
     },
     "execution_count": 7,
     "metadata": {},
     "output_type": "execute_result"
    }
   ],
   "source": [
    "relations = pd.read_csv('relations.csv', delimiter=';')\n",
    "relations"
   ]
  },
  {
   "cell_type": "markdown",
   "metadata": {},
   "source": [
    "#### **Definindo as regras**"
   ]
  },
  {
   "cell_type": "code",
   "execution_count": null,
   "metadata": {},
   "outputs": [],
   "source": []
  }
 ],
 "metadata": {
  "kernelspec": {
   "display_name": "Python 3",
   "language": "python",
   "name": "python3"
  },
  "language_info": {
   "codemirror_mode": {
    "name": "ipython",
    "version": 3
   },
   "file_extension": ".py",
   "mimetype": "text/x-python",
   "name": "python",
   "nbconvert_exporter": "python",
   "pygments_lexer": "ipython3",
   "version": "3.7.4"
  }
 },
 "nbformat": 4,
 "nbformat_minor": 4
}
